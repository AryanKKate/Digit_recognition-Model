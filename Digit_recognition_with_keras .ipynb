{
  "nbformat": 4,
  "nbformat_minor": 0,
  "metadata": {
    "accelerator": "GPU",
    "colab": {
      "provenance": []
    },
    "kernelspec": {
      "display_name": "Python 3",
      "language": "python",
      "name": "python3"
    },
    "language_info": {
      "codemirror_mode": {
        "name": "ipython",
        "version": 3
      },
      "file_extension": ".py",
      "mimetype": "text/x-python",
      "name": "python",
      "nbconvert_exporter": "python",
      "pygments_lexer": "ipython3",
      "version": "3.7.3"
    }
  },
  "cells": [
    {
      "cell_type": "markdown",
      "source": [
        "##Importing Required Libraries"
      ],
      "metadata": {
        "id": "VIxvaNDhSVZ8"
      }
    },
    {
      "cell_type": "code",
      "metadata": {
        "id": "67X8rxw7gJH0"
      },
      "source": [
        "import numpy as np"
        "import cv2"
        "import matplotlib.pyplot as plt"
        "from tensorflow.keras.preprocessing import image"
        "from tensorflow import keras"S
        "from tensorflow import keras\n",
        "from tensorflow.keras.datasets import mnist\n",
        "from tensorflow.keras.layers import Dense,Dropout\n",
        "from tensorflow.keras.models import Sequential\n"
      ],
      "execution_count": 1,
      "outputs": []
    },
    {
      "cell_type": "markdown",
      "source": [
        "##Loading the MNIST dataset"
      ],
      "metadata": {
        "id": "wWIMzmbiR9VP"
      }
    },
    {
      "cell_type": "code",
      "metadata": {
        "id": "KJwXf0jmI3Wx",
        "colab": {
          "base_uri": "https://localhost:8080/"
        },
        "outputId": "23c1d991-b643-481c-ca66-73d55c6dc19e"
      },
      "source": [
        "(train_x, train_y) , (test_x, test_y) = mnist.load_data()\n",
        "\n"
      ],
      "execution_count": 2,
      "outputs": [
        {
          "output_type": "stream",
          "name": "stdout",
          "text": [
            "Downloading data from https://storage.googleapis.com/tensorflow/tf-keras-datasets/mnist.npz\n",
            "11490434/11490434 [==============================] - 0s 0us/step\n"
          ]
        }
      ]
    },
    {
      "cell_type": "markdown",
      "source": [
        "##Preprocessing and Feature Scaling wrt 255 pixels"
      ],
      "metadata": {
        "id": "J2Dcdg2qSgD9"
      }
    },
    {
      "cell_type": "code",
      "metadata": {
        "id": "EcDX1fb4I3XB",
        "colab": {
          "base_uri": "https://localhost:8080/"
        },
        "outputId": "e48f304a-4d34-403e-ac5d-c848807f0ed3"
      },
      "source": [
        "train_x = train_x.astype('float32') / 255\n",
        "test_x = test_x.astype('float32') / 255\n",
        "\n",
        "\n",
        "print(train_x.shape)\n",
        "print(train_y.shape)\n",
        "print(test_x.shape)\n",
        "print(test_y.shape)\n"
      ],
      "execution_count": 3,
      "outputs": [
        {
          "output_type": "stream",
          "name": "stdout",
          "text": [
            "(60000, 28, 28)\n",
            "(60000,)\n",
            "(10000, 28, 28)\n",
            "(10000,)\n"
          ]
        }
      ]
    },
    {
      "cell_type": "markdown",
      "source": [
        "##Preparing the Dataset"
      ],
      "metadata": {
        "id": "0wRH--yzSblM"
      }
    },
    {
      "cell_type": "code",
      "metadata": {
        "id": "zG2gp6WCI3XM"
      },
      "source": [
        "\n",
        "train_x = train_x.reshape(60000,784)\n",
        "test_x = test_x.reshape(10000,784)\n",
        "\n",
        "train_y = keras.utils.to_categorical(train_y,10)\n",
        "test_y = keras.utils.to_categorical(test_y,10)\n",
        "\n"
      ],
      "execution_count": 4,
      "outputs": []
    },
    {
      "cell_type": "markdown",
      "source": [
        "##Sequential 5 layers NN model"
      ],
      "metadata": {
        "id": "gVSzqQ9SSoNc"
      }
    },
    {
      "cell_type": "code",
      "metadata": {
        "id": "CHWN98LVI3Xc"
      },
      "source": [
        "model = Sequential()\n",
        "model.add(Dense(units=256,activation=\"relu\",input_shape=(784,)))\n",
        "model.add(Dropout(0.4))\n",
        "\n",
        "model.add(Dense(units=128,activation=\"relu\"))\n",
        "model.add(Dropout(0.3))\n",
        "\n",
        "model.add(Dense(units=128,activation=\"relu\"))\n",
        "model.add(Dropout(0.4))\n",
        "\n",
        "model.add(Dense(units=64,activation=\"relu\"))\n",
        "model.add(Dropout(0.4))\n",
        "\n",
        "model.add(Dense(units=10,activation=\"softmax\"))"
      ],
      "execution_count": 5,
      "outputs": []
    },
    {
      "cell_type": "code",
      "metadata": {
        "id": "n5UqtplCI3Xn"
      },
      "source": [
        "model.compile(optimizer='Adam',loss=\"categorical_crossentropy\",metrics=[\"accuracy\"])\n",
        "\n"
      ],
      "execution_count": 6,
      "outputs": []
    },
    {
      "cell_type": "code",
      "metadata": {
        "id": "8NgXSbnwI3X0",
        "colab": {
          "base_uri": "https://localhost:8080/"
        },
        "outputId": "55047581-b42b-4cc4-d335-fbc1e1856ef1"
      },
      "source": [
        "H=model.fit(train_x,train_y,batch_size=2048,epochs=100)"
      ],
      "execution_count": 7,
      "outputs": [
        {
          "output_type": "stream",
          "name": "stdout",
          "text": [
            "Epoch 1/100\n",
            "30/30 [==============================] - 4s 7ms/step - loss: 1.8148 - accuracy: 0.3596\n",
            "Epoch 2/100\n",
            "30/30 [==============================] - 0s 7ms/step - loss: 0.7991 - accuracy: 0.7406\n",
            "Epoch 3/100\n",
            "30/30 [==============================] - 0s 7ms/step - loss: 0.4693 - accuracy: 0.8667\n",
            "Epoch 4/100\n",
            "30/30 [==============================] - 0s 7ms/step - loss: 0.3519 - accuracy: 0.9053\n",
            "Epoch 5/100\n",
            "30/30 [==============================] - 0s 9ms/step - loss: 0.2928 - accuracy: 0.9217\n",
            "Epoch 6/100\n",
            "30/30 [==============================] - 0s 7ms/step - loss: 0.2504 - accuracy: 0.9342\n",
            "Epoch 7/100\n",
            "30/30 [==============================] - 0s 8ms/step - loss: 0.2241 - accuracy: 0.9417\n",
            "Epoch 8/100\n",
            "30/30 [==============================] - 0s 7ms/step - loss: 0.1989 - accuracy: 0.9492\n",
            "Epoch 9/100\n",
            "30/30 [==============================] - 0s 8ms/step - loss: 0.1793 - accuracy: 0.9525\n",
            "Epoch 10/100\n",
            "30/30 [==============================] - 0s 8ms/step - loss: 0.1693 - accuracy: 0.9567\n",
            "Epoch 11/100\n",
            "30/30 [==============================] - 0s 7ms/step - loss: 0.1595 - accuracy: 0.9588\n",
            "Epoch 12/100\n",
            "30/30 [==============================] - 0s 7ms/step - loss: 0.1461 - accuracy: 0.9618\n",
            "Epoch 13/100\n",
            "30/30 [==============================] - 0s 8ms/step - loss: 0.1381 - accuracy: 0.9644\n",
            "Epoch 14/100\n",
            "30/30 [==============================] - 0s 8ms/step - loss: 0.1327 - accuracy: 0.9659\n",
            "Epoch 15/100\n",
            "30/30 [==============================] - 0s 7ms/step - loss: 0.1263 - accuracy: 0.9671\n",
            "Epoch 16/100\n",
            "30/30 [==============================] - 0s 7ms/step - loss: 0.1185 - accuracy: 0.9692\n",
            "Epoch 17/100\n",
            "30/30 [==============================] - 0s 7ms/step - loss: 0.1137 - accuracy: 0.9701\n",
            "Epoch 18/100\n",
            "30/30 [==============================] - 0s 8ms/step - loss: 0.1104 - accuracy: 0.9718\n",
            "Epoch 19/100\n",
            "30/30 [==============================] - 0s 7ms/step - loss: 0.0991 - accuracy: 0.9740\n",
            "Epoch 20/100\n",
            "30/30 [==============================] - 0s 7ms/step - loss: 0.0988 - accuracy: 0.9748\n",
            "Epoch 21/100\n",
            "30/30 [==============================] - 0s 7ms/step - loss: 0.0942 - accuracy: 0.9753\n",
            "Epoch 22/100\n",
            "30/30 [==============================] - 0s 7ms/step - loss: 0.0895 - accuracy: 0.9762\n",
            "Epoch 23/100\n",
            "30/30 [==============================] - 0s 7ms/step - loss: 0.0895 - accuracy: 0.9762\n",
            "Epoch 24/100\n",
            "30/30 [==============================] - 0s 7ms/step - loss: 0.0847 - accuracy: 0.9776\n",
            "Epoch 25/100\n",
            "30/30 [==============================] - 0s 7ms/step - loss: 0.0795 - accuracy: 0.9793\n",
            "Epoch 26/100\n",
            "30/30 [==============================] - 0s 7ms/step - loss: 0.0805 - accuracy: 0.9785\n",
            "Epoch 27/100\n",
            "30/30 [==============================] - 0s 8ms/step - loss: 0.0783 - accuracy: 0.9799\n",
            "Epoch 28/100\n",
            "30/30 [==============================] - 0s 7ms/step - loss: 0.0766 - accuracy: 0.9802\n",
            "Epoch 29/100\n",
            "30/30 [==============================] - 0s 7ms/step - loss: 0.0730 - accuracy: 0.9812\n",
            "Epoch 30/100\n",
            "30/30 [==============================] - 0s 6ms/step - loss: 0.0663 - accuracy: 0.9826\n",
            "Epoch 31/100\n",
            "30/30 [==============================] - 0s 7ms/step - loss: 0.0697 - accuracy: 0.9822\n",
            "Epoch 32/100\n",
            "30/30 [==============================] - 0s 9ms/step - loss: 0.0690 - accuracy: 0.9814\n",
            "Epoch 33/100\n",
            "30/30 [==============================] - 0s 9ms/step - loss: 0.0639 - accuracy: 0.9834\n",
            "Epoch 34/100\n",
            "30/30 [==============================] - 0s 9ms/step - loss: 0.0656 - accuracy: 0.9826\n",
            "Epoch 35/100\n",
            "30/30 [==============================] - 0s 9ms/step - loss: 0.0621 - accuracy: 0.9838\n",
            "Epoch 36/100\n",
            "30/30 [==============================] - 0s 9ms/step - loss: 0.0589 - accuracy: 0.9842\n",
            "Epoch 37/100\n",
            "30/30 [==============================] - 0s 10ms/step - loss: 0.0568 - accuracy: 0.9847\n",
            "Epoch 38/100\n",
            "30/30 [==============================] - 0s 12ms/step - loss: 0.0559 - accuracy: 0.9845\n",
            "Epoch 39/100\n",
            "30/30 [==============================] - 0s 12ms/step - loss: 0.0575 - accuracy: 0.9845\n",
            "Epoch 40/100\n",
            "30/30 [==============================] - 0s 10ms/step - loss: 0.0543 - accuracy: 0.9859\n",
            "Epoch 41/100\n",
            "30/30 [==============================] - 0s 7ms/step - loss: 0.0541 - accuracy: 0.9853\n",
            "Epoch 42/100\n",
            "30/30 [==============================] - 0s 7ms/step - loss: 0.0529 - accuracy: 0.9863\n",
            "Epoch 43/100\n",
            "30/30 [==============================] - 0s 7ms/step - loss: 0.0517 - accuracy: 0.9864\n",
            "Epoch 44/100\n",
            "30/30 [==============================] - 0s 6ms/step - loss: 0.0487 - accuracy: 0.9873\n",
            "Epoch 45/100\n",
            "30/30 [==============================] - 0s 7ms/step - loss: 0.0487 - accuracy: 0.9872\n",
            "Epoch 46/100\n",
            "30/30 [==============================] - 0s 7ms/step - loss: 0.0475 - accuracy: 0.9870\n",
            "Epoch 47/100\n",
            "30/30 [==============================] - 0s 7ms/step - loss: 0.0512 - accuracy: 0.9869\n",
            "Epoch 48/100\n",
            "30/30 [==============================] - 0s 7ms/step - loss: 0.0469 - accuracy: 0.9879\n",
            "Epoch 49/100\n",
            "30/30 [==============================] - 0s 7ms/step - loss: 0.0469 - accuracy: 0.9875\n",
            "Epoch 50/100\n",
            "30/30 [==============================] - 0s 7ms/step - loss: 0.0457 - accuracy: 0.9879\n",
            "Epoch 51/100\n",
            "30/30 [==============================] - 0s 7ms/step - loss: 0.0445 - accuracy: 0.9876\n",
            "Epoch 52/100\n",
            "30/30 [==============================] - 0s 7ms/step - loss: 0.0450 - accuracy: 0.9883\n",
            "Epoch 53/100\n",
            "30/30 [==============================] - 0s 7ms/step - loss: 0.0448 - accuracy: 0.9880\n",
            "Epoch 54/100\n",
            "30/30 [==============================] - 0s 7ms/step - loss: 0.0420 - accuracy: 0.9884\n",
            "Epoch 55/100\n",
            "30/30 [==============================] - 0s 7ms/step - loss: 0.0467 - accuracy: 0.9877\n",
            "Epoch 56/100\n",
            "30/30 [==============================] - 0s 7ms/step - loss: 0.0456 - accuracy: 0.9876\n",
            "Epoch 57/100\n",
            "30/30 [==============================] - 0s 6ms/step - loss: 0.0402 - accuracy: 0.9894\n",
            "Epoch 58/100\n",
            "30/30 [==============================] - 0s 7ms/step - loss: 0.0407 - accuracy: 0.9891\n",
            "Epoch 59/100\n",
            "30/30 [==============================] - 0s 7ms/step - loss: 0.0391 - accuracy: 0.9897\n",
            "Epoch 60/100\n",
            "30/30 [==============================] - 0s 7ms/step - loss: 0.0388 - accuracy: 0.9900\n",
            "Epoch 61/100\n",
            "30/30 [==============================] - 0s 7ms/step - loss: 0.0397 - accuracy: 0.9896\n",
            "Epoch 62/100\n",
            "30/30 [==============================] - 0s 7ms/step - loss: 0.0381 - accuracy: 0.9900\n",
            "Epoch 63/100\n",
            "30/30 [==============================] - 0s 7ms/step - loss: 0.0396 - accuracy: 0.9895\n",
            "Epoch 64/100\n",
            "30/30 [==============================] - 0s 6ms/step - loss: 0.0419 - accuracy: 0.9891\n",
            "Epoch 65/100\n",
            "30/30 [==============================] - 0s 7ms/step - loss: 0.0359 - accuracy: 0.9905\n",
            "Epoch 66/100\n",
            "30/30 [==============================] - 0s 7ms/step - loss: 0.0364 - accuracy: 0.9903\n",
            "Epoch 67/100\n",
            "30/30 [==============================] - 0s 7ms/step - loss: 0.0359 - accuracy: 0.9901\n",
            "Epoch 68/100\n",
            "30/30 [==============================] - 0s 7ms/step - loss: 0.0344 - accuracy: 0.9905\n",
            "Epoch 69/100\n",
            "30/30 [==============================] - 0s 7ms/step - loss: 0.0347 - accuracy: 0.9905\n",
            "Epoch 70/100\n",
            "30/30 [==============================] - 0s 7ms/step - loss: 0.0339 - accuracy: 0.9906\n",
            "Epoch 71/100\n",
            "30/30 [==============================] - 0s 7ms/step - loss: 0.0337 - accuracy: 0.9909\n",
            "Epoch 72/100\n",
            "30/30 [==============================] - 0s 7ms/step - loss: 0.0326 - accuracy: 0.9918\n",
            "Epoch 73/100\n",
            "30/30 [==============================] - 0s 6ms/step - loss: 0.0338 - accuracy: 0.9911\n",
            "Epoch 74/100\n",
            "30/30 [==============================] - 0s 7ms/step - loss: 0.0313 - accuracy: 0.9919\n",
            "Epoch 75/100\n",
            "30/30 [==============================] - 0s 7ms/step - loss: 0.0302 - accuracy: 0.9918\n",
            "Epoch 76/100\n",
            "30/30 [==============================] - 0s 7ms/step - loss: 0.0335 - accuracy: 0.9913\n",
            "Epoch 77/100\n",
            "30/30 [==============================] - 0s 7ms/step - loss: 0.0321 - accuracy: 0.9911\n",
            "Epoch 78/100\n",
            "30/30 [==============================] - 0s 7ms/step - loss: 0.0301 - accuracy: 0.9920\n",
            "Epoch 79/100\n",
            "30/30 [==============================] - 0s 7ms/step - loss: 0.0325 - accuracy: 0.9914\n",
            "Epoch 80/100\n",
            "30/30 [==============================] - 0s 7ms/step - loss: 0.0336 - accuracy: 0.9905\n",
            "Epoch 81/100\n",
            "30/30 [==============================] - 0s 6ms/step - loss: 0.0324 - accuracy: 0.9910\n",
            "Epoch 82/100\n",
            "30/30 [==============================] - 0s 7ms/step - loss: 0.0301 - accuracy: 0.9918\n",
            "Epoch 83/100\n",
            "30/30 [==============================] - 0s 7ms/step - loss: 0.0286 - accuracy: 0.9923\n",
            "Epoch 84/100\n",
            "30/30 [==============================] - 0s 7ms/step - loss: 0.0293 - accuracy: 0.9920\n",
            "Epoch 85/100\n",
            "30/30 [==============================] - 0s 7ms/step - loss: 0.0293 - accuracy: 0.9925\n",
            "Epoch 86/100\n",
            "30/30 [==============================] - 0s 7ms/step - loss: 0.0284 - accuracy: 0.9926\n",
            "Epoch 87/100\n",
            "30/30 [==============================] - 0s 8ms/step - loss: 0.0279 - accuracy: 0.9923\n",
            "Epoch 88/100\n",
            "30/30 [==============================] - 0s 11ms/step - loss: 0.0261 - accuracy: 0.9929\n",
            "Epoch 89/100\n",
            "30/30 [==============================] - 0s 10ms/step - loss: 0.0275 - accuracy: 0.9926\n",
            "Epoch 90/100\n",
            "30/30 [==============================] - 0s 11ms/step - loss: 0.0282 - accuracy: 0.9920\n",
            "Epoch 91/100\n",
            "30/30 [==============================] - 0s 10ms/step - loss: 0.0297 - accuracy: 0.9922\n",
            "Epoch 92/100\n",
            "30/30 [==============================] - 0s 10ms/step - loss: 0.0284 - accuracy: 0.9922\n",
            "Epoch 93/100\n",
            "30/30 [==============================] - 0s 11ms/step - loss: 0.0290 - accuracy: 0.9920\n",
            "Epoch 94/100\n",
            "30/30 [==============================] - 0s 12ms/step - loss: 0.0272 - accuracy: 0.9919\n",
            "Epoch 95/100\n",
            "30/30 [==============================] - 0s 10ms/step - loss: 0.0253 - accuracy: 0.9932\n",
            "Epoch 96/100\n",
            "30/30 [==============================] - 0s 7ms/step - loss: 0.0284 - accuracy: 0.9924\n",
            "Epoch 97/100\n",
            "30/30 [==============================] - 0s 7ms/step - loss: 0.0266 - accuracy: 0.9931\n",
            "Epoch 98/100\n",
            "30/30 [==============================] - 0s 8ms/step - loss: 0.0247 - accuracy: 0.9935\n",
            "Epoch 99/100\n",
            "30/30 [==============================] - 0s 7ms/step - loss: 0.0241 - accuracy: 0.9934\n",
            "Epoch 100/100\n",
            "30/30 [==============================] - 0s 7ms/step - loss: 0.0263 - accuracy: 0.9931\n"
          ]
        }
      ]
    },
    {
      "cell_type": "markdown",
      "source": [
        "##Accuracy evaluation"
      ],
      "metadata": {
        "id": "5sSMyLSLStiU"
      }
    },
    {
      "cell_type": "code",
      "metadata": {
        "id": "fdccBMsuI3YL",
        "colab": {
          "base_uri": "https://localhost:8080/"
        },
        "outputId": "e68f5763-1770-4ec7-f098-ed1795b3d026"
      },
      "source": [
        "accuracy = model.evaluate(x=test_x,y=test_y,batch_size=1024)\n",
        "\n",
        "print(\"Accuracy: \",accuracy[1])"
      ],
      "execution_count": 8,
      "outputs": [
        {
          "output_type": "stream",
          "name": "stdout",
          "text": [
            "10/10 [==============================] - 0s 4ms/step - loss: 0.0941 - accuracy: 0.9822\n",
            "Accuracy:  0.982200026512146\n"
          ]
        }
      ]
    },
    {
      "cell_type": "code",
      "metadata": {
        "id": "q_YJw7KxLaUM",
        "colab": {
          "base_uri": "https://localhost:8080/"
        },
        "outputId": "4073c31b-bae0-47eb-d9d9-268fe96f18ec"
      },
      "source": [
        "H.history.keys() # To check which information does it contain"
      ],
      "execution_count": 9,
      "outputs": [
        {
          "output_type": "execute_result",
          "data": {
            "text/plain": [
              "dict_keys(['loss', 'accuracy'])"
            ]
          },
          "metadata": {},
          "execution_count": 9
        }
      ]
    },
    {
      "cell_type": "code",
      "metadata": {
        "id": "678alk6DsXJ9",
        "colab": {
          "base_uri": "https://localhost:8080/"
        },
        "outputId": "633de126-d5be-4782-9d1d-62f123140942"
      },
      "source": [
        "H.history['accuracy']"
      ],
      "execution_count": 10,
      "outputs": [
        {
          "output_type": "execute_result",
          "data": {
            "text/plain": [
              "[0.3596166670322418,\n",
              " 0.7406333088874817,\n",
              " 0.8667333126068115,\n",
              " 0.9053000211715698,\n",
              " 0.9217000007629395,\n",
              " 0.9342166781425476,\n",
              " 0.9417166709899902,\n",
              " 0.9491999745368958,\n",
              " 0.9525333046913147,\n",
              " 0.9567499756813049,\n",
              " 0.9587500095367432,\n",
              " 0.9618333578109741,\n",
              " 0.9643833041191101,\n",
              " 0.9659000039100647,\n",
              " 0.9671499729156494,\n",
              " 0.9691833257675171,\n",
              " 0.9700833559036255,\n",
              " 0.9718499779701233,\n",
              " 0.974049985408783,\n",
              " 0.9748499989509583,\n",
              " 0.9752833247184753,\n",
              " 0.9762333035469055,\n",
              " 0.9762333035469055,\n",
              " 0.977566659450531,\n",
              " 0.9792500138282776,\n",
              " 0.9785000085830688,\n",
              " 0.9798833131790161,\n",
              " 0.9801999926567078,\n",
              " 0.9812333583831787,\n",
              " 0.9825666546821594,\n",
              " 0.9821666479110718,\n",
              " 0.9814000129699707,\n",
              " 0.9834333062171936,\n",
              " 0.9825666546821594,\n",
              " 0.9837833046913147,\n",
              " 0.9842166900634766,\n",
              " 0.9847333431243896,\n",
              " 0.984499990940094,\n",
              " 0.9844833612442017,\n",
              " 0.985883355140686,\n",
              " 0.9852666854858398,\n",
              " 0.9862833619117737,\n",
              " 0.9864000082015991,\n",
              " 0.9873499870300293,\n",
              " 0.9871833324432373,\n",
              " 0.9869833588600159,\n",
              " 0.9868833422660828,\n",
              " 0.98785001039505,\n",
              " 0.987500011920929,\n",
              " 0.9878666400909424,\n",
              " 0.9876333475112915,\n",
              " 0.9883333444595337,\n",
              " 0.9879666566848755,\n",
              " 0.9883999824523926,\n",
              " 0.9877166748046875,\n",
              " 0.9875666499137878,\n",
              " 0.9894000291824341,\n",
              " 0.989133358001709,\n",
              " 0.9896500110626221,\n",
              " 0.9899500012397766,\n",
              " 0.989633321762085,\n",
              " 0.989983320236206,\n",
              " 0.989466667175293,\n",
              " 0.9890999794006348,\n",
              " 0.9904999732971191,\n",
              " 0.9902999997138977,\n",
              " 0.990149974822998,\n",
              " 0.9904666543006897,\n",
              " 0.9904500246047974,\n",
              " 0.9906333088874817,\n",
              " 0.9908999800682068,\n",
              " 0.9918166399002075,\n",
              " 0.9910666942596436,\n",
              " 0.9919000267982483,\n",
              " 0.9917666912078857,\n",
              " 0.9912833571434021,\n",
              " 0.9910666942596436,\n",
              " 0.9920333623886108,\n",
              " 0.9913666844367981,\n",
              " 0.9905166625976562,\n",
              " 0.9910333156585693,\n",
              " 0.9917666912078857,\n",
              " 0.9923499822616577,\n",
              " 0.9919666647911072,\n",
              " 0.9925333261489868,\n",
              " 0.9926166534423828,\n",
              " 0.9923166632652283,\n",
              " 0.9928833246231079,\n",
              " 0.9925666451454163,\n",
              " 0.9920166730880737,\n",
              " 0.9922333359718323,\n",
              " 0.9921666383743286,\n",
              " 0.9920166730880737,\n",
              " 0.9918833374977112,\n",
              " 0.9931666851043701,\n",
              " 0.9924499988555908,\n",
              " 0.9930833578109741,\n",
              " 0.9934666752815247,\n",
              " 0.9934499859809875,\n",
              " 0.993149995803833]"
            ]
          },
          "metadata": {},
          "execution_count": 10
        }
      ]
    },
    {
      "cell_type": "code",
      "metadata": {
        "id": "dOoPm_A3LrDU",
        "colab": {
          "base_uri": "https://localhost:8080/",
          "height": 542
        },
        "outputId": "8715181f-3072-45a7-fa48-2462a7cdc29c"
      },
      "source": [
        "import plotly.express as px\n",
        "\n",
        "px.line(y=H.history['accuracy'],title='Accuracy')"
      ],
      "execution_count": 11,
      "outputs": [
        {
          "output_type": "display_data",
          "data": {
            "text/html": [
              "<html>\n",
              "<head><meta charset=\"utf-8\" /></head>\n",
              "<body>\n",
              "    <div>            <script src=\"https://cdnjs.cloudflare.com/ajax/libs/mathjax/2.7.5/MathJax.js?config=TeX-AMS-MML_SVG\"></script><script type=\"text/javascript\">if (window.MathJax && window.MathJax.Hub && window.MathJax.Hub.Config) {window.MathJax.Hub.Config({SVG: {font: \"STIX-Web\"}});}</script>                <script type=\"text/javascript\">window.PlotlyConfig = {MathJaxConfig: 'local'};</script>\n",
              "        <script charset=\"utf-8\" src=\"https://cdn.plot.ly/plotly-2.24.1.min.js\"></script>                <div id=\"e7e21ca8-f7e9-485d-bfeb-120c3f97f581\" class=\"plotly-graph-div\" style=\"height:525px; width:100%;\"></div>            <script type=\"text/javascript\">                                    window.PLOTLYENV=window.PLOTLYENV || {};                                    if (document.getElementById(\"e7e21ca8-f7e9-485d-bfeb-120c3f97f581\")) {                    Plotly.newPlot(                        \"e7e21ca8-f7e9-485d-bfeb-120c3f97f581\",                        [{\"hovertemplate\":\"x=%{x}\\u003cbr\\u003ey=%{y}\\u003cextra\\u003e\\u003c\\u002fextra\\u003e\",\"legendgroup\":\"\",\"line\":{\"color\":\"#636efa\",\"dash\":\"solid\"},\"marker\":{\"symbol\":\"circle\"},\"mode\":\"lines\",\"name\":\"\",\"orientation\":\"v\",\"showlegend\":false,\"x\":[0,1,2,3,4,5,6,7,8,9,10,11,12,13,14,15,16,17,18,19,20,21,22,23,24,25,26,27,28,29,30,31,32,33,34,35,36,37,38,39,40,41,42,43,44,45,46,47,48,49,50,51,52,53,54,55,56,57,58,59,60,61,62,63,64,65,66,67,68,69,70,71,72,73,74,75,76,77,78,79,80,81,82,83,84,85,86,87,88,89,90,91,92,93,94,95,96,97,98,99],\"xaxis\":\"x\",\"y\":[0.3596166670322418,0.7406333088874817,0.8667333126068115,0.9053000211715698,0.9217000007629395,0.9342166781425476,0.9417166709899902,0.9491999745368958,0.9525333046913147,0.9567499756813049,0.9587500095367432,0.9618333578109741,0.9643833041191101,0.9659000039100647,0.9671499729156494,0.9691833257675171,0.9700833559036255,0.9718499779701233,0.974049985408783,0.9748499989509583,0.9752833247184753,0.9762333035469055,0.9762333035469055,0.977566659450531,0.9792500138282776,0.9785000085830688,0.9798833131790161,0.9801999926567078,0.9812333583831787,0.9825666546821594,0.9821666479110718,0.9814000129699707,0.9834333062171936,0.9825666546821594,0.9837833046913147,0.9842166900634766,0.9847333431243896,0.984499990940094,0.9844833612442017,0.985883355140686,0.9852666854858398,0.9862833619117737,0.9864000082015991,0.9873499870300293,0.9871833324432373,0.9869833588600159,0.9868833422660828,0.98785001039505,0.987500011920929,0.9878666400909424,0.9876333475112915,0.9883333444595337,0.9879666566848755,0.9883999824523926,0.9877166748046875,0.9875666499137878,0.9894000291824341,0.989133358001709,0.9896500110626221,0.9899500012397766,0.989633321762085,0.989983320236206,0.989466667175293,0.9890999794006348,0.9904999732971191,0.9902999997138977,0.990149974822998,0.9904666543006897,0.9904500246047974,0.9906333088874817,0.9908999800682068,0.9918166399002075,0.9910666942596436,0.9919000267982483,0.9917666912078857,0.9912833571434021,0.9910666942596436,0.9920333623886108,0.9913666844367981,0.9905166625976562,0.9910333156585693,0.9917666912078857,0.9923499822616577,0.9919666647911072,0.9925333261489868,0.9926166534423828,0.9923166632652283,0.9928833246231079,0.9925666451454163,0.9920166730880737,0.9922333359718323,0.9921666383743286,0.9920166730880737,0.9918833374977112,0.9931666851043701,0.9924499988555908,0.9930833578109741,0.9934666752815247,0.9934499859809875,0.993149995803833],\"yaxis\":\"y\",\"type\":\"scatter\"}],                        {\"template\":{\"data\":{\"histogram2dcontour\":[{\"type\":\"histogram2dcontour\",\"colorbar\":{\"outlinewidth\":0,\"ticks\":\"\"},\"colorscale\":[[0.0,\"#0d0887\"],[0.1111111111111111,\"#46039f\"],[0.2222222222222222,\"#7201a8\"],[0.3333333333333333,\"#9c179e\"],[0.4444444444444444,\"#bd3786\"],[0.5555555555555556,\"#d8576b\"],[0.6666666666666666,\"#ed7953\"],[0.7777777777777778,\"#fb9f3a\"],[0.8888888888888888,\"#fdca26\"],[1.0,\"#f0f921\"]]}],\"choropleth\":[{\"type\":\"choropleth\",\"colorbar\":{\"outlinewidth\":0,\"ticks\":\"\"}}],\"histogram2d\":[{\"type\":\"histogram2d\",\"colorbar\":{\"outlinewidth\":0,\"ticks\":\"\"},\"colorscale\":[[0.0,\"#0d0887\"],[0.1111111111111111,\"#46039f\"],[0.2222222222222222,\"#7201a8\"],[0.3333333333333333,\"#9c179e\"],[0.4444444444444444,\"#bd3786\"],[0.5555555555555556,\"#d8576b\"],[0.6666666666666666,\"#ed7953\"],[0.7777777777777778,\"#fb9f3a\"],[0.8888888888888888,\"#fdca26\"],[1.0,\"#f0f921\"]]}],\"heatmap\":[{\"type\":\"heatmap\",\"colorbar\":{\"outlinewidth\":0,\"ticks\":\"\"},\"colorscale\":[[0.0,\"#0d0887\"],[0.1111111111111111,\"#46039f\"],[0.2222222222222222,\"#7201a8\"],[0.3333333333333333,\"#9c179e\"],[0.4444444444444444,\"#bd3786\"],[0.5555555555555556,\"#d8576b\"],[0.6666666666666666,\"#ed7953\"],[0.7777777777777778,\"#fb9f3a\"],[0.8888888888888888,\"#fdca26\"],[1.0,\"#f0f921\"]]}],\"heatmapgl\":[{\"type\":\"heatmapgl\",\"colorbar\":{\"outlinewidth\":0,\"ticks\":\"\"},\"colorscale\":[[0.0,\"#0d0887\"],[0.1111111111111111,\"#46039f\"],[0.2222222222222222,\"#7201a8\"],[0.3333333333333333,\"#9c179e\"],[0.4444444444444444,\"#bd3786\"],[0.5555555555555556,\"#d8576b\"],[0.6666666666666666,\"#ed7953\"],[0.7777777777777778,\"#fb9f3a\"],[0.8888888888888888,\"#fdca26\"],[1.0,\"#f0f921\"]]}],\"contourcarpet\":[{\"type\":\"contourcarpet\",\"colorbar\":{\"outlinewidth\":0,\"ticks\":\"\"}}],\"contour\":[{\"type\":\"contour\",\"colorbar\":{\"outlinewidth\":0,\"ticks\":\"\"},\"colorscale\":[[0.0,\"#0d0887\"],[0.1111111111111111,\"#46039f\"],[0.2222222222222222,\"#7201a8\"],[0.3333333333333333,\"#9c179e\"],[0.4444444444444444,\"#bd3786\"],[0.5555555555555556,\"#d8576b\"],[0.6666666666666666,\"#ed7953\"],[0.7777777777777778,\"#fb9f3a\"],[0.8888888888888888,\"#fdca26\"],[1.0,\"#f0f921\"]]}],\"surface\":[{\"type\":\"surface\",\"colorbar\":{\"outlinewidth\":0,\"ticks\":\"\"},\"colorscale\":[[0.0,\"#0d0887\"],[0.1111111111111111,\"#46039f\"],[0.2222222222222222,\"#7201a8\"],[0.3333333333333333,\"#9c179e\"],[0.4444444444444444,\"#bd3786\"],[0.5555555555555556,\"#d8576b\"],[0.6666666666666666,\"#ed7953\"],[0.7777777777777778,\"#fb9f3a\"],[0.8888888888888888,\"#fdca26\"],[1.0,\"#f0f921\"]]}],\"mesh3d\":[{\"type\":\"mesh3d\",\"colorbar\":{\"outlinewidth\":0,\"ticks\":\"\"}}],\"scatter\":[{\"fillpattern\":{\"fillmode\":\"overlay\",\"size\":10,\"solidity\":0.2},\"type\":\"scatter\"}],\"parcoords\":[{\"type\":\"parcoords\",\"line\":{\"colorbar\":{\"outlinewidth\":0,\"ticks\":\"\"}}}],\"scatterpolargl\":[{\"type\":\"scatterpolargl\",\"marker\":{\"colorbar\":{\"outlinewidth\":0,\"ticks\":\"\"}}}],\"bar\":[{\"error_x\":{\"color\":\"#2a3f5f\"},\"error_y\":{\"color\":\"#2a3f5f\"},\"marker\":{\"line\":{\"color\":\"#E5ECF6\",\"width\":0.5},\"pattern\":{\"fillmode\":\"overlay\",\"size\":10,\"solidity\":0.2}},\"type\":\"bar\"}],\"scattergeo\":[{\"type\":\"scattergeo\",\"marker\":{\"colorbar\":{\"outlinewidth\":0,\"ticks\":\"\"}}}],\"scatterpolar\":[{\"type\":\"scatterpolar\",\"marker\":{\"colorbar\":{\"outlinewidth\":0,\"ticks\":\"\"}}}],\"histogram\":[{\"marker\":{\"pattern\":{\"fillmode\":\"overlay\",\"size\":10,\"solidity\":0.2}},\"type\":\"histogram\"}],\"scattergl\":[{\"type\":\"scattergl\",\"marker\":{\"colorbar\":{\"outlinewidth\":0,\"ticks\":\"\"}}}],\"scatter3d\":[{\"type\":\"scatter3d\",\"line\":{\"colorbar\":{\"outlinewidth\":0,\"ticks\":\"\"}},\"marker\":{\"colorbar\":{\"outlinewidth\":0,\"ticks\":\"\"}}}],\"scattermapbox\":[{\"type\":\"scattermapbox\",\"marker\":{\"colorbar\":{\"outlinewidth\":0,\"ticks\":\"\"}}}],\"scatterternary\":[{\"type\":\"scatterternary\",\"marker\":{\"colorbar\":{\"outlinewidth\":0,\"ticks\":\"\"}}}],\"scattercarpet\":[{\"type\":\"scattercarpet\",\"marker\":{\"colorbar\":{\"outlinewidth\":0,\"ticks\":\"\"}}}],\"carpet\":[{\"aaxis\":{\"endlinecolor\":\"#2a3f5f\",\"gridcolor\":\"white\",\"linecolor\":\"white\",\"minorgridcolor\":\"white\",\"startlinecolor\":\"#2a3f5f\"},\"baxis\":{\"endlinecolor\":\"#2a3f5f\",\"gridcolor\":\"white\",\"linecolor\":\"white\",\"minorgridcolor\":\"white\",\"startlinecolor\":\"#2a3f5f\"},\"type\":\"carpet\"}],\"table\":[{\"cells\":{\"fill\":{\"color\":\"#EBF0F8\"},\"line\":{\"color\":\"white\"}},\"header\":{\"fill\":{\"color\":\"#C8D4E3\"},\"line\":{\"color\":\"white\"}},\"type\":\"table\"}],\"barpolar\":[{\"marker\":{\"line\":{\"color\":\"#E5ECF6\",\"width\":0.5},\"pattern\":{\"fillmode\":\"overlay\",\"size\":10,\"solidity\":0.2}},\"type\":\"barpolar\"}],\"pie\":[{\"automargin\":true,\"type\":\"pie\"}]},\"layout\":{\"autotypenumbers\":\"strict\",\"colorway\":[\"#636efa\",\"#EF553B\",\"#00cc96\",\"#ab63fa\",\"#FFA15A\",\"#19d3f3\",\"#FF6692\",\"#B6E880\",\"#FF97FF\",\"#FECB52\"],\"font\":{\"color\":\"#2a3f5f\"},\"hovermode\":\"closest\",\"hoverlabel\":{\"align\":\"left\"},\"paper_bgcolor\":\"white\",\"plot_bgcolor\":\"#E5ECF6\",\"polar\":{\"bgcolor\":\"#E5ECF6\",\"angularaxis\":{\"gridcolor\":\"white\",\"linecolor\":\"white\",\"ticks\":\"\"},\"radialaxis\":{\"gridcolor\":\"white\",\"linecolor\":\"white\",\"ticks\":\"\"}},\"ternary\":{\"bgcolor\":\"#E5ECF6\",\"aaxis\":{\"gridcolor\":\"white\",\"linecolor\":\"white\",\"ticks\":\"\"},\"baxis\":{\"gridcolor\":\"white\",\"linecolor\":\"white\",\"ticks\":\"\"},\"caxis\":{\"gridcolor\":\"white\",\"linecolor\":\"white\",\"ticks\":\"\"}},\"coloraxis\":{\"colorbar\":{\"outlinewidth\":0,\"ticks\":\"\"}},\"colorscale\":{\"sequential\":[[0.0,\"#0d0887\"],[0.1111111111111111,\"#46039f\"],[0.2222222222222222,\"#7201a8\"],[0.3333333333333333,\"#9c179e\"],[0.4444444444444444,\"#bd3786\"],[0.5555555555555556,\"#d8576b\"],[0.6666666666666666,\"#ed7953\"],[0.7777777777777778,\"#fb9f3a\"],[0.8888888888888888,\"#fdca26\"],[1.0,\"#f0f921\"]],\"sequentialminus\":[[0.0,\"#0d0887\"],[0.1111111111111111,\"#46039f\"],[0.2222222222222222,\"#7201a8\"],[0.3333333333333333,\"#9c179e\"],[0.4444444444444444,\"#bd3786\"],[0.5555555555555556,\"#d8576b\"],[0.6666666666666666,\"#ed7953\"],[0.7777777777777778,\"#fb9f3a\"],[0.8888888888888888,\"#fdca26\"],[1.0,\"#f0f921\"]],\"diverging\":[[0,\"#8e0152\"],[0.1,\"#c51b7d\"],[0.2,\"#de77ae\"],[0.3,\"#f1b6da\"],[0.4,\"#fde0ef\"],[0.5,\"#f7f7f7\"],[0.6,\"#e6f5d0\"],[0.7,\"#b8e186\"],[0.8,\"#7fbc41\"],[0.9,\"#4d9221\"],[1,\"#276419\"]]},\"xaxis\":{\"gridcolor\":\"white\",\"linecolor\":\"white\",\"ticks\":\"\",\"title\":{\"standoff\":15},\"zerolinecolor\":\"white\",\"automargin\":true,\"zerolinewidth\":2},\"yaxis\":{\"gridcolor\":\"white\",\"linecolor\":\"white\",\"ticks\":\"\",\"title\":{\"standoff\":15},\"zerolinecolor\":\"white\",\"automargin\":true,\"zerolinewidth\":2},\"scene\":{\"xaxis\":{\"backgroundcolor\":\"#E5ECF6\",\"gridcolor\":\"white\",\"linecolor\":\"white\",\"showbackground\":true,\"ticks\":\"\",\"zerolinecolor\":\"white\",\"gridwidth\":2},\"yaxis\":{\"backgroundcolor\":\"#E5ECF6\",\"gridcolor\":\"white\",\"linecolor\":\"white\",\"showbackground\":true,\"ticks\":\"\",\"zerolinecolor\":\"white\",\"gridwidth\":2},\"zaxis\":{\"backgroundcolor\":\"#E5ECF6\",\"gridcolor\":\"white\",\"linecolor\":\"white\",\"showbackground\":true,\"ticks\":\"\",\"zerolinecolor\":\"white\",\"gridwidth\":2}},\"shapedefaults\":{\"line\":{\"color\":\"#2a3f5f\"}},\"annotationdefaults\":{\"arrowcolor\":\"#2a3f5f\",\"arrowhead\":0,\"arrowwidth\":1},\"geo\":{\"bgcolor\":\"white\",\"landcolor\":\"#E5ECF6\",\"subunitcolor\":\"white\",\"showland\":true,\"showlakes\":true,\"lakecolor\":\"white\"},\"title\":{\"x\":0.05},\"mapbox\":{\"style\":\"light\"}}},\"xaxis\":{\"anchor\":\"y\",\"domain\":[0.0,1.0],\"title\":{\"text\":\"x\"}},\"yaxis\":{\"anchor\":\"x\",\"domain\":[0.0,1.0],\"title\":{\"text\":\"y\"}},\"legend\":{\"tracegroupgap\":0},\"title\":{\"text\":\"Accuracy\"}},                        {\"responsive\": true}                    ).then(function(){\n",
              "                            \n",
              "var gd = document.getElementById('e7e21ca8-f7e9-485d-bfeb-120c3f97f581');\n",
              "var x = new MutationObserver(function (mutations, observer) {{\n",
              "        var display = window.getComputedStyle(gd).display;\n",
              "        if (!display || display === 'none') {{\n",
              "            console.log([gd, 'removed!']);\n",
              "            Plotly.purge(gd);\n",
              "            observer.disconnect();\n",
              "        }}\n",
              "}});\n",
              "\n",
              "// Listen for the removal of the full notebook cells\n",
              "var notebookContainer = gd.closest('#notebook-container');\n",
              "if (notebookContainer) {{\n",
              "    x.observe(notebookContainer, {childList: true});\n",
              "}}\n",
              "\n",
              "// Listen for the clearing of the current output cell\n",
              "var outputEl = gd.closest('.output');\n",
              "if (outputEl) {{\n",
              "    x.observe(outputEl, {childList: true});\n",
              "}}\n",
              "\n",
              "                        })                };                            </script>        </div>\n",
              "</body>\n",
              "</html>"
            ]
          },
          "metadata": {}
        }
      ]
    },
    {
      "cell_type": "code",
      "metadata": {
        "id": "m7i_YRX8m2gc",
        "colab": {
          "base_uri": "https://localhost:8080/",
          "height": 542
        },
        "outputId": "167ab910-08b8-42af-a9b0-6715129e37ce"
      },
      "source": [
        "px.line(y=H.history['loss'],title='Loss')"
      ],
      "execution_count": null,
      "outputs": [
        {
          "output_type": "display_data",
          "data": {
            "text/html": [
              "<html>\n",
              "<head><meta charset=\"utf-8\" /></head>\n",
              "<body>\n",
              "    <div>\n",
              "            <script src=\"https://cdnjs.cloudflare.com/ajax/libs/mathjax/2.7.5/MathJax.js?config=TeX-AMS-MML_SVG\"></script><script type=\"text/javascript\">if (window.MathJax) {MathJax.Hub.Config({SVG: {font: \"STIX-Web\"}});}</script>\n",
              "                <script type=\"text/javascript\">window.PlotlyConfig = {MathJaxConfig: 'local'};</script>\n",
              "        <script src=\"https://cdn.plot.ly/plotly-latest.min.js\"></script>    \n",
              "            <div id=\"9efc7c35-f7e0-465d-8ce8-c0822d7f5aee\" class=\"plotly-graph-div\" style=\"height:525px; width:100%;\"></div>\n",
              "            <script type=\"text/javascript\">\n",
              "                \n",
              "                    window.PLOTLYENV=window.PLOTLYENV || {};\n",
              "                    \n",
              "                if (document.getElementById(\"9efc7c35-f7e0-465d-8ce8-c0822d7f5aee\")) {\n",
              "                    Plotly.newPlot(\n",
              "                        '9efc7c35-f7e0-465d-8ce8-c0822d7f5aee',\n",
              "                        [{\"hoverlabel\": {\"namelength\": 0}, \"hovertemplate\": \"y=%{y}\", \"legendgroup\": \"\", \"line\": {\"color\": \"#636efa\", \"dash\": \"solid\"}, \"mode\": \"lines\", \"name\": \"\", \"showlegend\": false, \"type\": \"scatter\", \"xaxis\": \"x\", \"y\": [1.811059594154358, 0.7959255576133728, 0.45615166425704956, 0.3482285737991333, 0.28031009435653687, 0.24720078706741333, 0.22115257382392883, 0.1988527774810791, 0.18031826615333557, 0.16365213692188263, 0.15088501572608948, 0.14437590539455414, 0.1351112276315689, 0.12971808016300201, 0.12076610326766968, 0.11637257039546967, 0.10628663748502731, 0.10350478440523148, 0.09681371599435806, 0.09683439135551453, 0.09261492639780045, 0.08887194842100143, 0.08671364188194275, 0.08392936736345291, 0.07518737018108368, 0.07385579496622086, 0.07411618530750275, 0.07434429973363876, 0.07048635929822922, 0.06965574622154236, 0.06711570918560028, 0.06016281247138977, 0.06351229548454285, 0.06410104781389236, 0.05700817331671715, 0.05690300464630127, 0.05957335978746414, 0.056162942200899124, 0.055782195180654526, 0.05254244804382324, 0.05156265199184418, 0.044685106724500656, 0.048746444284915924, 0.04589938372373581, 0.045435432344675064, 0.04809890314936638, 0.04667819291353226, 0.047741662710905075, 0.045751456171274185, 0.045633796602487564, 0.045725297182798386, 0.044347766786813736, 0.04236419498920441, 0.04485885426402092, 0.04187522083520889, 0.03903158754110336, 0.03910880908370018, 0.036560650914907455, 0.038496214896440506, 0.0388045459985733, 0.03712279722094536, 0.038213834166526794, 0.037905581295490265, 0.034901656210422516, 0.03640970587730408, 0.036883771419525146, 0.03200170770287514, 0.03069886937737465, 0.03504684194922447, 0.03442658856511116, 0.0318254791200161, 0.03266031667590141, 0.03231985867023468, 0.0305269043892622, 0.029256926849484444, 0.030310463160276413, 0.02942107804119587, 0.030068596825003624, 0.0309243556112051, 0.030642399564385414, 0.029913999140262604, 0.027683455497026443, 0.030613666400313377, 0.02871672622859478, 0.029744412750005722, 0.028412435203790665, 0.027442840859293938, 0.02672387845814228, 0.02638985589146614, 0.025685230270028114, 0.026763489469885826, 0.025055084377527237, 0.02689080312848091, 0.02731170319020748, 0.02421652153134346, 0.0232089851051569, 0.027603596448898315, 0.025432975962758064, 0.025993602350354195, 0.02316969819366932], \"yaxis\": \"y\"}],\n",
              "                        {\"legend\": {\"tracegroupgap\": 0}, \"template\": {\"data\": {\"bar\": [{\"error_x\": {\"color\": \"#2a3f5f\"}, \"error_y\": {\"color\": \"#2a3f5f\"}, \"marker\": {\"line\": {\"color\": \"#E5ECF6\", \"width\": 0.5}}, \"type\": \"bar\"}], \"barpolar\": [{\"marker\": {\"line\": {\"color\": \"#E5ECF6\", \"width\": 0.5}}, \"type\": \"barpolar\"}], \"carpet\": [{\"aaxis\": {\"endlinecolor\": \"#2a3f5f\", \"gridcolor\": \"white\", \"linecolor\": \"white\", \"minorgridcolor\": \"white\", \"startlinecolor\": \"#2a3f5f\"}, \"baxis\": {\"endlinecolor\": \"#2a3f5f\", \"gridcolor\": \"white\", \"linecolor\": \"white\", \"minorgridcolor\": \"white\", \"startlinecolor\": \"#2a3f5f\"}, \"type\": \"carpet\"}], \"choropleth\": [{\"colorbar\": {\"outlinewidth\": 0, \"ticks\": \"\"}, \"type\": \"choropleth\"}], \"contour\": [{\"colorbar\": {\"outlinewidth\": 0, \"ticks\": \"\"}, \"colorscale\": [[0.0, \"#0d0887\"], [0.1111111111111111, \"#46039f\"], [0.2222222222222222, \"#7201a8\"], [0.3333333333333333, \"#9c179e\"], [0.4444444444444444, \"#bd3786\"], [0.5555555555555556, \"#d8576b\"], [0.6666666666666666, \"#ed7953\"], [0.7777777777777778, \"#fb9f3a\"], [0.8888888888888888, \"#fdca26\"], [1.0, \"#f0f921\"]], \"type\": \"contour\"}], \"contourcarpet\": [{\"colorbar\": {\"outlinewidth\": 0, \"ticks\": \"\"}, \"type\": \"contourcarpet\"}], \"heatmap\": [{\"colorbar\": {\"outlinewidth\": 0, \"ticks\": \"\"}, \"colorscale\": [[0.0, \"#0d0887\"], [0.1111111111111111, \"#46039f\"], [0.2222222222222222, \"#7201a8\"], [0.3333333333333333, \"#9c179e\"], [0.4444444444444444, \"#bd3786\"], [0.5555555555555556, \"#d8576b\"], [0.6666666666666666, \"#ed7953\"], [0.7777777777777778, \"#fb9f3a\"], [0.8888888888888888, \"#fdca26\"], [1.0, \"#f0f921\"]], \"type\": \"heatmap\"}], \"heatmapgl\": [{\"colorbar\": {\"outlinewidth\": 0, \"ticks\": \"\"}, \"colorscale\": [[0.0, \"#0d0887\"], [0.1111111111111111, \"#46039f\"], [0.2222222222222222, \"#7201a8\"], [0.3333333333333333, \"#9c179e\"], [0.4444444444444444, \"#bd3786\"], [0.5555555555555556, \"#d8576b\"], [0.6666666666666666, \"#ed7953\"], [0.7777777777777778, \"#fb9f3a\"], [0.8888888888888888, \"#fdca26\"], [1.0, \"#f0f921\"]], \"type\": \"heatmapgl\"}], \"histogram\": [{\"marker\": {\"colorbar\": {\"outlinewidth\": 0, \"ticks\": \"\"}}, \"type\": \"histogram\"}], \"histogram2d\": [{\"colorbar\": {\"outlinewidth\": 0, \"ticks\": \"\"}, \"colorscale\": [[0.0, \"#0d0887\"], [0.1111111111111111, \"#46039f\"], [0.2222222222222222, \"#7201a8\"], [0.3333333333333333, \"#9c179e\"], [0.4444444444444444, \"#bd3786\"], [0.5555555555555556, \"#d8576b\"], [0.6666666666666666, \"#ed7953\"], [0.7777777777777778, \"#fb9f3a\"], [0.8888888888888888, \"#fdca26\"], [1.0, \"#f0f921\"]], \"type\": \"histogram2d\"}], \"histogram2dcontour\": [{\"colorbar\": {\"outlinewidth\": 0, \"ticks\": \"\"}, \"colorscale\": [[0.0, \"#0d0887\"], [0.1111111111111111, \"#46039f\"], [0.2222222222222222, \"#7201a8\"], [0.3333333333333333, \"#9c179e\"], [0.4444444444444444, \"#bd3786\"], [0.5555555555555556, \"#d8576b\"], [0.6666666666666666, \"#ed7953\"], [0.7777777777777778, \"#fb9f3a\"], [0.8888888888888888, \"#fdca26\"], [1.0, \"#f0f921\"]], \"type\": \"histogram2dcontour\"}], \"mesh3d\": [{\"colorbar\": {\"outlinewidth\": 0, \"ticks\": \"\"}, \"type\": \"mesh3d\"}], \"parcoords\": [{\"line\": {\"colorbar\": {\"outlinewidth\": 0, \"ticks\": \"\"}}, \"type\": \"parcoords\"}], \"pie\": [{\"automargin\": true, \"type\": \"pie\"}], \"scatter\": [{\"marker\": {\"colorbar\": {\"outlinewidth\": 0, \"ticks\": \"\"}}, \"type\": \"scatter\"}], \"scatter3d\": [{\"line\": {\"colorbar\": {\"outlinewidth\": 0, \"ticks\": \"\"}}, \"marker\": {\"colorbar\": {\"outlinewidth\": 0, \"ticks\": \"\"}}, \"type\": \"scatter3d\"}], \"scattercarpet\": [{\"marker\": {\"colorbar\": {\"outlinewidth\": 0, \"ticks\": \"\"}}, \"type\": \"scattercarpet\"}], \"scattergeo\": [{\"marker\": {\"colorbar\": {\"outlinewidth\": 0, \"ticks\": \"\"}}, \"type\": \"scattergeo\"}], \"scattergl\": [{\"marker\": {\"colorbar\": {\"outlinewidth\": 0, \"ticks\": \"\"}}, \"type\": \"scattergl\"}], \"scattermapbox\": [{\"marker\": {\"colorbar\": {\"outlinewidth\": 0, \"ticks\": \"\"}}, \"type\": \"scattermapbox\"}], \"scatterpolar\": [{\"marker\": {\"colorbar\": {\"outlinewidth\": 0, \"ticks\": \"\"}}, \"type\": \"scatterpolar\"}], \"scatterpolargl\": [{\"marker\": {\"colorbar\": {\"outlinewidth\": 0, \"ticks\": \"\"}}, \"type\": \"scatterpolargl\"}], \"scatterternary\": [{\"marker\": {\"colorbar\": {\"outlinewidth\": 0, \"ticks\": \"\"}}, \"type\": \"scatterternary\"}], \"surface\": [{\"colorbar\": {\"outlinewidth\": 0, \"ticks\": \"\"}, \"colorscale\": [[0.0, \"#0d0887\"], [0.1111111111111111, \"#46039f\"], [0.2222222222222222, \"#7201a8\"], [0.3333333333333333, \"#9c179e\"], [0.4444444444444444, \"#bd3786\"], [0.5555555555555556, \"#d8576b\"], [0.6666666666666666, \"#ed7953\"], [0.7777777777777778, \"#fb9f3a\"], [0.8888888888888888, \"#fdca26\"], [1.0, \"#f0f921\"]], \"type\": \"surface\"}], \"table\": [{\"cells\": {\"fill\": {\"color\": \"#EBF0F8\"}, \"line\": {\"color\": \"white\"}}, \"header\": {\"fill\": {\"color\": \"#C8D4E3\"}, \"line\": {\"color\": \"white\"}}, \"type\": \"table\"}]}, \"layout\": {\"annotationdefaults\": {\"arrowcolor\": \"#2a3f5f\", \"arrowhead\": 0, \"arrowwidth\": 1}, \"coloraxis\": {\"colorbar\": {\"outlinewidth\": 0, \"ticks\": \"\"}}, \"colorscale\": {\"diverging\": [[0, \"#8e0152\"], [0.1, \"#c51b7d\"], [0.2, \"#de77ae\"], [0.3, \"#f1b6da\"], [0.4, \"#fde0ef\"], [0.5, \"#f7f7f7\"], [0.6, \"#e6f5d0\"], [0.7, \"#b8e186\"], [0.8, \"#7fbc41\"], [0.9, \"#4d9221\"], [1, \"#276419\"]], \"sequential\": [[0.0, \"#0d0887\"], [0.1111111111111111, \"#46039f\"], [0.2222222222222222, \"#7201a8\"], [0.3333333333333333, \"#9c179e\"], [0.4444444444444444, \"#bd3786\"], [0.5555555555555556, \"#d8576b\"], [0.6666666666666666, \"#ed7953\"], [0.7777777777777778, \"#fb9f3a\"], [0.8888888888888888, \"#fdca26\"], [1.0, \"#f0f921\"]], \"sequentialminus\": [[0.0, \"#0d0887\"], [0.1111111111111111, \"#46039f\"], [0.2222222222222222, \"#7201a8\"], [0.3333333333333333, \"#9c179e\"], [0.4444444444444444, \"#bd3786\"], [0.5555555555555556, \"#d8576b\"], [0.6666666666666666, \"#ed7953\"], [0.7777777777777778, \"#fb9f3a\"], [0.8888888888888888, \"#fdca26\"], [1.0, \"#f0f921\"]]}, \"colorway\": [\"#636efa\", \"#EF553B\", \"#00cc96\", \"#ab63fa\", \"#FFA15A\", \"#19d3f3\", \"#FF6692\", \"#B6E880\", \"#FF97FF\", \"#FECB52\"], \"font\": {\"color\": \"#2a3f5f\"}, \"geo\": {\"bgcolor\": \"white\", \"lakecolor\": \"white\", \"landcolor\": \"#E5ECF6\", \"showlakes\": true, \"showland\": true, \"subunitcolor\": \"white\"}, \"hoverlabel\": {\"align\": \"left\"}, \"hovermode\": \"closest\", \"mapbox\": {\"style\": \"light\"}, \"paper_bgcolor\": \"white\", \"plot_bgcolor\": \"#E5ECF6\", \"polar\": {\"angularaxis\": {\"gridcolor\": \"white\", \"linecolor\": \"white\", \"ticks\": \"\"}, \"bgcolor\": \"#E5ECF6\", \"radialaxis\": {\"gridcolor\": \"white\", \"linecolor\": \"white\", \"ticks\": \"\"}}, \"scene\": {\"xaxis\": {\"backgroundcolor\": \"#E5ECF6\", \"gridcolor\": \"white\", \"gridwidth\": 2, \"linecolor\": \"white\", \"showbackground\": true, \"ticks\": \"\", \"zerolinecolor\": \"white\"}, \"yaxis\": {\"backgroundcolor\": \"#E5ECF6\", \"gridcolor\": \"white\", \"gridwidth\": 2, \"linecolor\": \"white\", \"showbackground\": true, \"ticks\": \"\", \"zerolinecolor\": \"white\"}, \"zaxis\": {\"backgroundcolor\": \"#E5ECF6\", \"gridcolor\": \"white\", \"gridwidth\": 2, \"linecolor\": \"white\", \"showbackground\": true, \"ticks\": \"\", \"zerolinecolor\": \"white\"}}, \"shapedefaults\": {\"line\": {\"color\": \"#2a3f5f\"}}, \"ternary\": {\"aaxis\": {\"gridcolor\": \"white\", \"linecolor\": \"white\", \"ticks\": \"\"}, \"baxis\": {\"gridcolor\": \"white\", \"linecolor\": \"white\", \"ticks\": \"\"}, \"bgcolor\": \"#E5ECF6\", \"caxis\": {\"gridcolor\": \"white\", \"linecolor\": \"white\", \"ticks\": \"\"}}, \"title\": {\"x\": 0.05}, \"xaxis\": {\"automargin\": true, \"gridcolor\": \"white\", \"linecolor\": \"white\", \"ticks\": \"\", \"title\": {\"standoff\": 15}, \"zerolinecolor\": \"white\", \"zerolinewidth\": 2}, \"yaxis\": {\"automargin\": true, \"gridcolor\": \"white\", \"linecolor\": \"white\", \"ticks\": \"\", \"title\": {\"standoff\": 15}, \"zerolinecolor\": \"white\", \"zerolinewidth\": 2}}}, \"title\": {\"text\": \"Loss\"}, \"xaxis\": {\"anchor\": \"y\", \"domain\": [0.0, 1.0]}, \"yaxis\": {\"anchor\": \"x\", \"domain\": [0.0, 1.0], \"title\": {\"text\": \"y\"}}},\n",
              "                        {\"responsive\": true}\n",
              "                    ).then(function(){\n",
              "                            \n",
              "var gd = document.getElementById('9efc7c35-f7e0-465d-8ce8-c0822d7f5aee');\n",
              "var x = new MutationObserver(function (mutations, observer) {{\n",
              "        var display = window.getComputedStyle(gd).display;\n",
              "        if (!display || display === 'none') {{\n",
              "            console.log([gd, 'removed!']);\n",
              "            Plotly.purge(gd);\n",
              "            observer.disconnect();\n",
              "        }}\n",
              "}});\n",
              "\n",
              "// Listen for the removal of the full notebook cells\n",
              "var notebookContainer = gd.closest('#notebook-container');\n",
              "if (notebookContainer) {{\n",
              "    x.observe(notebookContainer, {childList: true});\n",
              "}}\n",
              "\n",
              "// Listen for the clearing of the current output cell\n",
              "var outputEl = gd.closest('.output');\n",
              "if (outputEl) {{\n",
              "    x.observe(outputEl, {childList: true});\n",
              "}}\n",
              "\n",
              "                        })\n",
              "                };\n",
              "                \n",
              "            </script>\n",
              "        </div>\n",
              "</body>\n",
              "</html>"
            ]
          },
          "metadata": {
            "tags": []
          }
        }
      ]
    },
    {
      "cell_type": "markdown",
      "metadata": {
        "id": "hxtnqzNxI3YW"
      },
      "source": [
        "## Predictions for your images\n",
        "  Use self written digits by uploading on Google Drive to predict and validate mode results\n",
        "\n",
        "\n"
      ]
    },
    {
      "cell_type": "code",
      "metadata": {
        "id": "VghDa4U7u-xS",
        "colab": {
          "base_uri": "https://localhost:8080/",
          "height": 126
        },
        "outputId": "cd773350-40e0-4d89-cb9a-2828fa1ff0f9"
      },
      "source": [
        "from google.colab import drive\n",
        "drive.mount('/content/drive/')\n"
      ],
      "execution_count": null,
      "outputs": [
        {
          "output_type": "stream",
          "text": [
            "Go to this URL in a browser: https://accounts.google.com/o/oauth2/auth?client_id=947318989803-6bn6qk8qdgf4n4g3pfee6491hc0brc4i.apps.googleusercontent.com&redirect_uri=urn%3aietf%3awg%3aoauth%3a2.0%3aoob&response_type=code&scope=email%20https%3a%2f%2fwww.googleapis.com%2fauth%2fdocs.test%20https%3a%2f%2fwww.googleapis.com%2fauth%2fdrive%20https%3a%2f%2fwww.googleapis.com%2fauth%2fdrive.photos.readonly%20https%3a%2f%2fwww.googleapis.com%2fauth%2fpeopleapi.readonly\n",
            "\n",
            "Enter your authorization code:\n",
            "··········\n",
            "Mounted at /content/drive/\n"
          ],
          "name": "stdout"
        }
      ]
    },
    {
      "cell_type": "code",
      "metadata": {
        "id": "lIa-iyE0vCOm",
        "colab": {
          "base_uri": "https://localhost:8080/",
          "height": 35
        },
        "outputId": "e6d94060-eb33-4d8d-f3e1-db812e2efe67"
      },
      "source": [
        "%cd /content/drive/My Drive/ #specify the path at which file is saved"
      ],
      "execution_count": null,
      "outputs": [
        {
          "output_type": "stream",
          "text": [
            "/content/drive/My Drive/Colab Notebooks/ML_and_NN_course/module 3\n"
          ],
          "name": "stdout"
        }
      ]
    },
    {
      "cell_type": "markdown",
      "source": [
        "## Prediction Function"
      ],
      "metadata": {
        "id": "_dMiU9QDRnfh"
      }
    },
    {
      "cell_type": "code",
      "metadata": {
        "id": "Oy9q-a43I3Yx"
      },
      "source": [
        "def predict(img_path,model,con_dest='converted_img.jpg',threshold=135):\n",
        "    num=cv2.imread(img_path)\n",
        "    num=cv2.cvtColor(num, cv2.COLOR_BGR2GRAY)\n",
        "    #num.resize(28,28)\n",
        "    (thresh, num) = cv2.threshold(num, threshold, 255, cv2.THRESH_BINARY_INV)\n",
        "\n",
        "\n",
        "    cv2.imwrite(con_dest,num)\n",
        "\n",
        "    img = image.load_img(con_dest,color_mode = \"grayscale\",target_size=(28,28))\n",
        "    plt.imshow(img)\n",
        "    plt.title(\"Converted Image for Prediction\")\n",
        "    plt.show()\n",
        "    img = image.img_to_array(img)\n",
        "    test_img = (img.reshape((1,784)))/255.0\n",
        "    ans=model.predict(test_img)\n",
        "\n",
        "    print('Predictions for each class', ans)\n",
        "    print('Predicted value is '+ str(np.argmax(ans)))"
      ],
      "execution_count": null,
      "outputs": []
    },
    {
      "cell_type": "code",
      "metadata": {
        "id": "30VSJmbCI3Y7",
        "colab": {
          "base_uri": "https://localhost:8080/",
          "height": 335
        },
        "outputId": "b31a4258-21c7-4544-b7d8-495bd1d54a72"
      },
      "source": [
        "predict('imagepath',model=model,con_dest='imagepath') #specify image path"
      ],
      "execution_count": null,
      "outputs": [
        {
          "output_type": "display_data",
          "data": {
            "image/png": "iVBORw0KGgoAAAANSUhEUgAAAPsAAAEICAYAAACZA4KlAAAABHNCSVQICAgIfAhkiAAAAAlwSFlzAAALEgAACxIB0t1+/AAAADh0RVh0U29mdHdhcmUAbWF0cGxvdGxpYiB2ZXJzaW9uMy4yLjIsIGh0dHA6Ly9tYXRwbG90bGliLm9yZy+WH4yJAAAUYUlEQVR4nO3de7BdZX3G8e+TC+EWbUIwJicxCFKm4NQAEbCgTYsYkkFBW6hoFVtsGCteKqMgdUpaoUOtKHSqthEoQQSkIwiDaECEoqJggpG7cjcJgXARCUZDLr/+sd6jK4ez1zrZ95P3+cycOXvvd11+e+397LX2evdaSxGBmW3/xvS6ADPrDofdLBMOu1kmHHazTDjsZplw2M0y4bD3KUk3S3p/r+tohaR9JK2QtE7Sh3tdTxVJcyWtKt2/R9LcJqbzRkk/a2txbTLqwi7pXZKWSXpB0hpJ35J0WK/rKpO0h6SQNK5D018k6ZJOTLvNPgHcFBETI+I/Wp1Yet4b02v/nKRbJb2hDXW+RETsFxE3j6CmkPSa0njfi4h9OlFTq0ZV2CV9DDgX+FdgKvAq4IvA0b2sq6xTAR+lZgH3NDNixXL8WkTsCuwOfB+4UpKGGX9sM/PdrkXEqPgDXg68ABxbMcwEig+Dx9PfucCE1DYXWAWcAqwF1gB/k9oOBp4Axpam9XbgznR7DHAa8BDwDHAFMDm17QEEcCLwC+CW9D9SvS8Ab0jD/i1wH/BLYCkwqzS/I4D7gV8B/wn8H/D+Bs9zEXBJ6X4Afw88AKwDPg3sBdwKPJ/q3SENOwm4Fngq1XEtMKM0rVen57AO+A7whSHzOiRN9zngp8DcBjV+F9gM/DYtgz9Mr+HFad6PAZ8CxqTh3wf8APh8WsZnjuB575ee+xTgIuBLwHXAr4E3A9OBr6f5PQJ8uDTuTmmcXwL3Ah8HVpXaHwXenG6PBU5Pr/86YDkwMy2nSPN7Afgr0vusNJ0/Am5Oy+se4G2ltovS8v1mmu5twF4dy1CvQ7wNYT8S2ASMqxjmX4AfAa+g+OS/Ffh0Keyb0jDjgQXAemBSan8IOKI0rf8FTku3P5KmO4PiA+W/gcuGhP1iYJf0Jhp8bFxpekcDD6YXf1x6o9+a2qakF/svU23/kGrdlrBfDbwsBWADcCOwJ0XA7gVOSMPuBvwFsDMwMT3Pb5Sm9UPgs8AOwGEUHxaXpLYBiiAuoPgAPCLd371BnTeXn0NaRlen+e4B/Bw4sRT2TcCH0vLZqep5p9fh34FflILzK+DQVNvOFKH8p/Rc9gQeBual4c8GvgdMpgju3TQO+8eBu4B9AAGvA3YrLfvXlMabOzid9Fo+SPFBsQPw5+l13qdU8zPAQek5fxW43GGHdwNP1AzzELCgdH8e8GjpRfgNWwdwLXBIun0mcGG6PZHi03pWun8fcHhpvGnAxvQC7ZFe8D1L7YOPlef1rcE3dro/huLDZhbwXuBHpTZRbIVsS9gPLd1fDpxaun8OcG6Dac0Gfpluv4oicDuX2i/h9wE7FfjKkPGXkj5Ihpn2zYPPgWLt+CKwb6n9JODmdPt9pOBWvL6L0jSeS6/dd4EDU9tFwMWlYQ8eOj3gk8D/pNsPA0eW2hbSOOw/A45uUFNV2N9IscU4ptR+GbCoVPP5pbYFwP2dytBo+n75DDBF0riI2NRgmOkUm4eDHkuP/W4aQ8ZdD+yabl8K3CrpA8A7gDsiYnBas4CrJG0pjbuZYr/BoJU19c8CzpN0TukxUawtp5fHj4iQVDe9oZ4s3f7NMPdfCSBpZ4pN5SMpNukBJqbvuNOBZyNifWnclRRrvsHncKykt5baxwM3jaC+KWnYoa/PwJB51bkiIv66QVt5/FnAdEnPlR4bS7E2hyHLfEhdQ82kWJFsq+nAyogov2+GPucnSrfL78e2G0076H5IsXl6TMUwj1O8yINelR6rFRH3UrwQ84F3UYR/0EpgfkT8Qelvx4hYXZ5Eg9vlaZw0ZBo7RcStFPsPBgNF2uE0c5hptMMpFJujB0fEy4A3Dc421TE5fSAMKtexkmLNXn4Ou0TE2SOY79MUW0NDX59Gy7AZ5fFXAo8MqXViRCxI7Vst81RLIysp9oFsq8eBmZLKORv6nLtm1IQ9In5F8f3rC5KOkbSzpPGS5kv6TBrsMuBTknaXNCUNvy1dVJdSfD9/E8V32UH/BZwlaRZAmn5VD8BTwBaK74nlaXxS0n5pGi+XdGxq+yawn6R3pL3QHyatiTtgIsWa/jlJk4EzBhvSlswyYJGkHVK3VnktfgnwVknzJI2VtGPqn55RN9OI2Eyxo/AsSRPTsvwY2/b6bIvbgXWSTpW0U6r3tZJen9qvoHg9JqX6P1QxrfOBT0vaW4U/lrRbanuSrV/nstso1tafSO/VuRTL8/JWn1wzRk3YASLiHIo3yKcoArUSOBn4RhrkTIo3650UO1TuSI+N1GXAnwLfjYinS4+fB1wDXC9pHcXOuoMr6lwPnAX8IPUHHxIRVwH/Blwu6XmKHULz0/BPA8dS7DR6BtibYs90J5xLsRPx6fQ8vj2k/d3AG1IdZwJfo9iiIiJWUuxoPJ3fL/+PM/L30Yco9oU8TNFtdilwYfNPpbH04XIUxT6JRyie7/kUOywB/pliS+4R4HrgKxWT+xzFh8P1FDssL6BYhlDsR1iSXufjhtTwIkW456f5fxF4b0Tc3+LTa4rSjgGzYUn6GsVOozNqB7a+NqrW7NZ5kl4vaS9JYyQdSbEm/0bdeNb/RtPeeOuOVwJXUvTHrwI+EBE/6W1J1g7ejDfLhDfjzTLR1c34HTQhdmSXbs7SLCu/5de8GBtecmAQtBj2tAPnPIpfJp1f9+OKHdmFg3V4K7M0swq3xY0N25rejE8/r/wCRR/ivsDxkvZtdnpm1lmtfGc/CHgwIh5OPx64nD46rtzMttZK2AfY+kCCVWz9A38AJC1MZ5ZZtrH4IZaZ9UDH98ZHxOKImBMRc8YzodOzM7MGWgn7arY+amgGPTqax8zqtRL2HwN7S3q1pB2Ad1IcLGJmfajprreI2CTpZIozlYylOMtLUycXtFHsped63Jp/odk3Wupnj4jrKE7wZ2Z9zj+XNcuEw26WCYfdLBMOu1kmHHazTDjsZpnwaam2BxV93UtXt3ZGqc1bXd/gpRYMHNDS9K17vGY3y4TDbpYJh90sEw67WSYcdrNMOOxmmXDXWxcsfXxFZfvG2FzZPl5jK9vnTZ/dVJvlxWt2s0w47GaZcNjNMuGwm2XCYTfLhMNulgmH3SwT7mdvg2tXL69snzf9wC5VYtaY1+xmmXDYzTLhsJtlwmE3y4TDbpYJh90sEw67WSbczz5C1cekVx9v7ssaWz9oKeySHgXWAZuBTRExpx1FmVn7tWPN/mcR8XQbpmNmHeTv7GaZaDXsAVwvabmkhcMNIGmhpGWSlm1kQ4uzM7NmtboZf1hErJb0CuAGSfdHxC3lASJiMbAY4GWa7D1RZj3S0po9Ilan/2uBq4CD2lGUmbVf02GXtIukiYO3gbcAd7erMDNrr1Y246cCV6noQx4HXBoR325LVX1o3ozGx6QvXVV9PLtZP2g67BHxMPC6NtZiZh3krjezTDjsZplw2M0y4bCbZcJhN8uED3EdqS2NL6u8ObZUj6uaz9SaSzabtYPX7GaZcNjNMuGwm2XCYTfLhMNulgmH3SwTDrtZJtzP3gYLBg6obL929e2V7UcN+JLO1nles5tlwmE3y4TDbpYJh90sEw67WSYcdrNMOOxmmXA/exdsoe54d1/S2TrPa3azTDjsZplw2M0y4bCbZcJhN8uEw26WCYfdLBPuZ++CCRpfPUA/96OPGVvdXnE+/drx68a1tqpds0u6UNJaSXeXHpss6QZJD6T/kzpbppm1aiSb8RcBRw557DTgxojYG7gx3TezPlYb9oi4BXh2yMNHA0vS7SXAMW2uy8zarNnv7FMjYk26/QQwtdGAkhYCCwF2ZOcmZ2dmrWp5b3xEBNBwD1NELI6IORExZzwTWp2dmTWp2bA/KWkaQPq/tn0lmVknNBv2a4AT0u0TgKvbU46ZdUrtd3ZJlwFzgSmSVgFnAGcDV0g6EXgMOK6TRY529ddvb/F49qrxa8Zd+viK6mnXqHtuYyuuTV83bt35+G3b1IY9Io5v0HR4m2sxsw7yz2XNMuGwm2XCYTfLhMNulgmH3SwTPsS1C6q6n4Da7jGNq36ZvvlY40tC18173sD+le29PPy2rltw3vTZXapk++A1u1kmHHazTDjsZplw2M0y4bCbZcJhN8uEw26WCfezd0HdoZx1/cl1429pfKIgFtT2Rffvaazr+tGvXb28sn0MjQ/9zfHwWa/ZzTLhsJtlwmE3y4TDbpYJh90sEw67WSYcdrNMuJ+9CxbMOLCyfenqn1S21x2TXt+Xvn06aqBmubZ4muztjdfsZplw2M0y4bCbZcJhN8uEw26WCYfdLBMOu1km3M/eDTXnXt8QGyvbN/fw3O2jWdXx8Dmek752zS7pQklrJd1demyRpNWSVqS/BZ0t08xaNZLN+IuAI4d5/PMRMTv9Xdfessys3WrDHhG3AM92oRYz66BWdtCdLOnOtJk/qdFAkhZKWiZp2UY2tDA7M2tFs2H/ErAXMBtYA5zTaMCIWBwRcyJizngmNDk7M2tVU2GPiCcjYnNEbAG+DBzU3rLMrN2aCrukaaW7bwfubjSsmfWH2n52SZcBc4EpklYBZwBzJc2mOOn4o8BJHaxxuzdB4yvb582ouYZ6H5/7fdQaM7a6fcvm7tTRRrVhj4jjh3n4gg7UYmYd5J/LmmXCYTfLhMNulgmH3SwTDrtZJnyIax+ouyRz3SGytu3qLwd9e2V73Wms+5HX7GaZcNjNMuGwm2XCYTfLhMNulgmH3SwTDrtZJtzPbjaMMajXJbSd1+xmmXDYzTLhsJtlwmE3y4TDbpYJh90sEw67WSbcz94HFgwc0OsSsqMJ+V2dyGt2s0w47GaZcNjNMuGwm2XCYTfLhMNulgmH3SwTtWGXNFPSTZLulXSPpI+kxydLukHSA+n/pM6Xa9YesXFT5d9Yjan8G41GUvUm4JSI2Bc4BPigpH2B04AbI2Jv4MZ038z6VG3YI2JNRNyRbq8D7gMGgKOBJWmwJcAxnSrSzFq3TdsjkvYA9gduA6ZGxJrU9AQwta2VmVlbjTjsknYFvg58NCKeL7dFRADDXpBM0kJJyyQt28iGloo1s+aNKOySxlME/asRcWV6+ElJ01L7NGDtcONGxOKImBMRc8aT38EHZv1iJHvjBVwA3BcRnys1XQOckG6fAFzd/vLMrF1GcojrocB7gLskrUiPnQ6cDVwh6UTgMeC4zpRo1n5LVy2vbJ83o+6SzJvbV0yX1IY9Ir4PDU+ifXh7yzGzThmdvw4ws23msJtlwmE3y4TDbpYJh90sEw67WSZ8Kul+MGZsdfuW6j7dpY+vqGyvsjm2VLZne5rrmmU+GnnNbpYJh90sEw67WSYcdrNMOOxmmXDYzTLhsJtlwv3sfeDalbdXto9peITx74doZP5r/qRyzC3r11e21/Xhz5s+u7K9l1r5/cH2yGt2s0w47GaZcNjNMuGwm2XCYTfLhMNulgmH3SwT7mfvA+NVfTx7a33Z1f3odTbExpbG76RW+tHnDexfM8SwVzMb1bxmN8uEw26WCYfdLBMOu1kmHHazTDjsZplw2M0yUdvPLmkmcDEwlaLzcXFEnCdpEfB3wFNp0NMj4rpOFZo11RzPHo37hDWu+iWOTZsq29828PrqeddopS98/ZYXK9vnDRxcPYGK5bI99qPXGcmPajYBp0TEHZImAssl3ZDaPh8Rn+1ceWbWLrVhj4g1wJp0e52k+4CBThdmZu21Td/ZJe0B7A/clh46WdKdki6UNKnBOAslLZO0bCMbWirWzJo34rBL2hX4OvDRiHge+BKwFzCbYs1/znDjRcTiiJgTEXPGM6ENJZtZM0YUdknjKYL+1Yi4EiAinoyIzRGxBfgycFDnyjSzVtWGXZKAC4D7IuJzpcenlQZ7O3B3+8szs3YZyd74Q4H3AHdJGuxHOR04XtJsij6MR4GTOlJhBubNOLB6gKi+fPC1q5c3bKs7fLbTOnuq6fy6z1oxkr3x34dhT1zuPnWzUcS/oDPLhMNulgmH3SwTDrtZJhx2s0w47GaZ8Kmk+8GW6n70OkcN1PTTm+E1u1k2HHazTDjsZplw2M0y4bCbZcJhN8uEw26WCUXl6XbbPDPpKeCx0kNTgKe7VsC26dfa+rUucG3NamdtsyJi9+Eauhr2l8xcWhYRc3pWQIV+ra1f6wLX1qxu1ebNeLNMOOxmmeh12Bf3eP5V+rW2fq0LXFuzulJbT7+zm1n39HrNbmZd4rCbZaInYZd0pKSfSXpQ0mm9qKERSY9KukvSCknLelzLhZLWSrq79NhkSTdIeiD9H/Yaez2qbZGk1WnZrZC0oEe1zZR0k6R7Jd0j6SPp8Z4uu4q6urLcuv6dXdJY4OfAEcAq4MfA8RFxb1cLaUDSo8CciOj5DzAkvQl4Abg4Il6bHvsM8GxEnJ0+KCdFxKl9Utsi4IVeX8Y7Xa1oWvky48AxwPvo4bKrqOs4urDcerFmPwh4MCIejogXgcuBo3tQR9+LiFuAZ4c8fDSwJN1eQvFm6boGtfWFiFgTEXek2+uAwcuM93TZVdTVFb0I+wCwsnR/Ff11vfcArpe0XNLCXhczjKkRsSbdfgKY2stihlF7Ge9uGnKZ8b5Zds1c/rxV3kH3UodFxAHAfOCDaXO1L0XxHayf+k5HdBnvbhnmMuO/08tl1+zlz1vVi7CvBmaW7s9Ij/WFiFid/q8FrqL/LkX95OAVdNP/tT2u53f66TLew11mnD5Ydr28/Hkvwv5jYG9Jr5a0A/BO4Joe1PESknZJO06QtAvwFvrvUtTXACek2ycAV/ewlq30y2W8G11mnB4vu55f/jwiuv4HLKDYI/8Q8I+9qKFBXXsCP01/9/S6NuAyis26jRT7Nk4EdgNuBB4AvgNM7qPavgLcBdxJEaxpPartMIpN9DuBFelvQa+XXUVdXVlu/rmsWSa8g84sEw67WSYcdrNMOOxmmXDYzTLhsJtlwmE3y8T/A173od1oM829AAAAAElFTkSuQmCC\n",
            "text/plain": [
              "<Figure size 432x288 with 1 Axes>"
            ]
          },
          "metadata": {
            "tags": [],
            "needs_background": "light"
          }
        },
        {
          "output_type": "stream",
          "text": [
            "Predictions for each class [[1.9856884e-06 1.2487728e-06 3.9514951e-08 5.7791563e-05 1.8741062e-08\n",
            "  9.9983048e-01 3.4651450e-05 5.6732684e-08 6.5370114e-05 8.3998102e-06]]\n",
            "Predicted value is 5\n"
          ],
          "name": "stdout"
        }
      ]
    },
    {
      "cell_type": "code",
      "metadata": {
        "id": "634gmJLtI3ZG"
      },
      "source": [],
      "execution_count": null,
      "outputs": []
    }
  ]
}
