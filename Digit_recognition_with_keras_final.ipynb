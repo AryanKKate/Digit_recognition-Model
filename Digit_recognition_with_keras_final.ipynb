{
  "nbformat": 4,
  "nbformat_minor": 0,
  "metadata": {
    "accelerator": "GPU",
    "colab": {
      "provenance": []
    },
    "kernelspec": {
      "display_name": "Python 3",
      "language": "python",
      "name": "python3"
    },
    "language_info": {
      "codemirror_mode": {
        "name": "ipython",
        "version": 3
      },
      "file_extension": ".py",
      "mimetype": "text/x-python",
      "name": "python",
      "nbconvert_exporter": "python",
      "pygments_lexer": "ipython3",
      "version": "3.7.3"
    }
  },
  "cells": [
    {
      "cell_type": "markdown",
      "source": [
        "##Importing Required Libraries"
      ],
      "metadata": {
        "id": "VIxvaNDhSVZ8"
      }
    },
    {
      "cell_type": "code",
      "metadata": {
        "id": "67X8rxw7gJH0"
      },
      "source": [
        "import numpy as np\n",
        "import cv2\n",
        "import matplotlib.pyplot as plt\n",
        "from tensorflow.keras.preprocessing import image\n",
        "from tensorflow import keras\n",
        "from tensorflow.keras.datasets import mnist\n",
        "from tensorflow.keras.layers import Dense,Dropout\n",
        "from tensorflow.keras.models import Sequential\n"
      ],
      "execution_count": null,
      "outputs": []
    },
    {
      "cell_type": "markdown",
      "source": [
        "##Loading the MNIST dataset"
      ],
      "metadata": {
        "id": "wWIMzmbiR9VP"
      }
    },
    {
      "cell_type": "code",
      "metadata": {
        "id": "KJwXf0jmI3Wx",
        "colab": {
          "base_uri": "https://localhost:8080/"
        },
        "outputId": "e7349fc6-e649-424c-f89f-fe536fe27530"
      },
      "source": [
        "(train_x, train_y) , (test_x, test_y) = mnist.load_data()\n",
        "\n"
      ],
      "execution_count": null,
      "outputs": [
        {
          "output_type": "stream",
          "name": "stdout",
          "text": [
            "Downloading data from https://storage.googleapis.com/tensorflow/tf-keras-datasets/mnist.npz\n",
            "11490434/11490434 [==============================] - 2s 0us/step\n"
          ]
        }
      ]
    },
    {
      "cell_type": "markdown",
      "source": [
        "##Preprocessing and Feature Scaling wrt 255 pixels"
      ],
      "metadata": {
        "id": "J2Dcdg2qSgD9"
      }
    },
    {
      "cell_type": "code",
      "metadata": {
        "id": "EcDX1fb4I3XB",
        "colab": {
          "base_uri": "https://localhost:8080/"
        },
        "outputId": "45135da3-e438-49ed-89f0-0032af8ae637"
      },
      "source": [
        "train_x = train_x.astype('float32') / 255\n",
        "test_x = test_x.astype('float32') / 255\n",
        "\n",
        "\n",
        "print(train_x.shape)\n",
        "print(train_y.shape)\n",
        "print(test_x.shape)\n",
        "print(test_y.shape)\n"
      ],
      "execution_count": null,
      "outputs": [
        {
          "output_type": "stream",
          "name": "stdout",
          "text": [
            "(60000, 28, 28)\n",
            "(60000,)\n",
            "(10000, 28, 28)\n",
            "(10000,)\n"
          ]
        }
      ]
    },
    {
      "cell_type": "markdown",
      "source": [
        "##Preparing the Dataset"
      ],
      "metadata": {
        "id": "0wRH--yzSblM"
      }
    },
    {
      "cell_type": "code",
      "metadata": {
        "id": "zG2gp6WCI3XM"
      },
      "source": [
        "\n",
        "train_x = train_x.reshape(60000,784)\n",
        "test_x = test_x.reshape(10000,784)\n",
        "\n",
        "train_y = keras.utils.to_categorical(train_y,10)\n",
        "test_y = keras.utils.to_categorical(test_y,10)\n",
        "\n"
      ],
      "execution_count": null,
      "outputs": []
    },
    {
      "cell_type": "markdown",
      "source": [
        "##Sequential 5 layers NN model"
      ],
      "metadata": {
        "id": "gVSzqQ9SSoNc"
      }
    },
    {
      "cell_type": "code",
      "metadata": {
        "id": "CHWN98LVI3Xc"
      },
      "source": [
        "model = Sequential()\n",
        "model.add(Dense(units=256,activation=\"relu\",input_shape=(784,)))\n",
        "model.add(Dropout(0.4))\n",
        "\n",
        "model.add(Dense(units=128,activation=\"relu\"))\n",
        "model.add(Dropout(0.3))\n",
        "\n",
        "model.add(Dense(units=128,activation=\"relu\"))\n",
        "model.add(Dropout(0.4))\n",
        "\n",
        "model.add(Dense(units=64,activation=\"relu\"))\n",
        "model.add(Dropout(0.4))\n",
        "\n",
        "model.add(Dense(units=10,activation=\"softmax\"))"
      ],
      "execution_count": null,
      "outputs": []
    },
    {
      "cell_type": "code",
      "metadata": {
        "id": "n5UqtplCI3Xn"
      },
      "source": [
        "model.compile(optimizer='Adam',loss=\"categorical_crossentropy\",metrics=[\"accuracy\"])\n",
        "\n"
      ],
      "execution_count": null,
      "outputs": []
    },
    {
      "cell_type": "code",
      "metadata": {
        "id": "8NgXSbnwI3X0",
        "colab": {
          "base_uri": "https://localhost:8080/"
        },
        "outputId": "d885b8bf-7f77-4f39-ddc6-e884995c34ad"
      },
      "source": [
        "H=model.fit(train_x,train_y,batch_size=2048,epochs=100)"
      ],
      "execution_count": null,
      "outputs": [
        {
          "output_type": "stream",
          "name": "stdout",
          "text": [
            "Epoch 1/100\n",
            "30/30 [==============================] - 5s 7ms/step - loss: 1.7475 - accuracy: 0.3785\n",
            "Epoch 2/100\n",
            "30/30 [==============================] - 0s 10ms/step - loss: 0.7470 - accuracy: 0.7580\n",
            "Epoch 3/100\n",
            "30/30 [==============================] - 0s 11ms/step - loss: 0.4421 - accuracy: 0.8721\n",
            "Epoch 4/100\n",
            "30/30 [==============================] - 0s 9ms/step - loss: 0.3302 - accuracy: 0.9112\n",
            "Epoch 5/100\n",
            "30/30 [==============================] - 0s 7ms/step - loss: 0.2779 - accuracy: 0.9258\n",
            "Epoch 6/100\n",
            "30/30 [==============================] - 0s 7ms/step - loss: 0.2429 - accuracy: 0.9368\n",
            "Epoch 7/100\n",
            "30/30 [==============================] - 0s 7ms/step - loss: 0.2161 - accuracy: 0.9443\n",
            "Epoch 8/100\n",
            "30/30 [==============================] - 0s 7ms/step - loss: 0.1962 - accuracy: 0.9495\n",
            "Epoch 9/100\n",
            "30/30 [==============================] - 0s 7ms/step - loss: 0.1758 - accuracy: 0.9540\n",
            "Epoch 10/100\n",
            "30/30 [==============================] - 0s 7ms/step - loss: 0.1608 - accuracy: 0.9584\n",
            "Epoch 11/100\n",
            "30/30 [==============================] - 0s 7ms/step - loss: 0.1497 - accuracy: 0.9620\n",
            "Epoch 12/100\n",
            "30/30 [==============================] - 0s 7ms/step - loss: 0.1401 - accuracy: 0.9641\n",
            "Epoch 13/100\n",
            "30/30 [==============================] - 0s 8ms/step - loss: 0.1340 - accuracy: 0.9650\n",
            "Epoch 14/100\n",
            "30/30 [==============================] - 0s 7ms/step - loss: 0.1277 - accuracy: 0.9667\n",
            "Epoch 15/100\n",
            "30/30 [==============================] - 0s 7ms/step - loss: 0.1212 - accuracy: 0.9689\n",
            "Epoch 16/100\n",
            "30/30 [==============================] - 0s 7ms/step - loss: 0.1140 - accuracy: 0.9706\n",
            "Epoch 17/100\n",
            "30/30 [==============================] - 0s 6ms/step - loss: 0.1037 - accuracy: 0.9726\n",
            "Epoch 18/100\n",
            "30/30 [==============================] - 0s 7ms/step - loss: 0.1038 - accuracy: 0.9735\n",
            "Epoch 19/100\n",
            "30/30 [==============================] - 0s 6ms/step - loss: 0.1020 - accuracy: 0.9734\n",
            "Epoch 20/100\n",
            "30/30 [==============================] - 0s 7ms/step - loss: 0.0937 - accuracy: 0.9761\n",
            "Epoch 21/100\n",
            "30/30 [==============================] - 0s 7ms/step - loss: 0.0942 - accuracy: 0.9752\n",
            "Epoch 22/100\n",
            "30/30 [==============================] - 0s 7ms/step - loss: 0.0889 - accuracy: 0.9773\n",
            "Epoch 23/100\n",
            "30/30 [==============================] - 0s 7ms/step - loss: 0.0828 - accuracy: 0.9787\n",
            "Epoch 24/100\n",
            "30/30 [==============================] - 0s 6ms/step - loss: 0.0829 - accuracy: 0.9783\n",
            "Epoch 25/100\n",
            "30/30 [==============================] - 0s 7ms/step - loss: 0.0792 - accuracy: 0.9790\n",
            "Epoch 26/100\n",
            "30/30 [==============================] - 0s 7ms/step - loss: 0.0737 - accuracy: 0.9808\n",
            "Epoch 27/100\n",
            "30/30 [==============================] - 0s 11ms/step - loss: 0.0745 - accuracy: 0.9801\n",
            "Epoch 28/100\n",
            "30/30 [==============================] - 0s 10ms/step - loss: 0.0716 - accuracy: 0.9809\n",
            "Epoch 29/100\n",
            "30/30 [==============================] - 0s 9ms/step - loss: 0.0685 - accuracy: 0.9815\n",
            "Epoch 30/100\n",
            "30/30 [==============================] - 0s 8ms/step - loss: 0.0659 - accuracy: 0.9825\n",
            "Epoch 31/100\n",
            "30/30 [==============================] - 0s 11ms/step - loss: 0.0643 - accuracy: 0.9826\n",
            "Epoch 32/100\n",
            "30/30 [==============================] - 0s 11ms/step - loss: 0.0619 - accuracy: 0.9836\n",
            "Epoch 33/100\n",
            "30/30 [==============================] - 0s 10ms/step - loss: 0.0634 - accuracy: 0.9833\n",
            "Epoch 34/100\n",
            "30/30 [==============================] - 0s 10ms/step - loss: 0.0615 - accuracy: 0.9838\n",
            "Epoch 35/100\n",
            "30/30 [==============================] - 0s 8ms/step - loss: 0.0584 - accuracy: 0.9844\n",
            "Epoch 36/100\n",
            "30/30 [==============================] - 0s 7ms/step - loss: 0.0581 - accuracy: 0.9849\n",
            "Epoch 37/100\n",
            "30/30 [==============================] - 0s 6ms/step - loss: 0.0570 - accuracy: 0.9854\n",
            "Epoch 38/100\n",
            "30/30 [==============================] - 0s 7ms/step - loss: 0.0552 - accuracy: 0.9863\n",
            "Epoch 39/100\n",
            "30/30 [==============================] - 0s 7ms/step - loss: 0.0569 - accuracy: 0.9846\n",
            "Epoch 40/100\n",
            "30/30 [==============================] - 0s 6ms/step - loss: 0.0576 - accuracy: 0.9851\n",
            "Epoch 41/100\n",
            "30/30 [==============================] - 0s 7ms/step - loss: 0.0511 - accuracy: 0.9862\n",
            "Epoch 42/100\n",
            "30/30 [==============================] - 0s 7ms/step - loss: 0.0548 - accuracy: 0.9857\n",
            "Epoch 43/100\n",
            "30/30 [==============================] - 0s 8ms/step - loss: 0.0491 - accuracy: 0.9867\n",
            "Epoch 44/100\n",
            "30/30 [==============================] - 0s 7ms/step - loss: 0.0509 - accuracy: 0.9863\n",
            "Epoch 45/100\n",
            "30/30 [==============================] - 0s 7ms/step - loss: 0.0506 - accuracy: 0.9864\n",
            "Epoch 46/100\n",
            "30/30 [==============================] - 0s 7ms/step - loss: 0.0508 - accuracy: 0.9863\n",
            "Epoch 47/100\n",
            "30/30 [==============================] - 0s 7ms/step - loss: 0.0500 - accuracy: 0.9870\n",
            "Epoch 48/100\n",
            "30/30 [==============================] - 0s 7ms/step - loss: 0.0477 - accuracy: 0.9869\n",
            "Epoch 49/100\n",
            "30/30 [==============================] - 0s 6ms/step - loss: 0.0445 - accuracy: 0.9883\n",
            "Epoch 50/100\n",
            "30/30 [==============================] - 0s 7ms/step - loss: 0.0446 - accuracy: 0.9881\n",
            "Epoch 51/100\n",
            "30/30 [==============================] - 0s 7ms/step - loss: 0.0421 - accuracy: 0.9887\n",
            "Epoch 52/100\n",
            "30/30 [==============================] - 0s 7ms/step - loss: 0.0433 - accuracy: 0.9882\n",
            "Epoch 53/100\n",
            "30/30 [==============================] - 0s 7ms/step - loss: 0.0434 - accuracy: 0.9883\n",
            "Epoch 54/100\n",
            "30/30 [==============================] - 0s 7ms/step - loss: 0.0429 - accuracy: 0.9888\n",
            "Epoch 55/100\n",
            "30/30 [==============================] - 0s 6ms/step - loss: 0.0447 - accuracy: 0.9883\n",
            "Epoch 56/100\n",
            "30/30 [==============================] - 0s 7ms/step - loss: 0.0412 - accuracy: 0.9887\n",
            "Epoch 57/100\n",
            "30/30 [==============================] - 0s 8ms/step - loss: 0.0392 - accuracy: 0.9891\n",
            "Epoch 58/100\n",
            "30/30 [==============================] - 0s 7ms/step - loss: 0.0369 - accuracy: 0.9905\n",
            "Epoch 59/100\n",
            "30/30 [==============================] - 0s 7ms/step - loss: 0.0418 - accuracy: 0.9893\n",
            "Epoch 60/100\n",
            "30/30 [==============================] - 0s 7ms/step - loss: 0.0382 - accuracy: 0.9895\n",
            "Epoch 61/100\n",
            "30/30 [==============================] - 0s 8ms/step - loss: 0.0355 - accuracy: 0.9904\n",
            "Epoch 62/100\n",
            "30/30 [==============================] - 0s 7ms/step - loss: 0.0380 - accuracy: 0.9901\n",
            "Epoch 63/100\n",
            "30/30 [==============================] - 0s 7ms/step - loss: 0.0369 - accuracy: 0.9900\n",
            "Epoch 64/100\n",
            "30/30 [==============================] - 0s 7ms/step - loss: 0.0344 - accuracy: 0.9907\n",
            "Epoch 65/100\n",
            "30/30 [==============================] - 0s 7ms/step - loss: 0.0358 - accuracy: 0.9907\n",
            "Epoch 66/100\n",
            "30/30 [==============================] - 0s 7ms/step - loss: 0.0345 - accuracy: 0.9906\n",
            "Epoch 67/100\n",
            "30/30 [==============================] - 0s 7ms/step - loss: 0.0383 - accuracy: 0.9902\n",
            "Epoch 68/100\n",
            "30/30 [==============================] - 0s 7ms/step - loss: 0.0335 - accuracy: 0.9909\n",
            "Epoch 69/100\n",
            "30/30 [==============================] - 0s 7ms/step - loss: 0.0369 - accuracy: 0.9900\n",
            "Epoch 70/100\n",
            "30/30 [==============================] - 0s 7ms/step - loss: 0.0360 - accuracy: 0.9905\n",
            "Epoch 71/100\n",
            "30/30 [==============================] - 0s 7ms/step - loss: 0.0336 - accuracy: 0.9914\n",
            "Epoch 72/100\n",
            "30/30 [==============================] - 0s 6ms/step - loss: 0.0315 - accuracy: 0.9915\n",
            "Epoch 73/100\n",
            "30/30 [==============================] - 0s 7ms/step - loss: 0.0301 - accuracy: 0.9916\n",
            "Epoch 74/100\n",
            "30/30 [==============================] - 0s 6ms/step - loss: 0.0290 - accuracy: 0.9919\n",
            "Epoch 75/100\n",
            "30/30 [==============================] - 0s 7ms/step - loss: 0.0309 - accuracy: 0.9920\n",
            "Epoch 76/100\n",
            "30/30 [==============================] - 0s 7ms/step - loss: 0.0299 - accuracy: 0.9917\n",
            "Epoch 77/100\n",
            "30/30 [==============================] - 0s 7ms/step - loss: 0.0307 - accuracy: 0.9917\n",
            "Epoch 78/100\n",
            "30/30 [==============================] - 0s 7ms/step - loss: 0.0319 - accuracy: 0.9916\n",
            "Epoch 79/100\n",
            "30/30 [==============================] - 0s 6ms/step - loss: 0.0322 - accuracy: 0.9915\n",
            "Epoch 80/100\n",
            "30/30 [==============================] - 0s 8ms/step - loss: 0.0294 - accuracy: 0.9921\n",
            "Epoch 81/100\n",
            "30/30 [==============================] - 0s 7ms/step - loss: 0.0293 - accuracy: 0.9921\n",
            "Epoch 82/100\n",
            "30/30 [==============================] - 0s 7ms/step - loss: 0.0285 - accuracy: 0.9920\n",
            "Epoch 83/100\n",
            "30/30 [==============================] - 0s 9ms/step - loss: 0.0296 - accuracy: 0.9921\n",
            "Epoch 84/100\n",
            "30/30 [==============================] - 0s 10ms/step - loss: 0.0297 - accuracy: 0.9921\n",
            "Epoch 85/100\n",
            "30/30 [==============================] - 0s 9ms/step - loss: 0.0294 - accuracy: 0.9921\n",
            "Epoch 86/100\n",
            "30/30 [==============================] - 0s 8ms/step - loss: 0.0263 - accuracy: 0.9930\n",
            "Epoch 87/100\n",
            "30/30 [==============================] - 0s 9ms/step - loss: 0.0289 - accuracy: 0.9928\n",
            "Epoch 88/100\n",
            "30/30 [==============================] - 0s 10ms/step - loss: 0.0270 - accuracy: 0.9931\n",
            "Epoch 89/100\n",
            "30/30 [==============================] - 0s 9ms/step - loss: 0.0280 - accuracy: 0.9923\n",
            "Epoch 90/100\n",
            "30/30 [==============================] - 0s 9ms/step - loss: 0.0273 - accuracy: 0.9924\n",
            "Epoch 91/100\n",
            "30/30 [==============================] - 0s 10ms/step - loss: 0.0265 - accuracy: 0.9928\n",
            "Epoch 92/100\n",
            "30/30 [==============================] - 0s 9ms/step - loss: 0.0272 - accuracy: 0.9923\n",
            "Epoch 93/100\n",
            "30/30 [==============================] - 0s 8ms/step - loss: 0.0275 - accuracy: 0.9926\n",
            "Epoch 94/100\n",
            "30/30 [==============================] - 0s 7ms/step - loss: 0.0249 - accuracy: 0.9929\n",
            "Epoch 95/100\n",
            "30/30 [==============================] - 0s 7ms/step - loss: 0.0260 - accuracy: 0.9930\n",
            "Epoch 96/100\n",
            "30/30 [==============================] - 0s 7ms/step - loss: 0.0272 - accuracy: 0.9927\n",
            "Epoch 97/100\n",
            "30/30 [==============================] - 0s 7ms/step - loss: 0.0250 - accuracy: 0.9931\n",
            "Epoch 98/100\n",
            "30/30 [==============================] - 0s 7ms/step - loss: 0.0239 - accuracy: 0.9936\n",
            "Epoch 99/100\n",
            "30/30 [==============================] - 0s 7ms/step - loss: 0.0246 - accuracy: 0.9934\n",
            "Epoch 100/100\n",
            "30/30 [==============================] - 0s 7ms/step - loss: 0.0252 - accuracy: 0.9937\n"
          ]
        }
      ]
    },
    {
      "cell_type": "markdown",
      "source": [
        "##Accuracy evaluation"
      ],
      "metadata": {
        "id": "5sSMyLSLStiU"
      }
    },
    {
      "cell_type": "code",
      "metadata": {
        "id": "fdccBMsuI3YL",
        "colab": {
          "base_uri": "https://localhost:8080/"
        },
        "outputId": "3d188116-be7d-485b-d06b-eb28a218db51"
      },
      "source": [
        "accuracy = model.evaluate(x=test_x,y=test_y,batch_size=1024)\n",
        "\n",
        "print(\"Accuracy: \",accuracy[1])"
      ],
      "execution_count": null,
      "outputs": [
        {
          "output_type": "stream",
          "name": "stdout",
          "text": [
            "10/10 [==============================] - 0s 5ms/step - loss: 0.0852 - accuracy: 0.9820\n",
            "Accuracy:  0.9819999933242798\n"
          ]
        }
      ]
    },
    {
      "cell_type": "code",
      "metadata": {
        "id": "q_YJw7KxLaUM",
        "colab": {
          "base_uri": "https://localhost:8080/"
        },
        "outputId": "e2ec1dc3-475d-4ac0-80ab-47fdb7129759"
      },
      "source": [
        "H.history.keys() # To check which information does it contain"
      ],
      "execution_count": null,
      "outputs": [
        {
          "output_type": "execute_result",
          "data": {
            "text/plain": [
              "dict_keys(['loss', 'accuracy'])"
            ]
          },
          "metadata": {},
          "execution_count": 9
        }
      ]
    },
    {
      "cell_type": "code",
      "metadata": {
        "id": "678alk6DsXJ9",
        "colab": {
          "base_uri": "https://localhost:8080/"
        },
        "outputId": "f779d0cb-3234-4a0c-cb3b-4a4c2096db71"
      },
      "source": [
        "H.history['accuracy']"
      ],
      "execution_count": null,
      "outputs": [
        {
          "output_type": "execute_result",
          "data": {
            "text/plain": [
              "[0.37851667404174805,\n",
              " 0.7580333352088928,\n",
              " 0.8721166849136353,\n",
              " 0.9112499952316284,\n",
              " 0.9258000254631042,\n",
              " 0.9367666840553284,\n",
              " 0.9442833065986633,\n",
              " 0.9495166540145874,\n",
              " 0.9539833068847656,\n",
              " 0.9584000110626221,\n",
              " 0.961983323097229,\n",
              " 0.9640833139419556,\n",
              " 0.9649500250816345,\n",
              " 0.9667333364486694,\n",
              " 0.9689333438873291,\n",
              " 0.9706000089645386,\n",
              " 0.9725666642189026,\n",
              " 0.9735166430473328,\n",
              " 0.9733666777610779,\n",
              " 0.9760833382606506,\n",
              " 0.9751999974250793,\n",
              " 0.9772999882698059,\n",
              " 0.9786999821662903,\n",
              " 0.9783499836921692,\n",
              " 0.9789999723434448,\n",
              " 0.9808333516120911,\n",
              " 0.9800833463668823,\n",
              " 0.9809333086013794,\n",
              " 0.9814666509628296,\n",
              " 0.9824833273887634,\n",
              " 0.9825666546821594,\n",
              " 0.9836166501045227,\n",
              " 0.9832500219345093,\n",
              " 0.9838333129882812,\n",
              " 0.9843999743461609,\n",
              " 0.9849166870117188,\n",
              " 0.9854000210762024,\n",
              " 0.9863166809082031,\n",
              " 0.9846333265304565,\n",
              " 0.9851333498954773,\n",
              " 0.9862333536148071,\n",
              " 0.9856500029563904,\n",
              " 0.9867333173751831,\n",
              " 0.9863499999046326,\n",
              " 0.9864000082015991,\n",
              " 0.9863499999046326,\n",
              " 0.9870333075523376,\n",
              " 0.9868999719619751,\n",
              " 0.9883000254631042,\n",
              " 0.9880666732788086,\n",
              " 0.9886833429336548,\n",
              " 0.9881666898727417,\n",
              " 0.98826664686203,\n",
              " 0.9888499975204468,\n",
              " 0.98826664686203,\n",
              " 0.9886999726295471,\n",
              " 0.9891166687011719,\n",
              " 0.9904500246047974,\n",
              " 0.9892500042915344,\n",
              " 0.989549994468689,\n",
              " 0.9903833270072937,\n",
              " 0.9901333451271057,\n",
              " 0.9900333285331726,\n",
              " 0.9906833171844482,\n",
              " 0.9907000064849854,\n",
              " 0.9905666708946228,\n",
              " 0.9901999831199646,\n",
              " 0.9909166693687439,\n",
              " 0.989983320236206,\n",
              " 0.9905333518981934,\n",
              " 0.9913833141326904,\n",
              " 0.9915333390235901,\n",
              " 0.9915666580200195,\n",
              " 0.9919000267982483,\n",
              " 0.9919999837875366,\n",
              " 0.9917333126068115,\n",
              " 0.9916999936103821,\n",
              " 0.9916499853134155,\n",
              " 0.9915000200271606,\n",
              " 0.9920666813850403,\n",
              " 0.9921333193778992,\n",
              " 0.9919666647911072,\n",
              " 0.9921333193778992,\n",
              " 0.9920666813850403,\n",
              " 0.9920833110809326,\n",
              " 0.9929500222206116,\n",
              " 0.9927666783332825,\n",
              " 0.993066668510437,\n",
              " 0.9922999739646912,\n",
              " 0.9924499988555908,\n",
              " 0.9927833080291748,\n",
              " 0.9923166632652283,\n",
              " 0.9926499724388123,\n",
              " 0.9929333329200745,\n",
              " 0.992983341217041,\n",
              " 0.992733359336853,\n",
              " 0.9931333065032959,\n",
              " 0.9935500025749207,\n",
              " 0.9933500289916992,\n",
              " 0.9936666488647461]"
            ]
          },
          "metadata": {},
          "execution_count": 10
        }
      ]
    },
    {
      "cell_type": "code",
      "metadata": {
        "id": "dOoPm_A3LrDU",
        "colab": {
          "base_uri": "https://localhost:8080/",
          "height": 542
        },
        "outputId": "c6c07ea2-490e-426a-d719-a9fd311d65d8"
      },
      "source": [
        "import plotly.express as px\n",
        "\n",
        "px.line(y=H.history['accuracy'],title='Accuracy')"
      ],
      "execution_count": null,
      "outputs": [
        {
          "output_type": "display_data",
          "data": {
            "text/html": [
              "<html>\n",
              "<head><meta charset=\"utf-8\" /></head>\n",
              "<body>\n",
              "    <div>            <script src=\"https://cdnjs.cloudflare.com/ajax/libs/mathjax/2.7.5/MathJax.js?config=TeX-AMS-MML_SVG\"></script><script type=\"text/javascript\">if (window.MathJax && window.MathJax.Hub && window.MathJax.Hub.Config) {window.MathJax.Hub.Config({SVG: {font: \"STIX-Web\"}});}</script>                <script type=\"text/javascript\">window.PlotlyConfig = {MathJaxConfig: 'local'};</script>\n",
              "        <script charset=\"utf-8\" src=\"https://cdn.plot.ly/plotly-2.24.1.min.js\"></script>                <div id=\"2f0b6518-6e21-48ce-bc00-6b72269b3121\" class=\"plotly-graph-div\" style=\"height:525px; width:100%;\"></div>            <script type=\"text/javascript\">                                    window.PLOTLYENV=window.PLOTLYENV || {};                                    if (document.getElementById(\"2f0b6518-6e21-48ce-bc00-6b72269b3121\")) {                    Plotly.newPlot(                        \"2f0b6518-6e21-48ce-bc00-6b72269b3121\",                        [{\"hovertemplate\":\"x=%{x}\\u003cbr\\u003ey=%{y}\\u003cextra\\u003e\\u003c\\u002fextra\\u003e\",\"legendgroup\":\"\",\"line\":{\"color\":\"#636efa\",\"dash\":\"solid\"},\"marker\":{\"symbol\":\"circle\"},\"mode\":\"lines\",\"name\":\"\",\"orientation\":\"v\",\"showlegend\":false,\"x\":[0,1,2,3,4,5,6,7,8,9,10,11,12,13,14,15,16,17,18,19,20,21,22,23,24,25,26,27,28,29,30,31,32,33,34,35,36,37,38,39,40,41,42,43,44,45,46,47,48,49,50,51,52,53,54,55,56,57,58,59,60,61,62,63,64,65,66,67,68,69,70,71,72,73,74,75,76,77,78,79,80,81,82,83,84,85,86,87,88,89,90,91,92,93,94,95,96,97,98,99],\"xaxis\":\"x\",\"y\":[0.37851667404174805,0.7580333352088928,0.8721166849136353,0.9112499952316284,0.9258000254631042,0.9367666840553284,0.9442833065986633,0.9495166540145874,0.9539833068847656,0.9584000110626221,0.961983323097229,0.9640833139419556,0.9649500250816345,0.9667333364486694,0.9689333438873291,0.9706000089645386,0.9725666642189026,0.9735166430473328,0.9733666777610779,0.9760833382606506,0.9751999974250793,0.9772999882698059,0.9786999821662903,0.9783499836921692,0.9789999723434448,0.9808333516120911,0.9800833463668823,0.9809333086013794,0.9814666509628296,0.9824833273887634,0.9825666546821594,0.9836166501045227,0.9832500219345093,0.9838333129882812,0.9843999743461609,0.9849166870117188,0.9854000210762024,0.9863166809082031,0.9846333265304565,0.9851333498954773,0.9862333536148071,0.9856500029563904,0.9867333173751831,0.9863499999046326,0.9864000082015991,0.9863499999046326,0.9870333075523376,0.9868999719619751,0.9883000254631042,0.9880666732788086,0.9886833429336548,0.9881666898727417,0.98826664686203,0.9888499975204468,0.98826664686203,0.9886999726295471,0.9891166687011719,0.9904500246047974,0.9892500042915344,0.989549994468689,0.9903833270072937,0.9901333451271057,0.9900333285331726,0.9906833171844482,0.9907000064849854,0.9905666708946228,0.9901999831199646,0.9909166693687439,0.989983320236206,0.9905333518981934,0.9913833141326904,0.9915333390235901,0.9915666580200195,0.9919000267982483,0.9919999837875366,0.9917333126068115,0.9916999936103821,0.9916499853134155,0.9915000200271606,0.9920666813850403,0.9921333193778992,0.9919666647911072,0.9921333193778992,0.9920666813850403,0.9920833110809326,0.9929500222206116,0.9927666783332825,0.993066668510437,0.9922999739646912,0.9924499988555908,0.9927833080291748,0.9923166632652283,0.9926499724388123,0.9929333329200745,0.992983341217041,0.992733359336853,0.9931333065032959,0.9935500025749207,0.9933500289916992,0.9936666488647461],\"yaxis\":\"y\",\"type\":\"scatter\"}],                        {\"template\":{\"data\":{\"histogram2dcontour\":[{\"type\":\"histogram2dcontour\",\"colorbar\":{\"outlinewidth\":0,\"ticks\":\"\"},\"colorscale\":[[0.0,\"#0d0887\"],[0.1111111111111111,\"#46039f\"],[0.2222222222222222,\"#7201a8\"],[0.3333333333333333,\"#9c179e\"],[0.4444444444444444,\"#bd3786\"],[0.5555555555555556,\"#d8576b\"],[0.6666666666666666,\"#ed7953\"],[0.7777777777777778,\"#fb9f3a\"],[0.8888888888888888,\"#fdca26\"],[1.0,\"#f0f921\"]]}],\"choropleth\":[{\"type\":\"choropleth\",\"colorbar\":{\"outlinewidth\":0,\"ticks\":\"\"}}],\"histogram2d\":[{\"type\":\"histogram2d\",\"colorbar\":{\"outlinewidth\":0,\"ticks\":\"\"},\"colorscale\":[[0.0,\"#0d0887\"],[0.1111111111111111,\"#46039f\"],[0.2222222222222222,\"#7201a8\"],[0.3333333333333333,\"#9c179e\"],[0.4444444444444444,\"#bd3786\"],[0.5555555555555556,\"#d8576b\"],[0.6666666666666666,\"#ed7953\"],[0.7777777777777778,\"#fb9f3a\"],[0.8888888888888888,\"#fdca26\"],[1.0,\"#f0f921\"]]}],\"heatmap\":[{\"type\":\"heatmap\",\"colorbar\":{\"outlinewidth\":0,\"ticks\":\"\"},\"colorscale\":[[0.0,\"#0d0887\"],[0.1111111111111111,\"#46039f\"],[0.2222222222222222,\"#7201a8\"],[0.3333333333333333,\"#9c179e\"],[0.4444444444444444,\"#bd3786\"],[0.5555555555555556,\"#d8576b\"],[0.6666666666666666,\"#ed7953\"],[0.7777777777777778,\"#fb9f3a\"],[0.8888888888888888,\"#fdca26\"],[1.0,\"#f0f921\"]]}],\"heatmapgl\":[{\"type\":\"heatmapgl\",\"colorbar\":{\"outlinewidth\":0,\"ticks\":\"\"},\"colorscale\":[[0.0,\"#0d0887\"],[0.1111111111111111,\"#46039f\"],[0.2222222222222222,\"#7201a8\"],[0.3333333333333333,\"#9c179e\"],[0.4444444444444444,\"#bd3786\"],[0.5555555555555556,\"#d8576b\"],[0.6666666666666666,\"#ed7953\"],[0.7777777777777778,\"#fb9f3a\"],[0.8888888888888888,\"#fdca26\"],[1.0,\"#f0f921\"]]}],\"contourcarpet\":[{\"type\":\"contourcarpet\",\"colorbar\":{\"outlinewidth\":0,\"ticks\":\"\"}}],\"contour\":[{\"type\":\"contour\",\"colorbar\":{\"outlinewidth\":0,\"ticks\":\"\"},\"colorscale\":[[0.0,\"#0d0887\"],[0.1111111111111111,\"#46039f\"],[0.2222222222222222,\"#7201a8\"],[0.3333333333333333,\"#9c179e\"],[0.4444444444444444,\"#bd3786\"],[0.5555555555555556,\"#d8576b\"],[0.6666666666666666,\"#ed7953\"],[0.7777777777777778,\"#fb9f3a\"],[0.8888888888888888,\"#fdca26\"],[1.0,\"#f0f921\"]]}],\"surface\":[{\"type\":\"surface\",\"colorbar\":{\"outlinewidth\":0,\"ticks\":\"\"},\"colorscale\":[[0.0,\"#0d0887\"],[0.1111111111111111,\"#46039f\"],[0.2222222222222222,\"#7201a8\"],[0.3333333333333333,\"#9c179e\"],[0.4444444444444444,\"#bd3786\"],[0.5555555555555556,\"#d8576b\"],[0.6666666666666666,\"#ed7953\"],[0.7777777777777778,\"#fb9f3a\"],[0.8888888888888888,\"#fdca26\"],[1.0,\"#f0f921\"]]}],\"mesh3d\":[{\"type\":\"mesh3d\",\"colorbar\":{\"outlinewidth\":0,\"ticks\":\"\"}}],\"scatter\":[{\"fillpattern\":{\"fillmode\":\"overlay\",\"size\":10,\"solidity\":0.2},\"type\":\"scatter\"}],\"parcoords\":[{\"type\":\"parcoords\",\"line\":{\"colorbar\":{\"outlinewidth\":0,\"ticks\":\"\"}}}],\"scatterpolargl\":[{\"type\":\"scatterpolargl\",\"marker\":{\"colorbar\":{\"outlinewidth\":0,\"ticks\":\"\"}}}],\"bar\":[{\"error_x\":{\"color\":\"#2a3f5f\"},\"error_y\":{\"color\":\"#2a3f5f\"},\"marker\":{\"line\":{\"color\":\"#E5ECF6\",\"width\":0.5},\"pattern\":{\"fillmode\":\"overlay\",\"size\":10,\"solidity\":0.2}},\"type\":\"bar\"}],\"scattergeo\":[{\"type\":\"scattergeo\",\"marker\":{\"colorbar\":{\"outlinewidth\":0,\"ticks\":\"\"}}}],\"scatterpolar\":[{\"type\":\"scatterpolar\",\"marker\":{\"colorbar\":{\"outlinewidth\":0,\"ticks\":\"\"}}}],\"histogram\":[{\"marker\":{\"pattern\":{\"fillmode\":\"overlay\",\"size\":10,\"solidity\":0.2}},\"type\":\"histogram\"}],\"scattergl\":[{\"type\":\"scattergl\",\"marker\":{\"colorbar\":{\"outlinewidth\":0,\"ticks\":\"\"}}}],\"scatter3d\":[{\"type\":\"scatter3d\",\"line\":{\"colorbar\":{\"outlinewidth\":0,\"ticks\":\"\"}},\"marker\":{\"colorbar\":{\"outlinewidth\":0,\"ticks\":\"\"}}}],\"scattermapbox\":[{\"type\":\"scattermapbox\",\"marker\":{\"colorbar\":{\"outlinewidth\":0,\"ticks\":\"\"}}}],\"scatterternary\":[{\"type\":\"scatterternary\",\"marker\":{\"colorbar\":{\"outlinewidth\":0,\"ticks\":\"\"}}}],\"scattercarpet\":[{\"type\":\"scattercarpet\",\"marker\":{\"colorbar\":{\"outlinewidth\":0,\"ticks\":\"\"}}}],\"carpet\":[{\"aaxis\":{\"endlinecolor\":\"#2a3f5f\",\"gridcolor\":\"white\",\"linecolor\":\"white\",\"minorgridcolor\":\"white\",\"startlinecolor\":\"#2a3f5f\"},\"baxis\":{\"endlinecolor\":\"#2a3f5f\",\"gridcolor\":\"white\",\"linecolor\":\"white\",\"minorgridcolor\":\"white\",\"startlinecolor\":\"#2a3f5f\"},\"type\":\"carpet\"}],\"table\":[{\"cells\":{\"fill\":{\"color\":\"#EBF0F8\"},\"line\":{\"color\":\"white\"}},\"header\":{\"fill\":{\"color\":\"#C8D4E3\"},\"line\":{\"color\":\"white\"}},\"type\":\"table\"}],\"barpolar\":[{\"marker\":{\"line\":{\"color\":\"#E5ECF6\",\"width\":0.5},\"pattern\":{\"fillmode\":\"overlay\",\"size\":10,\"solidity\":0.2}},\"type\":\"barpolar\"}],\"pie\":[{\"automargin\":true,\"type\":\"pie\"}]},\"layout\":{\"autotypenumbers\":\"strict\",\"colorway\":[\"#636efa\",\"#EF553B\",\"#00cc96\",\"#ab63fa\",\"#FFA15A\",\"#19d3f3\",\"#FF6692\",\"#B6E880\",\"#FF97FF\",\"#FECB52\"],\"font\":{\"color\":\"#2a3f5f\"},\"hovermode\":\"closest\",\"hoverlabel\":{\"align\":\"left\"},\"paper_bgcolor\":\"white\",\"plot_bgcolor\":\"#E5ECF6\",\"polar\":{\"bgcolor\":\"#E5ECF6\",\"angularaxis\":{\"gridcolor\":\"white\",\"linecolor\":\"white\",\"ticks\":\"\"},\"radialaxis\":{\"gridcolor\":\"white\",\"linecolor\":\"white\",\"ticks\":\"\"}},\"ternary\":{\"bgcolor\":\"#E5ECF6\",\"aaxis\":{\"gridcolor\":\"white\",\"linecolor\":\"white\",\"ticks\":\"\"},\"baxis\":{\"gridcolor\":\"white\",\"linecolor\":\"white\",\"ticks\":\"\"},\"caxis\":{\"gridcolor\":\"white\",\"linecolor\":\"white\",\"ticks\":\"\"}},\"coloraxis\":{\"colorbar\":{\"outlinewidth\":0,\"ticks\":\"\"}},\"colorscale\":{\"sequential\":[[0.0,\"#0d0887\"],[0.1111111111111111,\"#46039f\"],[0.2222222222222222,\"#7201a8\"],[0.3333333333333333,\"#9c179e\"],[0.4444444444444444,\"#bd3786\"],[0.5555555555555556,\"#d8576b\"],[0.6666666666666666,\"#ed7953\"],[0.7777777777777778,\"#fb9f3a\"],[0.8888888888888888,\"#fdca26\"],[1.0,\"#f0f921\"]],\"sequentialminus\":[[0.0,\"#0d0887\"],[0.1111111111111111,\"#46039f\"],[0.2222222222222222,\"#7201a8\"],[0.3333333333333333,\"#9c179e\"],[0.4444444444444444,\"#bd3786\"],[0.5555555555555556,\"#d8576b\"],[0.6666666666666666,\"#ed7953\"],[0.7777777777777778,\"#fb9f3a\"],[0.8888888888888888,\"#fdca26\"],[1.0,\"#f0f921\"]],\"diverging\":[[0,\"#8e0152\"],[0.1,\"#c51b7d\"],[0.2,\"#de77ae\"],[0.3,\"#f1b6da\"],[0.4,\"#fde0ef\"],[0.5,\"#f7f7f7\"],[0.6,\"#e6f5d0\"],[0.7,\"#b8e186\"],[0.8,\"#7fbc41\"],[0.9,\"#4d9221\"],[1,\"#276419\"]]},\"xaxis\":{\"gridcolor\":\"white\",\"linecolor\":\"white\",\"ticks\":\"\",\"title\":{\"standoff\":15},\"zerolinecolor\":\"white\",\"automargin\":true,\"zerolinewidth\":2},\"yaxis\":{\"gridcolor\":\"white\",\"linecolor\":\"white\",\"ticks\":\"\",\"title\":{\"standoff\":15},\"zerolinecolor\":\"white\",\"automargin\":true,\"zerolinewidth\":2},\"scene\":{\"xaxis\":{\"backgroundcolor\":\"#E5ECF6\",\"gridcolor\":\"white\",\"linecolor\":\"white\",\"showbackground\":true,\"ticks\":\"\",\"zerolinecolor\":\"white\",\"gridwidth\":2},\"yaxis\":{\"backgroundcolor\":\"#E5ECF6\",\"gridcolor\":\"white\",\"linecolor\":\"white\",\"showbackground\":true,\"ticks\":\"\",\"zerolinecolor\":\"white\",\"gridwidth\":2},\"zaxis\":{\"backgroundcolor\":\"#E5ECF6\",\"gridcolor\":\"white\",\"linecolor\":\"white\",\"showbackground\":true,\"ticks\":\"\",\"zerolinecolor\":\"white\",\"gridwidth\":2}},\"shapedefaults\":{\"line\":{\"color\":\"#2a3f5f\"}},\"annotationdefaults\":{\"arrowcolor\":\"#2a3f5f\",\"arrowhead\":0,\"arrowwidth\":1},\"geo\":{\"bgcolor\":\"white\",\"landcolor\":\"#E5ECF6\",\"subunitcolor\":\"white\",\"showland\":true,\"showlakes\":true,\"lakecolor\":\"white\"},\"title\":{\"x\":0.05},\"mapbox\":{\"style\":\"light\"}}},\"xaxis\":{\"anchor\":\"y\",\"domain\":[0.0,1.0],\"title\":{\"text\":\"x\"}},\"yaxis\":{\"anchor\":\"x\",\"domain\":[0.0,1.0],\"title\":{\"text\":\"y\"}},\"legend\":{\"tracegroupgap\":0},\"title\":{\"text\":\"Accuracy\"}},                        {\"responsive\": true}                    ).then(function(){\n",
              "                            \n",
              "var gd = document.getElementById('2f0b6518-6e21-48ce-bc00-6b72269b3121');\n",
              "var x = new MutationObserver(function (mutations, observer) {{\n",
              "        var display = window.getComputedStyle(gd).display;\n",
              "        if (!display || display === 'none') {{\n",
              "            console.log([gd, 'removed!']);\n",
              "            Plotly.purge(gd);\n",
              "            observer.disconnect();\n",
              "        }}\n",
              "}});\n",
              "\n",
              "// Listen for the removal of the full notebook cells\n",
              "var notebookContainer = gd.closest('#notebook-container');\n",
              "if (notebookContainer) {{\n",
              "    x.observe(notebookContainer, {childList: true});\n",
              "}}\n",
              "\n",
              "// Listen for the clearing of the current output cell\n",
              "var outputEl = gd.closest('.output');\n",
              "if (outputEl) {{\n",
              "    x.observe(outputEl, {childList: true});\n",
              "}}\n",
              "\n",
              "                        })                };                            </script>        </div>\n",
              "</body>\n",
              "</html>"
            ]
          },
          "metadata": {}
        }
      ]
    },
    {
      "cell_type": "code",
      "metadata": {
        "id": "m7i_YRX8m2gc",
        "colab": {
          "base_uri": "https://localhost:8080/",
          "height": 542
        },
        "outputId": "0ad9273b-84ac-4443-c23c-96d047fbfb0a"
      },
      "source": [
        "px.line(y=H.history['loss'],title='Loss')"
      ],
      "execution_count": null,
      "outputs": [
        {
          "output_type": "display_data",
          "data": {
            "text/html": [
              "<html>\n",
              "<head><meta charset=\"utf-8\" /></head>\n",
              "<body>\n",
              "    <div>            <script src=\"https://cdnjs.cloudflare.com/ajax/libs/mathjax/2.7.5/MathJax.js?config=TeX-AMS-MML_SVG\"></script><script type=\"text/javascript\">if (window.MathJax && window.MathJax.Hub && window.MathJax.Hub.Config) {window.MathJax.Hub.Config({SVG: {font: \"STIX-Web\"}});}</script>                <script type=\"text/javascript\">window.PlotlyConfig = {MathJaxConfig: 'local'};</script>\n",
              "        <script charset=\"utf-8\" src=\"https://cdn.plot.ly/plotly-2.24.1.min.js\"></script>                <div id=\"95f27cab-9a35-4605-bf15-b87bfe1bea7d\" class=\"plotly-graph-div\" style=\"height:525px; width:100%;\"></div>            <script type=\"text/javascript\">                                    window.PLOTLYENV=window.PLOTLYENV || {};                                    if (document.getElementById(\"95f27cab-9a35-4605-bf15-b87bfe1bea7d\")) {                    Plotly.newPlot(                        \"95f27cab-9a35-4605-bf15-b87bfe1bea7d\",                        [{\"hovertemplate\":\"x=%{x}\\u003cbr\\u003ey=%{y}\\u003cextra\\u003e\\u003c\\u002fextra\\u003e\",\"legendgroup\":\"\",\"line\":{\"color\":\"#636efa\",\"dash\":\"solid\"},\"marker\":{\"symbol\":\"circle\"},\"mode\":\"lines\",\"name\":\"\",\"orientation\":\"v\",\"showlegend\":false,\"x\":[0,1,2,3,4,5,6,7,8,9,10,11,12,13,14,15,16,17,18,19,20,21,22,23,24,25,26,27,28,29,30,31,32,33,34,35,36,37,38,39,40,41,42,43,44,45,46,47,48,49,50,51,52,53,54,55,56,57,58,59,60,61,62,63,64,65,66,67,68,69,70,71,72,73,74,75,76,77,78,79,80,81,82,83,84,85,86,87,88,89,90,91,92,93,94,95,96,97,98,99],\"xaxis\":\"x\",\"y\":[1.7474592924118042,0.7469673156738281,0.44214820861816406,0.33016878366470337,0.2779233753681183,0.24286247789859772,0.2161281406879425,0.19616368412971497,0.17581747472286224,0.16075821220874786,0.14966480433940887,0.14012029767036438,0.1339683085680008,0.127729132771492,0.12120628356933594,0.1140364408493042,0.10367439687252045,0.10380252450704575,0.10198462009429932,0.09373778849840164,0.09417810291051865,0.08892391622066498,0.08282290399074554,0.08294092863798141,0.07923004776239395,0.0736827552318573,0.07450935244560242,0.0716455727815628,0.06850793212652206,0.06593358516693115,0.06425836682319641,0.06190769001841545,0.06343670934438705,0.06153678894042969,0.0583731047809124,0.058124933391809464,0.05699799954891205,0.05517376959323883,0.056878846138715744,0.05758616700768471,0.051060520112514496,0.05477515235543251,0.04912976920604706,0.05085259675979614,0.05063303932547569,0.05075772851705551,0.05002526566386223,0.04772678762674332,0.04446299001574516,0.044573623687028885,0.04208466410636902,0.04333500564098358,0.04339810833334923,0.04286155849695206,0.0446886271238327,0.04122696816921234,0.03918072208762169,0.03694038465619087,0.04175335541367531,0.03822232410311699,0.03554330766201019,0.037952739745378494,0.03692975267767906,0.03436317294836044,0.035827696323394775,0.03452080860733986,0.038280241191387177,0.03350827842950821,0.03687598556280136,0.0359906330704689,0.03364025428891182,0.03146770969033241,0.030057251453399658,0.029009077697992325,0.030867263674736023,0.029879892244935036,0.030671318992972374,0.03194529190659523,0.03223450481891632,0.02942519262433052,0.029256382957100868,0.028511017560958862,0.029598215594887733,0.029747912660241127,0.02941681072115898,0.026299407705664635,0.028856389224529266,0.027007393538951874,0.028032835572957993,0.027268026024103165,0.026511549949645996,0.0271934624761343,0.027543431147933006,0.024874554947018623,0.02602471597492695,0.027207298204302788,0.02495623379945755,0.02392113395035267,0.02462618425488472,0.0252347644418478],\"yaxis\":\"y\",\"type\":\"scatter\"}],                        {\"template\":{\"data\":{\"histogram2dcontour\":[{\"type\":\"histogram2dcontour\",\"colorbar\":{\"outlinewidth\":0,\"ticks\":\"\"},\"colorscale\":[[0.0,\"#0d0887\"],[0.1111111111111111,\"#46039f\"],[0.2222222222222222,\"#7201a8\"],[0.3333333333333333,\"#9c179e\"],[0.4444444444444444,\"#bd3786\"],[0.5555555555555556,\"#d8576b\"],[0.6666666666666666,\"#ed7953\"],[0.7777777777777778,\"#fb9f3a\"],[0.8888888888888888,\"#fdca26\"],[1.0,\"#f0f921\"]]}],\"choropleth\":[{\"type\":\"choropleth\",\"colorbar\":{\"outlinewidth\":0,\"ticks\":\"\"}}],\"histogram2d\":[{\"type\":\"histogram2d\",\"colorbar\":{\"outlinewidth\":0,\"ticks\":\"\"},\"colorscale\":[[0.0,\"#0d0887\"],[0.1111111111111111,\"#46039f\"],[0.2222222222222222,\"#7201a8\"],[0.3333333333333333,\"#9c179e\"],[0.4444444444444444,\"#bd3786\"],[0.5555555555555556,\"#d8576b\"],[0.6666666666666666,\"#ed7953\"],[0.7777777777777778,\"#fb9f3a\"],[0.8888888888888888,\"#fdca26\"],[1.0,\"#f0f921\"]]}],\"heatmap\":[{\"type\":\"heatmap\",\"colorbar\":{\"outlinewidth\":0,\"ticks\":\"\"},\"colorscale\":[[0.0,\"#0d0887\"],[0.1111111111111111,\"#46039f\"],[0.2222222222222222,\"#7201a8\"],[0.3333333333333333,\"#9c179e\"],[0.4444444444444444,\"#bd3786\"],[0.5555555555555556,\"#d8576b\"],[0.6666666666666666,\"#ed7953\"],[0.7777777777777778,\"#fb9f3a\"],[0.8888888888888888,\"#fdca26\"],[1.0,\"#f0f921\"]]}],\"heatmapgl\":[{\"type\":\"heatmapgl\",\"colorbar\":{\"outlinewidth\":0,\"ticks\":\"\"},\"colorscale\":[[0.0,\"#0d0887\"],[0.1111111111111111,\"#46039f\"],[0.2222222222222222,\"#7201a8\"],[0.3333333333333333,\"#9c179e\"],[0.4444444444444444,\"#bd3786\"],[0.5555555555555556,\"#d8576b\"],[0.6666666666666666,\"#ed7953\"],[0.7777777777777778,\"#fb9f3a\"],[0.8888888888888888,\"#fdca26\"],[1.0,\"#f0f921\"]]}],\"contourcarpet\":[{\"type\":\"contourcarpet\",\"colorbar\":{\"outlinewidth\":0,\"ticks\":\"\"}}],\"contour\":[{\"type\":\"contour\",\"colorbar\":{\"outlinewidth\":0,\"ticks\":\"\"},\"colorscale\":[[0.0,\"#0d0887\"],[0.1111111111111111,\"#46039f\"],[0.2222222222222222,\"#7201a8\"],[0.3333333333333333,\"#9c179e\"],[0.4444444444444444,\"#bd3786\"],[0.5555555555555556,\"#d8576b\"],[0.6666666666666666,\"#ed7953\"],[0.7777777777777778,\"#fb9f3a\"],[0.8888888888888888,\"#fdca26\"],[1.0,\"#f0f921\"]]}],\"surface\":[{\"type\":\"surface\",\"colorbar\":{\"outlinewidth\":0,\"ticks\":\"\"},\"colorscale\":[[0.0,\"#0d0887\"],[0.1111111111111111,\"#46039f\"],[0.2222222222222222,\"#7201a8\"],[0.3333333333333333,\"#9c179e\"],[0.4444444444444444,\"#bd3786\"],[0.5555555555555556,\"#d8576b\"],[0.6666666666666666,\"#ed7953\"],[0.7777777777777778,\"#fb9f3a\"],[0.8888888888888888,\"#fdca26\"],[1.0,\"#f0f921\"]]}],\"mesh3d\":[{\"type\":\"mesh3d\",\"colorbar\":{\"outlinewidth\":0,\"ticks\":\"\"}}],\"scatter\":[{\"fillpattern\":{\"fillmode\":\"overlay\",\"size\":10,\"solidity\":0.2},\"type\":\"scatter\"}],\"parcoords\":[{\"type\":\"parcoords\",\"line\":{\"colorbar\":{\"outlinewidth\":0,\"ticks\":\"\"}}}],\"scatterpolargl\":[{\"type\":\"scatterpolargl\",\"marker\":{\"colorbar\":{\"outlinewidth\":0,\"ticks\":\"\"}}}],\"bar\":[{\"error_x\":{\"color\":\"#2a3f5f\"},\"error_y\":{\"color\":\"#2a3f5f\"},\"marker\":{\"line\":{\"color\":\"#E5ECF6\",\"width\":0.5},\"pattern\":{\"fillmode\":\"overlay\",\"size\":10,\"solidity\":0.2}},\"type\":\"bar\"}],\"scattergeo\":[{\"type\":\"scattergeo\",\"marker\":{\"colorbar\":{\"outlinewidth\":0,\"ticks\":\"\"}}}],\"scatterpolar\":[{\"type\":\"scatterpolar\",\"marker\":{\"colorbar\":{\"outlinewidth\":0,\"ticks\":\"\"}}}],\"histogram\":[{\"marker\":{\"pattern\":{\"fillmode\":\"overlay\",\"size\":10,\"solidity\":0.2}},\"type\":\"histogram\"}],\"scattergl\":[{\"type\":\"scattergl\",\"marker\":{\"colorbar\":{\"outlinewidth\":0,\"ticks\":\"\"}}}],\"scatter3d\":[{\"type\":\"scatter3d\",\"line\":{\"colorbar\":{\"outlinewidth\":0,\"ticks\":\"\"}},\"marker\":{\"colorbar\":{\"outlinewidth\":0,\"ticks\":\"\"}}}],\"scattermapbox\":[{\"type\":\"scattermapbox\",\"marker\":{\"colorbar\":{\"outlinewidth\":0,\"ticks\":\"\"}}}],\"scatterternary\":[{\"type\":\"scatterternary\",\"marker\":{\"colorbar\":{\"outlinewidth\":0,\"ticks\":\"\"}}}],\"scattercarpet\":[{\"type\":\"scattercarpet\",\"marker\":{\"colorbar\":{\"outlinewidth\":0,\"ticks\":\"\"}}}],\"carpet\":[{\"aaxis\":{\"endlinecolor\":\"#2a3f5f\",\"gridcolor\":\"white\",\"linecolor\":\"white\",\"minorgridcolor\":\"white\",\"startlinecolor\":\"#2a3f5f\"},\"baxis\":{\"endlinecolor\":\"#2a3f5f\",\"gridcolor\":\"white\",\"linecolor\":\"white\",\"minorgridcolor\":\"white\",\"startlinecolor\":\"#2a3f5f\"},\"type\":\"carpet\"}],\"table\":[{\"cells\":{\"fill\":{\"color\":\"#EBF0F8\"},\"line\":{\"color\":\"white\"}},\"header\":{\"fill\":{\"color\":\"#C8D4E3\"},\"line\":{\"color\":\"white\"}},\"type\":\"table\"}],\"barpolar\":[{\"marker\":{\"line\":{\"color\":\"#E5ECF6\",\"width\":0.5},\"pattern\":{\"fillmode\":\"overlay\",\"size\":10,\"solidity\":0.2}},\"type\":\"barpolar\"}],\"pie\":[{\"automargin\":true,\"type\":\"pie\"}]},\"layout\":{\"autotypenumbers\":\"strict\",\"colorway\":[\"#636efa\",\"#EF553B\",\"#00cc96\",\"#ab63fa\",\"#FFA15A\",\"#19d3f3\",\"#FF6692\",\"#B6E880\",\"#FF97FF\",\"#FECB52\"],\"font\":{\"color\":\"#2a3f5f\"},\"hovermode\":\"closest\",\"hoverlabel\":{\"align\":\"left\"},\"paper_bgcolor\":\"white\",\"plot_bgcolor\":\"#E5ECF6\",\"polar\":{\"bgcolor\":\"#E5ECF6\",\"angularaxis\":{\"gridcolor\":\"white\",\"linecolor\":\"white\",\"ticks\":\"\"},\"radialaxis\":{\"gridcolor\":\"white\",\"linecolor\":\"white\",\"ticks\":\"\"}},\"ternary\":{\"bgcolor\":\"#E5ECF6\",\"aaxis\":{\"gridcolor\":\"white\",\"linecolor\":\"white\",\"ticks\":\"\"},\"baxis\":{\"gridcolor\":\"white\",\"linecolor\":\"white\",\"ticks\":\"\"},\"caxis\":{\"gridcolor\":\"white\",\"linecolor\":\"white\",\"ticks\":\"\"}},\"coloraxis\":{\"colorbar\":{\"outlinewidth\":0,\"ticks\":\"\"}},\"colorscale\":{\"sequential\":[[0.0,\"#0d0887\"],[0.1111111111111111,\"#46039f\"],[0.2222222222222222,\"#7201a8\"],[0.3333333333333333,\"#9c179e\"],[0.4444444444444444,\"#bd3786\"],[0.5555555555555556,\"#d8576b\"],[0.6666666666666666,\"#ed7953\"],[0.7777777777777778,\"#fb9f3a\"],[0.8888888888888888,\"#fdca26\"],[1.0,\"#f0f921\"]],\"sequentialminus\":[[0.0,\"#0d0887\"],[0.1111111111111111,\"#46039f\"],[0.2222222222222222,\"#7201a8\"],[0.3333333333333333,\"#9c179e\"],[0.4444444444444444,\"#bd3786\"],[0.5555555555555556,\"#d8576b\"],[0.6666666666666666,\"#ed7953\"],[0.7777777777777778,\"#fb9f3a\"],[0.8888888888888888,\"#fdca26\"],[1.0,\"#f0f921\"]],\"diverging\":[[0,\"#8e0152\"],[0.1,\"#c51b7d\"],[0.2,\"#de77ae\"],[0.3,\"#f1b6da\"],[0.4,\"#fde0ef\"],[0.5,\"#f7f7f7\"],[0.6,\"#e6f5d0\"],[0.7,\"#b8e186\"],[0.8,\"#7fbc41\"],[0.9,\"#4d9221\"],[1,\"#276419\"]]},\"xaxis\":{\"gridcolor\":\"white\",\"linecolor\":\"white\",\"ticks\":\"\",\"title\":{\"standoff\":15},\"zerolinecolor\":\"white\",\"automargin\":true,\"zerolinewidth\":2},\"yaxis\":{\"gridcolor\":\"white\",\"linecolor\":\"white\",\"ticks\":\"\",\"title\":{\"standoff\":15},\"zerolinecolor\":\"white\",\"automargin\":true,\"zerolinewidth\":2},\"scene\":{\"xaxis\":{\"backgroundcolor\":\"#E5ECF6\",\"gridcolor\":\"white\",\"linecolor\":\"white\",\"showbackground\":true,\"ticks\":\"\",\"zerolinecolor\":\"white\",\"gridwidth\":2},\"yaxis\":{\"backgroundcolor\":\"#E5ECF6\",\"gridcolor\":\"white\",\"linecolor\":\"white\",\"showbackground\":true,\"ticks\":\"\",\"zerolinecolor\":\"white\",\"gridwidth\":2},\"zaxis\":{\"backgroundcolor\":\"#E5ECF6\",\"gridcolor\":\"white\",\"linecolor\":\"white\",\"showbackground\":true,\"ticks\":\"\",\"zerolinecolor\":\"white\",\"gridwidth\":2}},\"shapedefaults\":{\"line\":{\"color\":\"#2a3f5f\"}},\"annotationdefaults\":{\"arrowcolor\":\"#2a3f5f\",\"arrowhead\":0,\"arrowwidth\":1},\"geo\":{\"bgcolor\":\"white\",\"landcolor\":\"#E5ECF6\",\"subunitcolor\":\"white\",\"showland\":true,\"showlakes\":true,\"lakecolor\":\"white\"},\"title\":{\"x\":0.05},\"mapbox\":{\"style\":\"light\"}}},\"xaxis\":{\"anchor\":\"y\",\"domain\":[0.0,1.0],\"title\":{\"text\":\"x\"}},\"yaxis\":{\"anchor\":\"x\",\"domain\":[0.0,1.0],\"title\":{\"text\":\"y\"}},\"legend\":{\"tracegroupgap\":0},\"title\":{\"text\":\"Loss\"}},                        {\"responsive\": true}                    ).then(function(){\n",
              "                            \n",
              "var gd = document.getElementById('95f27cab-9a35-4605-bf15-b87bfe1bea7d');\n",
              "var x = new MutationObserver(function (mutations, observer) {{\n",
              "        var display = window.getComputedStyle(gd).display;\n",
              "        if (!display || display === 'none') {{\n",
              "            console.log([gd, 'removed!']);\n",
              "            Plotly.purge(gd);\n",
              "            observer.disconnect();\n",
              "        }}\n",
              "}});\n",
              "\n",
              "// Listen for the removal of the full notebook cells\n",
              "var notebookContainer = gd.closest('#notebook-container');\n",
              "if (notebookContainer) {{\n",
              "    x.observe(notebookContainer, {childList: true});\n",
              "}}\n",
              "\n",
              "// Listen for the clearing of the current output cell\n",
              "var outputEl = gd.closest('.output');\n",
              "if (outputEl) {{\n",
              "    x.observe(outputEl, {childList: true});\n",
              "}}\n",
              "\n",
              "                        })                };                            </script>        </div>\n",
              "</body>\n",
              "</html>"
            ]
          },
          "metadata": {}
        }
      ]
    },
    {
      "cell_type": "markdown",
      "metadata": {
        "id": "hxtnqzNxI3YW"
      },
      "source": [
        "## Predictions for your images\n",
        "  Use self written digits by uploading on Google Drive to predict and validate mode results\n",
        "\n",
        "\n"
      ]
    },
    {
      "cell_type": "code",
      "metadata": {
        "id": "VghDa4U7u-xS",
        "colab": {
          "base_uri": "https://localhost:8080/"
        },
        "outputId": "d0167fca-ed39-4341-82fc-986fd98eaba8"
      },
      "source": [
        "from google.colab import drive\n",
        "\n",
        "drive.mount('/content/drive/')\n"
      ],
      "execution_count": null,
      "outputs": [
        {
          "output_type": "stream",
          "name": "stdout",
          "text": [
            "Mounted at /content/drive/\n"
          ]
        }
      ]
    },
    {
      "cell_type": "code",
      "metadata": {
        "id": "lIa-iyE0vCOm",
        "colab": {
          "base_uri": "https://localhost:8080/"
        },
        "outputId": "b14596c0-5031-4759-c2db-9f4853330358"
      },
      "source": [
        "%cd /content/drive/My Drive/ #specify Path\n"
      ],
      "execution_count": 25,
      "outputs": [
        {
          "output_type": "stream",
          "name": "stdout",
          "text": [
            "/content/drive/My Drive/Colab Notebooks/ML_and_NN_course/module 3\n"
          ]
        }
      ]
    },
    {
      "cell_type": "markdown",
      "source": [
        "## Prediction Function"
      ],
      "metadata": {
        "id": "_dMiU9QDRnfh"
      }
    },
    {
      "cell_type": "code",
      "metadata": {
        "id": "Oy9q-a43I3Yx"
      },
      "source": [
        "\n",
        "def predict(img_path,model,con_dest='converted_img.jpg',threshold=135):\n",
        "    num=cv2.imread(img_path)\n",
        "    num=cv2.cvtColor(num, cv2.COLOR_BGR2GRAY)\n",
        "    #num.resize(28,28)\n",
        "    (thresh, num) = cv2.threshold(num, threshold, 255, cv2.THRESH_BINARY_INV)\n",
        "\n",
        "\n",
        "    cv2.imwrite(con_dest,num)\n",
        "\n",
        "    img = image.load_img(con_dest,color_mode = \"grayscale\",target_size=(28,28))\n",
        "    plt.imshow(img)\n",
        "    plt.title(\"Converted Image for Prediction\")\n",
        "    plt.show()\n",
        "    img = image.img_to_array(img)\n",
        "    test_img = (img.reshape((1,784)))/255.0\n",
        "    ans=model.predict(test_img)\n",
        "\n",
        "    print('Predictions for each class', ans)\n",
        "    print('Predicted value is '+ str(np.argmax(ans)))"
      ],
      "execution_count": 26,
      "outputs": []
    },
    {
      "cell_type": "code",
      "metadata": {
        "id": "30VSJmbCI3Y7",
        "colab": {
          "base_uri": "https://localhost:8080/",
          "height": 521
        },
        "outputId": "c665d5de-608a-4103-9c9a-d84179fee42c"
      },
      "source": [
        "# Specify Image path\n",
        "predict('imagepath',model=model,con_dest='imagepath')"
      ],
      "execution_count": 27,
      "outputs": [
        {
          "output_type": "display_data",
          "data": {
            "text/plain": [
              "<Figure size 640x480 with 1 Axes>"
            ],
            "image/png": "[encoded data removed]"
          },
          "metadata": {}
        },
        {
          "output_type": "stream",
          "name": "stdout",
          "text": [
            "1/1 [==============================] - 0s 157ms/step\n",
            "Predictions for each class [[1.1270337e-05 3.8695171e-07 7.5945928e-07 5.4410135e-05 4.9636424e-07\n",
            "  9.9940991e-01 4.3964243e-04 7.9342084e-07 4.3118911e-05 3.9226867e-05]]\n",
            "Predicted value is 5\n"
          ]
        }
      ]
    },
    {
      "cell_type": "code",
      "metadata": {
        "id": "634gmJLtI3ZG"
      },
      "source": [],
      "execution_count": null,
      "outputs": []
    }
  ]
}