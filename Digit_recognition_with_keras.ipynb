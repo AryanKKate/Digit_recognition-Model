{
  "nbformat": 4,
  "nbformat_minor": 0,
  "metadata": {
    "accelerator": "GPU",
    "colab": {
      "provenance": []
    },
    "kernelspec": {
      "display_name": "Python 3",
      "language": "python",
      "name": "python3"
    },
    "language_info": {
      "codemirror_mode": {
        "name": "ipython",
        "version": 3
      },
      "file_extension": ".py",
      "mimetype": "text/x-python",
      "name": "python",
      "nbconvert_exporter": "python",
      "pygments_lexer": "ipython3",
      "version": "3.7.3"
    }
  },
  "cells": [
    {
      "cell_type": "code",
      "metadata": {
        "id": "67X8rxw7gJH0"
      },
      "source": [
        "from tensorflow import keras\n",
        "from tensorflow.keras.datasets import mnist\n",
        "from tensorflow.keras.layers import Dense,Dropout\n",
        "from tensorflow.keras.models import Sequential\n"
      ],
      "execution_count": null,
      "outputs": []
    },
    {
      "cell_type": "code",
      "metadata": {
        "id": "KJwXf0jmI3Wx"
      },
      "source": [
        "(train_x, train_y) , (test_x, test_y) = mnist.load_data()\n"
      ],
      "execution_count": null,
      "outputs": []
    },
    {
      "cell_type": "code",
      "metadata": {
        "id": "EcDX1fb4I3XB",
        "colab": {
          "base_uri": "https://localhost:8080/",
          "height": 88
        },
        "outputId": "e6089948-44e0-4d08-e691-ddd84c6b626e"
      },
      "source": [
        "train_x = train_x.astype('float32') / 255 # Similar to feature scaling\n",
        "test_x = test_x.astype('float32') / 255\n",
        "\n",
        "\n",
        "print(train_x.shape)\n",
        "print(train_y.shape)\n",
        "print(test_x.shape)\n",
        "print(test_y.shape)\n"
      ],
      "execution_count": null,
      "outputs": [
        {
          "output_type": "stream",
          "text": [
            "(60000, 28, 28)\n",
            "(60000,)\n",
            "(10000, 28, 28)\n",
            "(10000,)\n"
          ],
          "name": "stdout"
        }
      ]
    },
    {
      "cell_type": "code",
      "metadata": {
        "id": "zG2gp6WCI3XM"
      },
      "source": [
        "# Preparing the dataset\n",
        "train_x = train_x.reshape(60000,784)\n",
        "test_x = test_x.reshape(10000,784)\n",
        "\n",
        "train_y = keras.utils.to_categorical(train_y,10)\n",
        "test_y = keras.utils.to_categorical(test_y,10)\n",
        "\n"
      ],
      "execution_count": null,
      "outputs": []
    },
    {
      "cell_type": "code",
      "metadata": {
        "id": "CHWN98LVI3Xc"
      },
      "source": [
        "model = Sequential()\n",
        "model.add(Dense(units=256,activation=\"relu\",input_shape=(784,)))\n",
        "model.add(Dropout(0.4))\n",
        "\n",
        "model.add(Dense(units=128,activation=\"relu\"))\n",
        "model.add(Dropout(0.3))\n",
        "\n",
        "model.add(Dense(units=128,activation=\"relu\"))\n",
        "model.add(Dropout(0.4))\n",
        "\n",
        "model.add(Dense(units=64,activation=\"relu\"))\n",
        "model.add(Dropout(0.4))\n",
        "\n",
        "model.add(Dense(units=10,activation=\"softmax\"))"
      ],
      "execution_count": null,
      "outputs": []
    },
    {
      "cell_type": "code",
      "metadata": {
        "id": "n5UqtplCI3Xn"
      },
      "source": [
        "model.compile(optimizer='Adam',loss=\"categorical_crossentropy\",metrics=[\"accuracy\"])\n",
        "\n"
      ],
      "execution_count": null,
      "outputs": []
    },
    {
      "cell_type": "code",
      "metadata": {
        "id": "8NgXSbnwI3X0",
        "colab": {
          "base_uri": "https://localhost:8080/",
          "height": 1000
        },
        "outputId": "53e3a424-f71c-44b2-b5be-b8b4fb2e3324"
      },
      "source": [
        "H=model.fit(train_x,train_y,batch_size=2048,epochs=100)"
      ],
      "execution_count": null,
      "outputs": [
        {
          "output_type": "stream",
          "text": [
            "Epoch 1/100\n",
            "30/30 [==============================] - 0s 7ms/step - loss: 1.8111 - accuracy: 0.3675\n",
            "Epoch 2/100\n",
            "30/30 [==============================] - 0s 7ms/step - loss: 0.7959 - accuracy: 0.7490\n",
            "Epoch 3/100\n",
            "30/30 [==============================] - 0s 7ms/step - loss: 0.4562 - accuracy: 0.8716\n",
            "Epoch 4/100\n",
            "30/30 [==============================] - 0s 6ms/step - loss: 0.3482 - accuracy: 0.9071\n",
            "Epoch 5/100\n",
            "30/30 [==============================] - 0s 7ms/step - loss: 0.2803 - accuracy: 0.9262\n",
            "Epoch 6/100\n",
            "30/30 [==============================] - 0s 6ms/step - loss: 0.2472 - accuracy: 0.9372\n",
            "Epoch 7/100\n",
            "30/30 [==============================] - 0s 7ms/step - loss: 0.2212 - accuracy: 0.9436\n",
            "Epoch 8/100\n",
            "30/30 [==============================] - 0s 7ms/step - loss: 0.1989 - accuracy: 0.9492\n",
            "Epoch 9/100\n",
            "30/30 [==============================] - 0s 7ms/step - loss: 0.1803 - accuracy: 0.9526\n",
            "Epoch 10/100\n",
            "30/30 [==============================] - 0s 7ms/step - loss: 0.1637 - accuracy: 0.9575\n",
            "Epoch 11/100\n",
            "30/30 [==============================] - 0s 6ms/step - loss: 0.1509 - accuracy: 0.9617\n",
            "Epoch 12/100\n",
            "30/30 [==============================] - 0s 7ms/step - loss: 0.1444 - accuracy: 0.9631\n",
            "Epoch 13/100\n",
            "30/30 [==============================] - 0s 6ms/step - loss: 0.1351 - accuracy: 0.9660\n",
            "Epoch 14/100\n",
            "30/30 [==============================] - 0s 6ms/step - loss: 0.1297 - accuracy: 0.9668\n",
            "Epoch 15/100\n",
            "30/30 [==============================] - 0s 6ms/step - loss: 0.1208 - accuracy: 0.9685\n",
            "Epoch 16/100\n",
            "30/30 [==============================] - 0s 6ms/step - loss: 0.1164 - accuracy: 0.9698\n",
            "Epoch 17/100\n",
            "30/30 [==============================] - 0s 7ms/step - loss: 0.1063 - accuracy: 0.9715\n",
            "Epoch 18/100\n",
            "30/30 [==============================] - 0s 6ms/step - loss: 0.1035 - accuracy: 0.9742\n",
            "Epoch 19/100\n",
            "30/30 [==============================] - 0s 6ms/step - loss: 0.0968 - accuracy: 0.9750\n",
            "Epoch 20/100\n",
            "30/30 [==============================] - 0s 6ms/step - loss: 0.0968 - accuracy: 0.9750\n",
            "Epoch 21/100\n",
            "30/30 [==============================] - 0s 6ms/step - loss: 0.0926 - accuracy: 0.9757\n",
            "Epoch 22/100\n",
            "30/30 [==============================] - 0s 7ms/step - loss: 0.0889 - accuracy: 0.9762\n",
            "Epoch 23/100\n",
            "30/30 [==============================] - 0s 6ms/step - loss: 0.0867 - accuracy: 0.9772\n",
            "Epoch 24/100\n",
            "30/30 [==============================] - 0s 6ms/step - loss: 0.0839 - accuracy: 0.9779\n",
            "Epoch 25/100\n",
            "30/30 [==============================] - 0s 6ms/step - loss: 0.0752 - accuracy: 0.9806\n",
            "Epoch 26/100\n",
            "30/30 [==============================] - 0s 6ms/step - loss: 0.0739 - accuracy: 0.9803\n",
            "Epoch 27/100\n",
            "30/30 [==============================] - 0s 7ms/step - loss: 0.0741 - accuracy: 0.9805\n",
            "Epoch 28/100\n",
            "30/30 [==============================] - 0s 7ms/step - loss: 0.0743 - accuracy: 0.9805\n",
            "Epoch 29/100\n",
            "30/30 [==============================] - 0s 6ms/step - loss: 0.0705 - accuracy: 0.9816\n",
            "Epoch 30/100\n",
            "30/30 [==============================] - 0s 6ms/step - loss: 0.0697 - accuracy: 0.9816\n",
            "Epoch 31/100\n",
            "30/30 [==============================] - 0s 6ms/step - loss: 0.0671 - accuracy: 0.9829\n",
            "Epoch 32/100\n",
            "30/30 [==============================] - 0s 7ms/step - loss: 0.0602 - accuracy: 0.9840\n",
            "Epoch 33/100\n",
            "30/30 [==============================] - 0s 6ms/step - loss: 0.0635 - accuracy: 0.9830\n",
            "Epoch 34/100\n",
            "30/30 [==============================] - 0s 6ms/step - loss: 0.0641 - accuracy: 0.9832\n",
            "Epoch 35/100\n",
            "30/30 [==============================] - 0s 6ms/step - loss: 0.0570 - accuracy: 0.9840\n",
            "Epoch 36/100\n",
            "30/30 [==============================] - 0s 6ms/step - loss: 0.0569 - accuracy: 0.9847\n",
            "Epoch 37/100\n",
            "30/30 [==============================] - 0s 7ms/step - loss: 0.0596 - accuracy: 0.9840\n",
            "Epoch 38/100\n",
            "30/30 [==============================] - 0s 6ms/step - loss: 0.0562 - accuracy: 0.9850\n",
            "Epoch 39/100\n",
            "30/30 [==============================] - 0s 7ms/step - loss: 0.0558 - accuracy: 0.9854\n",
            "Epoch 40/100\n",
            "30/30 [==============================] - 0s 6ms/step - loss: 0.0525 - accuracy: 0.9859\n",
            "Epoch 41/100\n",
            "30/30 [==============================] - 0s 7ms/step - loss: 0.0516 - accuracy: 0.9862\n",
            "Epoch 42/100\n",
            "30/30 [==============================] - 0s 7ms/step - loss: 0.0447 - accuracy: 0.9880\n",
            "Epoch 43/100\n",
            "30/30 [==============================] - 0s 6ms/step - loss: 0.0487 - accuracy: 0.9870\n",
            "Epoch 44/100\n",
            "30/30 [==============================] - 0s 6ms/step - loss: 0.0459 - accuracy: 0.9876\n",
            "Epoch 45/100\n",
            "30/30 [==============================] - 0s 6ms/step - loss: 0.0454 - accuracy: 0.9880\n",
            "Epoch 46/100\n",
            "30/30 [==============================] - 0s 6ms/step - loss: 0.0481 - accuracy: 0.9871\n",
            "Epoch 47/100\n",
            "30/30 [==============================] - 0s 7ms/step - loss: 0.0467 - accuracy: 0.9875\n",
            "Epoch 48/100\n",
            "30/30 [==============================] - 0s 6ms/step - loss: 0.0477 - accuracy: 0.9875\n",
            "Epoch 49/100\n",
            "30/30 [==============================] - 0s 6ms/step - loss: 0.0458 - accuracy: 0.9882\n",
            "Epoch 50/100\n",
            "30/30 [==============================] - 0s 6ms/step - loss: 0.0456 - accuracy: 0.9881\n",
            "Epoch 51/100\n",
            "30/30 [==============================] - 0s 6ms/step - loss: 0.0457 - accuracy: 0.9880\n",
            "Epoch 52/100\n",
            "30/30 [==============================] - 0s 7ms/step - loss: 0.0443 - accuracy: 0.9881\n",
            "Epoch 53/100\n",
            "30/30 [==============================] - 0s 6ms/step - loss: 0.0424 - accuracy: 0.9883\n",
            "Epoch 54/100\n",
            "30/30 [==============================] - 0s 6ms/step - loss: 0.0449 - accuracy: 0.9881\n",
            "Epoch 55/100\n",
            "30/30 [==============================] - 0s 6ms/step - loss: 0.0419 - accuracy: 0.9894\n",
            "Epoch 56/100\n",
            "30/30 [==============================] - 0s 7ms/step - loss: 0.0390 - accuracy: 0.9896\n",
            "Epoch 57/100\n",
            "30/30 [==============================] - 0s 7ms/step - loss: 0.0391 - accuracy: 0.9898\n",
            "Epoch 58/100\n",
            "30/30 [==============================] - 0s 6ms/step - loss: 0.0366 - accuracy: 0.9901\n",
            "Epoch 59/100\n",
            "30/30 [==============================] - 0s 6ms/step - loss: 0.0385 - accuracy: 0.9893\n",
            "Epoch 60/100\n",
            "30/30 [==============================] - 0s 6ms/step - loss: 0.0388 - accuracy: 0.9895\n",
            "Epoch 61/100\n",
            "30/30 [==============================] - 0s 7ms/step - loss: 0.0371 - accuracy: 0.9903\n",
            "Epoch 62/100\n",
            "30/30 [==============================] - 0s 7ms/step - loss: 0.0382 - accuracy: 0.9901\n",
            "Epoch 63/100\n",
            "30/30 [==============================] - 0s 6ms/step - loss: 0.0379 - accuracy: 0.9901\n",
            "Epoch 64/100\n",
            "30/30 [==============================] - 0s 6ms/step - loss: 0.0349 - accuracy: 0.9905\n",
            "Epoch 65/100\n",
            "30/30 [==============================] - 0s 6ms/step - loss: 0.0364 - accuracy: 0.9898\n",
            "Epoch 66/100\n",
            "30/30 [==============================] - 0s 6ms/step - loss: 0.0369 - accuracy: 0.9902\n",
            "Epoch 67/100\n",
            "30/30 [==============================] - 0s 7ms/step - loss: 0.0320 - accuracy: 0.9912\n",
            "Epoch 68/100\n",
            "30/30 [==============================] - 0s 7ms/step - loss: 0.0307 - accuracy: 0.9918\n",
            "Epoch 69/100\n",
            "30/30 [==============================] - 0s 6ms/step - loss: 0.0350 - accuracy: 0.9902\n",
            "Epoch 70/100\n",
            "30/30 [==============================] - 0s 6ms/step - loss: 0.0344 - accuracy: 0.9910\n",
            "Epoch 71/100\n",
            "30/30 [==============================] - 0s 7ms/step - loss: 0.0318 - accuracy: 0.9916\n",
            "Epoch 72/100\n",
            "30/30 [==============================] - 0s 7ms/step - loss: 0.0327 - accuracy: 0.9913\n",
            "Epoch 73/100\n",
            "30/30 [==============================] - 0s 6ms/step - loss: 0.0323 - accuracy: 0.9914\n",
            "Epoch 74/100\n",
            "30/30 [==============================] - 0s 6ms/step - loss: 0.0305 - accuracy: 0.9918\n",
            "Epoch 75/100\n",
            "30/30 [==============================] - 0s 6ms/step - loss: 0.0293 - accuracy: 0.9924\n",
            "Epoch 76/100\n",
            "30/30 [==============================] - 0s 6ms/step - loss: 0.0303 - accuracy: 0.9918\n",
            "Epoch 77/100\n",
            "30/30 [==============================] - 0s 7ms/step - loss: 0.0294 - accuracy: 0.9918\n",
            "Epoch 78/100\n",
            "30/30 [==============================] - 0s 6ms/step - loss: 0.0301 - accuracy: 0.9922\n",
            "Epoch 79/100\n",
            "30/30 [==============================] - 0s 6ms/step - loss: 0.0309 - accuracy: 0.9915\n",
            "Epoch 80/100\n",
            "30/30 [==============================] - 0s 6ms/step - loss: 0.0306 - accuracy: 0.9916\n",
            "Epoch 81/100\n",
            "30/30 [==============================] - 0s 6ms/step - loss: 0.0299 - accuracy: 0.9919\n",
            "Epoch 82/100\n",
            "30/30 [==============================] - 0s 7ms/step - loss: 0.0277 - accuracy: 0.9929\n",
            "Epoch 83/100\n",
            "30/30 [==============================] - 0s 6ms/step - loss: 0.0306 - accuracy: 0.9921\n",
            "Epoch 84/100\n",
            "30/30 [==============================] - 0s 6ms/step - loss: 0.0287 - accuracy: 0.9922\n",
            "Epoch 85/100\n",
            "30/30 [==============================] - 0s 6ms/step - loss: 0.0297 - accuracy: 0.9920\n",
            "Epoch 86/100\n",
            "30/30 [==============================] - 0s 6ms/step - loss: 0.0284 - accuracy: 0.9921\n",
            "Epoch 87/100\n",
            "30/30 [==============================] - 0s 7ms/step - loss: 0.0274 - accuracy: 0.9925\n",
            "Epoch 88/100\n",
            "30/30 [==============================] - 0s 6ms/step - loss: 0.0267 - accuracy: 0.9929\n",
            "Epoch 89/100\n",
            "30/30 [==============================] - 0s 6ms/step - loss: 0.0264 - accuracy: 0.9929\n",
            "Epoch 90/100\n",
            "30/30 [==============================] - 0s 6ms/step - loss: 0.0257 - accuracy: 0.9932\n",
            "Epoch 91/100\n",
            "30/30 [==============================] - 0s 6ms/step - loss: 0.0268 - accuracy: 0.9927\n",
            "Epoch 92/100\n",
            "30/30 [==============================] - 0s 7ms/step - loss: 0.0251 - accuracy: 0.9930\n",
            "Epoch 93/100\n",
            "30/30 [==============================] - 0s 6ms/step - loss: 0.0269 - accuracy: 0.9927\n",
            "Epoch 94/100\n",
            "30/30 [==============================] - 0s 6ms/step - loss: 0.0273 - accuracy: 0.9931\n",
            "Epoch 95/100\n",
            "30/30 [==============================] - 0s 6ms/step - loss: 0.0242 - accuracy: 0.9935\n",
            "Epoch 96/100\n",
            "30/30 [==============================] - 0s 6ms/step - loss: 0.0232 - accuracy: 0.9937\n",
            "Epoch 97/100\n",
            "30/30 [==============================] - 0s 7ms/step - loss: 0.0276 - accuracy: 0.9924\n",
            "Epoch 98/100\n",
            "30/30 [==============================] - 0s 6ms/step - loss: 0.0254 - accuracy: 0.9934\n",
            "Epoch 99/100\n",
            "30/30 [==============================] - 0s 6ms/step - loss: 0.0260 - accuracy: 0.9933\n",
            "Epoch 100/100\n",
            "30/30 [==============================] - 0s 6ms/step - loss: 0.0232 - accuracy: 0.9934\n"
          ],
          "name": "stdout"
        }
      ]
    },
    {
      "cell_type": "code",
      "metadata": {
        "id": "fdccBMsuI3YL",
        "colab": {
          "base_uri": "https://localhost:8080/",
          "height": 53
        },
        "outputId": "dcb1230e-7a06-4008-e94a-c3d5cbd6b215"
      },
      "source": [
        "accuracy = model.evaluate(x=test_x,y=test_y,batch_size=1024)\n",
        "\n",
        "print(\"Accuracy: \",accuracy[1])"
      ],
      "execution_count": null,
      "outputs": [
        {
          "output_type": "stream",
          "text": [
            "10/10 [==============================] - 0s 3ms/step - loss: 0.0871 - accuracy: 0.9835\n",
            "Accuracy:  0.9835000038146973\n"
          ],
          "name": "stdout"
        }
      ]
    },
    {
      "cell_type": "code",
      "metadata": {
        "id": "q_YJw7KxLaUM",
        "colab": {
          "base_uri": "https://localhost:8080/",
          "height": 35
        },
        "outputId": "f073753a-09db-4ddb-c9b7-8622734b496d"
      },
      "source": [
        "H.history.keys() # To check which information does it contain"
      ],
      "execution_count": null,
      "outputs": [
        {
          "output_type": "execute_result",
          "data": {
            "text/plain": [
              "dict_keys(['loss', 'accuracy'])"
            ]
          },
          "metadata": {
            "tags": []
          },
          "execution_count": 24
        }
      ]
    },
    {
      "cell_type": "code",
      "metadata": {
        "id": "678alk6DsXJ9",
        "colab": {
          "base_uri": "https://localhost:8080/",
          "height": 1000
        },
        "outputId": "e9bdcea6-cbaf-405e-bca4-26e759598120"
      },
      "source": [
        "H.history['accuracy']"
      ],
      "execution_count": null,
      "outputs": [
        {
          "output_type": "execute_result",
          "data": {
            "text/plain": [
              "[0.36748334765434265,\n",
              " 0.7489666938781738,\n",
              " 0.8715833425521851,\n",
              " 0.9070666432380676,\n",
              " 0.9261833429336548,\n",
              " 0.9372166395187378,\n",
              " 0.9435999989509583,\n",
              " 0.94923335313797,\n",
              " 0.9526166915893555,\n",
              " 0.9574833512306213,\n",
              " 0.9616833329200745,\n",
              " 0.9630666375160217,\n",
              " 0.9659500122070312,\n",
              " 0.9667500257492065,\n",
              " 0.9684666395187378,\n",
              " 0.9698166847229004,\n",
              " 0.9714999794960022,\n",
              " 0.9741833209991455,\n",
              " 0.9749833345413208,\n",
              " 0.9750000238418579,\n",
              " 0.9757166504859924,\n",
              " 0.9762333035469055,\n",
              " 0.9771833419799805,\n",
              " 0.9778666496276855,\n",
              " 0.9806166887283325,\n",
              " 0.9803166389465332,\n",
              " 0.9805499911308289,\n",
              " 0.98048335313797,\n",
              " 0.9815666675567627,\n",
              " 0.9815666675567627,\n",
              " 0.9829166531562805,\n",
              " 0.9839666485786438,\n",
              " 0.9830333590507507,\n",
              " 0.9831833243370056,\n",
              " 0.9840166568756104,\n",
              " 0.9846833348274231,\n",
              " 0.9840166568756104,\n",
              " 0.9850000143051147,\n",
              " 0.9853666424751282,\n",
              " 0.9858666658401489,\n",
              " 0.9862333536148071,\n",
              " 0.9880333542823792,\n",
              " 0.9870333075523376,\n",
              " 0.9876333475112915,\n",
              " 0.9880499839782715,\n",
              " 0.9871000051498413,\n",
              " 0.9874666929244995,\n",
              " 0.9874666929244995,\n",
              " 0.9881500005722046,\n",
              " 0.9881333112716675,\n",
              " 0.988016664981842,\n",
              " 0.9881333112716675,\n",
              " 0.9883166551589966,\n",
              " 0.988099992275238,\n",
              " 0.9893666505813599,\n",
              " 0.9895666837692261,\n",
              " 0.9897666573524475,\n",
              " 0.990149974822998,\n",
              " 0.9893333315849304,\n",
              " 0.9895333051681519,\n",
              " 0.9902666807174683,\n",
              " 0.9901000261306763,\n",
              " 0.990066647529602,\n",
              " 0.9905499815940857,\n",
              " 0.9897500276565552,\n",
              " 0.9902166724205017,\n",
              " 0.9911500215530396,\n",
              " 0.9917500019073486,\n",
              " 0.9902499914169312,\n",
              " 0.991016685962677,\n",
              " 0.9916166663169861,\n",
              " 0.991349995136261,\n",
              " 0.9914166927337646,\n",
              " 0.9918166399002075,\n",
              " 0.9923833608627319,\n",
              " 0.9918333292007446,\n",
              " 0.9918333292007446,\n",
              " 0.9922333359718323,\n",
              " 0.991516649723053,\n",
              " 0.9916499853134155,\n",
              " 0.9919499754905701,\n",
              " 0.9929166436195374,\n",
              " 0.9920666813850403,\n",
              " 0.9921666383743286,\n",
              " 0.9919999837875366,\n",
              " 0.9921166896820068,\n",
              " 0.9925333261489868,\n",
              " 0.9929333329200745,\n",
              " 0.9928666949272156,\n",
              " 0.9931833148002625,\n",
              " 0.9926999807357788,\n",
              " 0.992983341217041,\n",
              " 0.9927166700363159,\n",
              " 0.993149995803833,\n",
              " 0.9935166835784912,\n",
              " 0.9937333464622498,\n",
              " 0.9923666715621948,\n",
              " 0.9933666586875916,\n",
              " 0.9933333396911621,\n",
              " 0.9934333562850952]"
            ]
          },
          "metadata": {
            "tags": []
          },
          "execution_count": 25
        }
      ]
    },
    {
      "cell_type": "code",
      "metadata": {
        "id": "dOoPm_A3LrDU",
        "colab": {
          "base_uri": "https://localhost:8080/",
          "height": 542
        },
        "outputId": "f641a2e3-9ccc-4458-8dbd-202f0ce4bc74"
      },
      "source": [
        "import plotly.express as px\n",
        "\n",
        "px.line(y=H.history['accuracy'],title='Accuracy')"
      ],
      "execution_count": null,
      "outputs": [
        {
          "output_type": "display_data",
          "data": {
            "text/html": [
              "<html>\n",
              "<head><meta charset=\"utf-8\" /></head>\n",
              "<body>\n",
              "    <div>\n",
              "            <script src=\"https://cdnjs.cloudflare.com/ajax/libs/mathjax/2.7.5/MathJax.js?config=TeX-AMS-MML_SVG\"></script><script type=\"text/javascript\">if (window.MathJax) {MathJax.Hub.Config({SVG: {font: \"STIX-Web\"}});}</script>\n",
              "                <script type=\"text/javascript\">window.PlotlyConfig = {MathJaxConfig: 'local'};</script>\n",
              "        <script src=\"https://cdn.plot.ly/plotly-latest.min.js\"></script>    \n",
              "            <div id=\"b582794c-cfc2-400e-b2fd-628ccb811d9d\" class=\"plotly-graph-div\" style=\"height:525px; width:100%;\"></div>\n",
              "            <script type=\"text/javascript\">\n",
              "                \n",
              "                    window.PLOTLYENV=window.PLOTLYENV || {};\n",
              "                    \n",
              "                if (document.getElementById(\"b582794c-cfc2-400e-b2fd-628ccb811d9d\")) {\n",
              "                    Plotly.newPlot(\n",
              "                        'b582794c-cfc2-400e-b2fd-628ccb811d9d',\n",
              "                        [{\"hoverlabel\": {\"namelength\": 0}, \"hovertemplate\": \"y=%{y}\", \"legendgroup\": \"\", \"line\": {\"color\": \"#636efa\", \"dash\": \"solid\"}, \"mode\": \"lines\", \"name\": \"\", \"showlegend\": false, \"type\": \"scatter\", \"xaxis\": \"x\", \"y\": [0.36748334765434265, 0.7489666938781738, 0.8715833425521851, 0.9070666432380676, 0.9261833429336548, 0.9372166395187378, 0.9435999989509583, 0.94923335313797, 0.9526166915893555, 0.9574833512306213, 0.9616833329200745, 0.9630666375160217, 0.9659500122070312, 0.9667500257492065, 0.9684666395187378, 0.9698166847229004, 0.9714999794960022, 0.9741833209991455, 0.9749833345413208, 0.9750000238418579, 0.9757166504859924, 0.9762333035469055, 0.9771833419799805, 0.9778666496276855, 0.9806166887283325, 0.9803166389465332, 0.9805499911308289, 0.98048335313797, 0.9815666675567627, 0.9815666675567627, 0.9829166531562805, 0.9839666485786438, 0.9830333590507507, 0.9831833243370056, 0.9840166568756104, 0.9846833348274231, 0.9840166568756104, 0.9850000143051147, 0.9853666424751282, 0.9858666658401489, 0.9862333536148071, 0.9880333542823792, 0.9870333075523376, 0.9876333475112915, 0.9880499839782715, 0.9871000051498413, 0.9874666929244995, 0.9874666929244995, 0.9881500005722046, 0.9881333112716675, 0.988016664981842, 0.9881333112716675, 0.9883166551589966, 0.988099992275238, 0.9893666505813599, 0.9895666837692261, 0.9897666573524475, 0.990149974822998, 0.9893333315849304, 0.9895333051681519, 0.9902666807174683, 0.9901000261306763, 0.990066647529602, 0.9905499815940857, 0.9897500276565552, 0.9902166724205017, 0.9911500215530396, 0.9917500019073486, 0.9902499914169312, 0.991016685962677, 0.9916166663169861, 0.991349995136261, 0.9914166927337646, 0.9918166399002075, 0.9923833608627319, 0.9918333292007446, 0.9918333292007446, 0.9922333359718323, 0.991516649723053, 0.9916499853134155, 0.9919499754905701, 0.9929166436195374, 0.9920666813850403, 0.9921666383743286, 0.9919999837875366, 0.9921166896820068, 0.9925333261489868, 0.9929333329200745, 0.9928666949272156, 0.9931833148002625, 0.9926999807357788, 0.992983341217041, 0.9927166700363159, 0.993149995803833, 0.9935166835784912, 0.9937333464622498, 0.9923666715621948, 0.9933666586875916, 0.9933333396911621, 0.9934333562850952], \"yaxis\": \"y\"}],\n",
              "                        {\"legend\": {\"tracegroupgap\": 0}, \"template\": {\"data\": {\"bar\": [{\"error_x\": {\"color\": \"#2a3f5f\"}, \"error_y\": {\"color\": \"#2a3f5f\"}, \"marker\": {\"line\": {\"color\": \"#E5ECF6\", \"width\": 0.5}}, \"type\": \"bar\"}], \"barpolar\": [{\"marker\": {\"line\": {\"color\": \"#E5ECF6\", \"width\": 0.5}}, \"type\": \"barpolar\"}], \"carpet\": [{\"aaxis\": {\"endlinecolor\": \"#2a3f5f\", \"gridcolor\": \"white\", \"linecolor\": \"white\", \"minorgridcolor\": \"white\", \"startlinecolor\": \"#2a3f5f\"}, \"baxis\": {\"endlinecolor\": \"#2a3f5f\", \"gridcolor\": \"white\", \"linecolor\": \"white\", \"minorgridcolor\": \"white\", \"startlinecolor\": \"#2a3f5f\"}, \"type\": \"carpet\"}], \"choropleth\": [{\"colorbar\": {\"outlinewidth\": 0, \"ticks\": \"\"}, \"type\": \"choropleth\"}], \"contour\": [{\"colorbar\": {\"outlinewidth\": 0, \"ticks\": \"\"}, \"colorscale\": [[0.0, \"#0d0887\"], [0.1111111111111111, \"#46039f\"], [0.2222222222222222, \"#7201a8\"], [0.3333333333333333, \"#9c179e\"], [0.4444444444444444, \"#bd3786\"], [0.5555555555555556, \"#d8576b\"], [0.6666666666666666, \"#ed7953\"], [0.7777777777777778, \"#fb9f3a\"], [0.8888888888888888, \"#fdca26\"], [1.0, \"#f0f921\"]], \"type\": \"contour\"}], \"contourcarpet\": [{\"colorbar\": {\"outlinewidth\": 0, \"ticks\": \"\"}, \"type\": \"contourcarpet\"}], \"heatmap\": [{\"colorbar\": {\"outlinewidth\": 0, \"ticks\": \"\"}, \"colorscale\": [[0.0, \"#0d0887\"], [0.1111111111111111, \"#46039f\"], [0.2222222222222222, \"#7201a8\"], [0.3333333333333333, \"#9c179e\"], [0.4444444444444444, \"#bd3786\"], [0.5555555555555556, \"#d8576b\"], [0.6666666666666666, \"#ed7953\"], [0.7777777777777778, \"#fb9f3a\"], [0.8888888888888888, \"#fdca26\"], [1.0, \"#f0f921\"]], \"type\": \"heatmap\"}], \"heatmapgl\": [{\"colorbar\": {\"outlinewidth\": 0, \"ticks\": \"\"}, \"colorscale\": [[0.0, \"#0d0887\"], [0.1111111111111111, \"#46039f\"], [0.2222222222222222, \"#7201a8\"], [0.3333333333333333, \"#9c179e\"], [0.4444444444444444, \"#bd3786\"], [0.5555555555555556, \"#d8576b\"], [0.6666666666666666, \"#ed7953\"], [0.7777777777777778, \"#fb9f3a\"], [0.8888888888888888, \"#fdca26\"], [1.0, \"#f0f921\"]], \"type\": \"heatmapgl\"}], \"histogram\": [{\"marker\": {\"colorbar\": {\"outlinewidth\": 0, \"ticks\": \"\"}}, \"type\": \"histogram\"}], \"histogram2d\": [{\"colorbar\": {\"outlinewidth\": 0, \"ticks\": \"\"}, \"colorscale\": [[0.0, \"#0d0887\"], [0.1111111111111111, \"#46039f\"], [0.2222222222222222, \"#7201a8\"], [0.3333333333333333, \"#9c179e\"], [0.4444444444444444, \"#bd3786\"], [0.5555555555555556, \"#d8576b\"], [0.6666666666666666, \"#ed7953\"], [0.7777777777777778, \"#fb9f3a\"], [0.8888888888888888, \"#fdca26\"], [1.0, \"#f0f921\"]], \"type\": \"histogram2d\"}], \"histogram2dcontour\": [{\"colorbar\": {\"outlinewidth\": 0, \"ticks\": \"\"}, \"colorscale\": [[0.0, \"#0d0887\"], [0.1111111111111111, \"#46039f\"], [0.2222222222222222, \"#7201a8\"], [0.3333333333333333, \"#9c179e\"], [0.4444444444444444, \"#bd3786\"], [0.5555555555555556, \"#d8576b\"], [0.6666666666666666, \"#ed7953\"], [0.7777777777777778, \"#fb9f3a\"], [0.8888888888888888, \"#fdca26\"], [1.0, \"#f0f921\"]], \"type\": \"histogram2dcontour\"}], \"mesh3d\": [{\"colorbar\": {\"outlinewidth\": 0, \"ticks\": \"\"}, \"type\": \"mesh3d\"}], \"parcoords\": [{\"line\": {\"colorbar\": {\"outlinewidth\": 0, \"ticks\": \"\"}}, \"type\": \"parcoords\"}], \"pie\": [{\"automargin\": true, \"type\": \"pie\"}], \"scatter\": [{\"marker\": {\"colorbar\": {\"outlinewidth\": 0, \"ticks\": \"\"}}, \"type\": \"scatter\"}], \"scatter3d\": [{\"line\": {\"colorbar\": {\"outlinewidth\": 0, \"ticks\": \"\"}}, \"marker\": {\"colorbar\": {\"outlinewidth\": 0, \"ticks\": \"\"}}, \"type\": \"scatter3d\"}], \"scattercarpet\": [{\"marker\": {\"colorbar\": {\"outlinewidth\": 0, \"ticks\": \"\"}}, \"type\": \"scattercarpet\"}], \"scattergeo\": [{\"marker\": {\"colorbar\": {\"outlinewidth\": 0, \"ticks\": \"\"}}, \"type\": \"scattergeo\"}], \"scattergl\": [{\"marker\": {\"colorbar\": {\"outlinewidth\": 0, \"ticks\": \"\"}}, \"type\": \"scattergl\"}], \"scattermapbox\": [{\"marker\": {\"colorbar\": {\"outlinewidth\": 0, \"ticks\": \"\"}}, \"type\": \"scattermapbox\"}], \"scatterpolar\": [{\"marker\": {\"colorbar\": {\"outlinewidth\": 0, \"ticks\": \"\"}}, \"type\": \"scatterpolar\"}], \"scatterpolargl\": [{\"marker\": {\"colorbar\": {\"outlinewidth\": 0, \"ticks\": \"\"}}, \"type\": \"scatterpolargl\"}], \"scatterternary\": [{\"marker\": {\"colorbar\": {\"outlinewidth\": 0, \"ticks\": \"\"}}, \"type\": \"scatterternary\"}], \"surface\": [{\"colorbar\": {\"outlinewidth\": 0, \"ticks\": \"\"}, \"colorscale\": [[0.0, \"#0d0887\"], [0.1111111111111111, \"#46039f\"], [0.2222222222222222, \"#7201a8\"], [0.3333333333333333, \"#9c179e\"], [0.4444444444444444, \"#bd3786\"], [0.5555555555555556, \"#d8576b\"], [0.6666666666666666, \"#ed7953\"], [0.7777777777777778, \"#fb9f3a\"], [0.8888888888888888, \"#fdca26\"], [1.0, \"#f0f921\"]], \"type\": \"surface\"}], \"table\": [{\"cells\": {\"fill\": {\"color\": \"#EBF0F8\"}, \"line\": {\"color\": \"white\"}}, \"header\": {\"fill\": {\"color\": \"#C8D4E3\"}, \"line\": {\"color\": \"white\"}}, \"type\": \"table\"}]}, \"layout\": {\"annotationdefaults\": {\"arrowcolor\": \"#2a3f5f\", \"arrowhead\": 0, \"arrowwidth\": 1}, \"coloraxis\": {\"colorbar\": {\"outlinewidth\": 0, \"ticks\": \"\"}}, \"colorscale\": {\"diverging\": [[0, \"#8e0152\"], [0.1, \"#c51b7d\"], [0.2, \"#de77ae\"], [0.3, \"#f1b6da\"], [0.4, \"#fde0ef\"], [0.5, \"#f7f7f7\"], [0.6, \"#e6f5d0\"], [0.7, \"#b8e186\"], [0.8, \"#7fbc41\"], [0.9, \"#4d9221\"], [1, \"#276419\"]], \"sequential\": [[0.0, \"#0d0887\"], [0.1111111111111111, \"#46039f\"], [0.2222222222222222, \"#7201a8\"], [0.3333333333333333, \"#9c179e\"], [0.4444444444444444, \"#bd3786\"], [0.5555555555555556, \"#d8576b\"], [0.6666666666666666, \"#ed7953\"], [0.7777777777777778, \"#fb9f3a\"], [0.8888888888888888, \"#fdca26\"], [1.0, \"#f0f921\"]], \"sequentialminus\": [[0.0, \"#0d0887\"], [0.1111111111111111, \"#46039f\"], [0.2222222222222222, \"#7201a8\"], [0.3333333333333333, \"#9c179e\"], [0.4444444444444444, \"#bd3786\"], [0.5555555555555556, \"#d8576b\"], [0.6666666666666666, \"#ed7953\"], [0.7777777777777778, \"#fb9f3a\"], [0.8888888888888888, \"#fdca26\"], [1.0, \"#f0f921\"]]}, \"colorway\": [\"#636efa\", \"#EF553B\", \"#00cc96\", \"#ab63fa\", \"#FFA15A\", \"#19d3f3\", \"#FF6692\", \"#B6E880\", \"#FF97FF\", \"#FECB52\"], \"font\": {\"color\": \"#2a3f5f\"}, \"geo\": {\"bgcolor\": \"white\", \"lakecolor\": \"white\", \"landcolor\": \"#E5ECF6\", \"showlakes\": true, \"showland\": true, \"subunitcolor\": \"white\"}, \"hoverlabel\": {\"align\": \"left\"}, \"hovermode\": \"closest\", \"mapbox\": {\"style\": \"light\"}, \"paper_bgcolor\": \"white\", \"plot_bgcolor\": \"#E5ECF6\", \"polar\": {\"angularaxis\": {\"gridcolor\": \"white\", \"linecolor\": \"white\", \"ticks\": \"\"}, \"bgcolor\": \"#E5ECF6\", \"radialaxis\": {\"gridcolor\": \"white\", \"linecolor\": \"white\", \"ticks\": \"\"}}, \"scene\": {\"xaxis\": {\"backgroundcolor\": \"#E5ECF6\", \"gridcolor\": \"white\", \"gridwidth\": 2, \"linecolor\": \"white\", \"showbackground\": true, \"ticks\": \"\", \"zerolinecolor\": \"white\"}, \"yaxis\": {\"backgroundcolor\": \"#E5ECF6\", \"gridcolor\": \"white\", \"gridwidth\": 2, \"linecolor\": \"white\", \"showbackground\": true, \"ticks\": \"\", \"zerolinecolor\": \"white\"}, \"zaxis\": {\"backgroundcolor\": \"#E5ECF6\", \"gridcolor\": \"white\", \"gridwidth\": 2, \"linecolor\": \"white\", \"showbackground\": true, \"ticks\": \"\", \"zerolinecolor\": \"white\"}}, \"shapedefaults\": {\"line\": {\"color\": \"#2a3f5f\"}}, \"ternary\": {\"aaxis\": {\"gridcolor\": \"white\", \"linecolor\": \"white\", \"ticks\": \"\"}, \"baxis\": {\"gridcolor\": \"white\", \"linecolor\": \"white\", \"ticks\": \"\"}, \"bgcolor\": \"#E5ECF6\", \"caxis\": {\"gridcolor\": \"white\", \"linecolor\": \"white\", \"ticks\": \"\"}}, \"title\": {\"x\": 0.05}, \"xaxis\": {\"automargin\": true, \"gridcolor\": \"white\", \"linecolor\": \"white\", \"ticks\": \"\", \"title\": {\"standoff\": 15}, \"zerolinecolor\": \"white\", \"zerolinewidth\": 2}, \"yaxis\": {\"automargin\": true, \"gridcolor\": \"white\", \"linecolor\": \"white\", \"ticks\": \"\", \"title\": {\"standoff\": 15}, \"zerolinecolor\": \"white\", \"zerolinewidth\": 2}}}, \"title\": {\"text\": \"Accuracy\"}, \"xaxis\": {\"anchor\": \"y\", \"domain\": [0.0, 1.0]}, \"yaxis\": {\"anchor\": \"x\", \"domain\": [0.0, 1.0], \"title\": {\"text\": \"y\"}}},\n",
              "                        {\"responsive\": true}\n",
              "                    ).then(function(){\n",
              "                            \n",
              "var gd = document.getElementById('b582794c-cfc2-400e-b2fd-628ccb811d9d');\n",
              "var x = new MutationObserver(function (mutations, observer) {{\n",
              "        var display = window.getComputedStyle(gd).display;\n",
              "        if (!display || display === 'none') {{\n",
              "            console.log([gd, 'removed!']);\n",
              "            Plotly.purge(gd);\n",
              "            observer.disconnect();\n",
              "        }}\n",
              "}});\n",
              "\n",
              "// Listen for the removal of the full notebook cells\n",
              "var notebookContainer = gd.closest('#notebook-container');\n",
              "if (notebookContainer) {{\n",
              "    x.observe(notebookContainer, {childList: true});\n",
              "}}\n",
              "\n",
              "// Listen for the clearing of the current output cell\n",
              "var outputEl = gd.closest('.output');\n",
              "if (outputEl) {{\n",
              "    x.observe(outputEl, {childList: true});\n",
              "}}\n",
              "\n",
              "                        })\n",
              "                };\n",
              "                \n",
              "            </script>\n",
              "        </div>\n",
              "</body>\n",
              "</html>"
            ]
          },
          "metadata": {
            "tags": []
          }
        }
      ]
    },
    {
      "cell_type": "code",
      "metadata": {
        "id": "m7i_YRX8m2gc",
        "colab": {
          "base_uri": "https://localhost:8080/",
          "height": 542
        },
        "outputId": "167ab910-08b8-42af-a9b0-6715129e37ce"
      },
      "source": [
        "px.line(y=H.history['loss'],title='Loss')"
      ],
      "execution_count": null,
      "outputs": [
        {
          "output_type": "display_data",
          "data": {
            "text/html": [
              "<html>\n",
              "<head><meta charset=\"utf-8\" /></head>\n",
              "<body>\n",
              "    <div>\n",
              "            <script src=\"https://cdnjs.cloudflare.com/ajax/libs/mathjax/2.7.5/MathJax.js?config=TeX-AMS-MML_SVG\"></script><script type=\"text/javascript\">if (window.MathJax) {MathJax.Hub.Config({SVG: {font: \"STIX-Web\"}});}</script>\n",
              "                <script type=\"text/javascript\">window.PlotlyConfig = {MathJaxConfig: 'local'};</script>\n",
              "        <script src=\"https://cdn.plot.ly/plotly-latest.min.js\"></script>    \n",
              "            <div id=\"9efc7c35-f7e0-465d-8ce8-c0822d7f5aee\" class=\"plotly-graph-div\" style=\"height:525px; width:100%;\"></div>\n",
              "            <script type=\"text/javascript\">\n",
              "                \n",
              "                    window.PLOTLYENV=window.PLOTLYENV || {};\n",
              "                    \n",
              "                if (document.getElementById(\"9efc7c35-f7e0-465d-8ce8-c0822d7f5aee\")) {\n",
              "                    Plotly.newPlot(\n",
              "                        '9efc7c35-f7e0-465d-8ce8-c0822d7f5aee',\n",
              "                        [{\"hoverlabel\": {\"namelength\": 0}, \"hovertemplate\": \"y=%{y}\", \"legendgroup\": \"\", \"line\": {\"color\": \"#636efa\", \"dash\": \"solid\"}, \"mode\": \"lines\", \"name\": \"\", \"showlegend\": false, \"type\": \"scatter\", \"xaxis\": \"x\", \"y\": [1.811059594154358, 0.7959255576133728, 0.45615166425704956, 0.3482285737991333, 0.28031009435653687, 0.24720078706741333, 0.22115257382392883, 0.1988527774810791, 0.18031826615333557, 0.16365213692188263, 0.15088501572608948, 0.14437590539455414, 0.1351112276315689, 0.12971808016300201, 0.12076610326766968, 0.11637257039546967, 0.10628663748502731, 0.10350478440523148, 0.09681371599435806, 0.09683439135551453, 0.09261492639780045, 0.08887194842100143, 0.08671364188194275, 0.08392936736345291, 0.07518737018108368, 0.07385579496622086, 0.07411618530750275, 0.07434429973363876, 0.07048635929822922, 0.06965574622154236, 0.06711570918560028, 0.06016281247138977, 0.06351229548454285, 0.06410104781389236, 0.05700817331671715, 0.05690300464630127, 0.05957335978746414, 0.056162942200899124, 0.055782195180654526, 0.05254244804382324, 0.05156265199184418, 0.044685106724500656, 0.048746444284915924, 0.04589938372373581, 0.045435432344675064, 0.04809890314936638, 0.04667819291353226, 0.047741662710905075, 0.045751456171274185, 0.045633796602487564, 0.045725297182798386, 0.044347766786813736, 0.04236419498920441, 0.04485885426402092, 0.04187522083520889, 0.03903158754110336, 0.03910880908370018, 0.036560650914907455, 0.038496214896440506, 0.0388045459985733, 0.03712279722094536, 0.038213834166526794, 0.037905581295490265, 0.034901656210422516, 0.03640970587730408, 0.036883771419525146, 0.03200170770287514, 0.03069886937737465, 0.03504684194922447, 0.03442658856511116, 0.0318254791200161, 0.03266031667590141, 0.03231985867023468, 0.0305269043892622, 0.029256926849484444, 0.030310463160276413, 0.02942107804119587, 0.030068596825003624, 0.0309243556112051, 0.030642399564385414, 0.029913999140262604, 0.027683455497026443, 0.030613666400313377, 0.02871672622859478, 0.029744412750005722, 0.028412435203790665, 0.027442840859293938, 0.02672387845814228, 0.02638985589146614, 0.025685230270028114, 0.026763489469885826, 0.025055084377527237, 0.02689080312848091, 0.02731170319020748, 0.02421652153134346, 0.0232089851051569, 0.027603596448898315, 0.025432975962758064, 0.025993602350354195, 0.02316969819366932], \"yaxis\": \"y\"}],\n",
              "                        {\"legend\": {\"tracegroupgap\": 0}, \"template\": {\"data\": {\"bar\": [{\"error_x\": {\"color\": \"#2a3f5f\"}, \"error_y\": {\"color\": \"#2a3f5f\"}, \"marker\": {\"line\": {\"color\": \"#E5ECF6\", \"width\": 0.5}}, \"type\": \"bar\"}], \"barpolar\": [{\"marker\": {\"line\": {\"color\": \"#E5ECF6\", \"width\": 0.5}}, \"type\": \"barpolar\"}], \"carpet\": [{\"aaxis\": {\"endlinecolor\": \"#2a3f5f\", \"gridcolor\": \"white\", \"linecolor\": \"white\", \"minorgridcolor\": \"white\", \"startlinecolor\": \"#2a3f5f\"}, \"baxis\": {\"endlinecolor\": \"#2a3f5f\", \"gridcolor\": \"white\", \"linecolor\": \"white\", \"minorgridcolor\": \"white\", \"startlinecolor\": \"#2a3f5f\"}, \"type\": \"carpet\"}], \"choropleth\": [{\"colorbar\": {\"outlinewidth\": 0, \"ticks\": \"\"}, \"type\": \"choropleth\"}], \"contour\": [{\"colorbar\": {\"outlinewidth\": 0, \"ticks\": \"\"}, \"colorscale\": [[0.0, \"#0d0887\"], [0.1111111111111111, \"#46039f\"], [0.2222222222222222, \"#7201a8\"], [0.3333333333333333, \"#9c179e\"], [0.4444444444444444, \"#bd3786\"], [0.5555555555555556, \"#d8576b\"], [0.6666666666666666, \"#ed7953\"], [0.7777777777777778, \"#fb9f3a\"], [0.8888888888888888, \"#fdca26\"], [1.0, \"#f0f921\"]], \"type\": \"contour\"}], \"contourcarpet\": [{\"colorbar\": {\"outlinewidth\": 0, \"ticks\": \"\"}, \"type\": \"contourcarpet\"}], \"heatmap\": [{\"colorbar\": {\"outlinewidth\": 0, \"ticks\": \"\"}, \"colorscale\": [[0.0, \"#0d0887\"], [0.1111111111111111, \"#46039f\"], [0.2222222222222222, \"#7201a8\"], [0.3333333333333333, \"#9c179e\"], [0.4444444444444444, \"#bd3786\"], [0.5555555555555556, \"#d8576b\"], [0.6666666666666666, \"#ed7953\"], [0.7777777777777778, \"#fb9f3a\"], [0.8888888888888888, \"#fdca26\"], [1.0, \"#f0f921\"]], \"type\": \"heatmap\"}], \"heatmapgl\": [{\"colorbar\": {\"outlinewidth\": 0, \"ticks\": \"\"}, \"colorscale\": [[0.0, \"#0d0887\"], [0.1111111111111111, \"#46039f\"], [0.2222222222222222, \"#7201a8\"], [0.3333333333333333, \"#9c179e\"], [0.4444444444444444, \"#bd3786\"], [0.5555555555555556, \"#d8576b\"], [0.6666666666666666, \"#ed7953\"], [0.7777777777777778, \"#fb9f3a\"], [0.8888888888888888, \"#fdca26\"], [1.0, \"#f0f921\"]], \"type\": \"heatmapgl\"}], \"histogram\": [{\"marker\": {\"colorbar\": {\"outlinewidth\": 0, \"ticks\": \"\"}}, \"type\": \"histogram\"}], \"histogram2d\": [{\"colorbar\": {\"outlinewidth\": 0, \"ticks\": \"\"}, \"colorscale\": [[0.0, \"#0d0887\"], [0.1111111111111111, \"#46039f\"], [0.2222222222222222, \"#7201a8\"], [0.3333333333333333, \"#9c179e\"], [0.4444444444444444, \"#bd3786\"], [0.5555555555555556, \"#d8576b\"], [0.6666666666666666, \"#ed7953\"], [0.7777777777777778, \"#fb9f3a\"], [0.8888888888888888, \"#fdca26\"], [1.0, \"#f0f921\"]], \"type\": \"histogram2d\"}], \"histogram2dcontour\": [{\"colorbar\": {\"outlinewidth\": 0, \"ticks\": \"\"}, \"colorscale\": [[0.0, \"#0d0887\"], [0.1111111111111111, \"#46039f\"], [0.2222222222222222, \"#7201a8\"], [0.3333333333333333, \"#9c179e\"], [0.4444444444444444, \"#bd3786\"], [0.5555555555555556, \"#d8576b\"], [0.6666666666666666, \"#ed7953\"], [0.7777777777777778, \"#fb9f3a\"], [0.8888888888888888, \"#fdca26\"], [1.0, \"#f0f921\"]], \"type\": \"histogram2dcontour\"}], \"mesh3d\": [{\"colorbar\": {\"outlinewidth\": 0, \"ticks\": \"\"}, \"type\": \"mesh3d\"}], \"parcoords\": [{\"line\": {\"colorbar\": {\"outlinewidth\": 0, \"ticks\": \"\"}}, \"type\": \"parcoords\"}], \"pie\": [{\"automargin\": true, \"type\": \"pie\"}], \"scatter\": [{\"marker\": {\"colorbar\": {\"outlinewidth\": 0, \"ticks\": \"\"}}, \"type\": \"scatter\"}], \"scatter3d\": [{\"line\": {\"colorbar\": {\"outlinewidth\": 0, \"ticks\": \"\"}}, \"marker\": {\"colorbar\": {\"outlinewidth\": 0, \"ticks\": \"\"}}, \"type\": \"scatter3d\"}], \"scattercarpet\": [{\"marker\": {\"colorbar\": {\"outlinewidth\": 0, \"ticks\": \"\"}}, \"type\": \"scattercarpet\"}], \"scattergeo\": [{\"marker\": {\"colorbar\": {\"outlinewidth\": 0, \"ticks\": \"\"}}, \"type\": \"scattergeo\"}], \"scattergl\": [{\"marker\": {\"colorbar\": {\"outlinewidth\": 0, \"ticks\": \"\"}}, \"type\": \"scattergl\"}], \"scattermapbox\": [{\"marker\": {\"colorbar\": {\"outlinewidth\": 0, \"ticks\": \"\"}}, \"type\": \"scattermapbox\"}], \"scatterpolar\": [{\"marker\": {\"colorbar\": {\"outlinewidth\": 0, \"ticks\": \"\"}}, \"type\": \"scatterpolar\"}], \"scatterpolargl\": [{\"marker\": {\"colorbar\": {\"outlinewidth\": 0, \"ticks\": \"\"}}, \"type\": \"scatterpolargl\"}], \"scatterternary\": [{\"marker\": {\"colorbar\": {\"outlinewidth\": 0, \"ticks\": \"\"}}, \"type\": \"scatterternary\"}], \"surface\": [{\"colorbar\": {\"outlinewidth\": 0, \"ticks\": \"\"}, \"colorscale\": [[0.0, \"#0d0887\"], [0.1111111111111111, \"#46039f\"], [0.2222222222222222, \"#7201a8\"], [0.3333333333333333, \"#9c179e\"], [0.4444444444444444, \"#bd3786\"], [0.5555555555555556, \"#d8576b\"], [0.6666666666666666, \"#ed7953\"], [0.7777777777777778, \"#fb9f3a\"], [0.8888888888888888, \"#fdca26\"], [1.0, \"#f0f921\"]], \"type\": \"surface\"}], \"table\": [{\"cells\": {\"fill\": {\"color\": \"#EBF0F8\"}, \"line\": {\"color\": \"white\"}}, \"header\": {\"fill\": {\"color\": \"#C8D4E3\"}, \"line\": {\"color\": \"white\"}}, \"type\": \"table\"}]}, \"layout\": {\"annotationdefaults\": {\"arrowcolor\": \"#2a3f5f\", \"arrowhead\": 0, \"arrowwidth\": 1}, \"coloraxis\": {\"colorbar\": {\"outlinewidth\": 0, \"ticks\": \"\"}}, \"colorscale\": {\"diverging\": [[0, \"#8e0152\"], [0.1, \"#c51b7d\"], [0.2, \"#de77ae\"], [0.3, \"#f1b6da\"], [0.4, \"#fde0ef\"], [0.5, \"#f7f7f7\"], [0.6, \"#e6f5d0\"], [0.7, \"#b8e186\"], [0.8, \"#7fbc41\"], [0.9, \"#4d9221\"], [1, \"#276419\"]], \"sequential\": [[0.0, \"#0d0887\"], [0.1111111111111111, \"#46039f\"], [0.2222222222222222, \"#7201a8\"], [0.3333333333333333, \"#9c179e\"], [0.4444444444444444, \"#bd3786\"], [0.5555555555555556, \"#d8576b\"], [0.6666666666666666, \"#ed7953\"], [0.7777777777777778, \"#fb9f3a\"], [0.8888888888888888, \"#fdca26\"], [1.0, \"#f0f921\"]], \"sequentialminus\": [[0.0, \"#0d0887\"], [0.1111111111111111, \"#46039f\"], [0.2222222222222222, \"#7201a8\"], [0.3333333333333333, \"#9c179e\"], [0.4444444444444444, \"#bd3786\"], [0.5555555555555556, \"#d8576b\"], [0.6666666666666666, \"#ed7953\"], [0.7777777777777778, \"#fb9f3a\"], [0.8888888888888888, \"#fdca26\"], [1.0, \"#f0f921\"]]}, \"colorway\": [\"#636efa\", \"#EF553B\", \"#00cc96\", \"#ab63fa\", \"#FFA15A\", \"#19d3f3\", \"#FF6692\", \"#B6E880\", \"#FF97FF\", \"#FECB52\"], \"font\": {\"color\": \"#2a3f5f\"}, \"geo\": {\"bgcolor\": \"white\", \"lakecolor\": \"white\", \"landcolor\": \"#E5ECF6\", \"showlakes\": true, \"showland\": true, \"subunitcolor\": \"white\"}, \"hoverlabel\": {\"align\": \"left\"}, \"hovermode\": \"closest\", \"mapbox\": {\"style\": \"light\"}, \"paper_bgcolor\": \"white\", \"plot_bgcolor\": \"#E5ECF6\", \"polar\": {\"angularaxis\": {\"gridcolor\": \"white\", \"linecolor\": \"white\", \"ticks\": \"\"}, \"bgcolor\": \"#E5ECF6\", \"radialaxis\": {\"gridcolor\": \"white\", \"linecolor\": \"white\", \"ticks\": \"\"}}, \"scene\": {\"xaxis\": {\"backgroundcolor\": \"#E5ECF6\", \"gridcolor\": \"white\", \"gridwidth\": 2, \"linecolor\": \"white\", \"showbackground\": true, \"ticks\": \"\", \"zerolinecolor\": \"white\"}, \"yaxis\": {\"backgroundcolor\": \"#E5ECF6\", \"gridcolor\": \"white\", \"gridwidth\": 2, \"linecolor\": \"white\", \"showbackground\": true, \"ticks\": \"\", \"zerolinecolor\": \"white\"}, \"zaxis\": {\"backgroundcolor\": \"#E5ECF6\", \"gridcolor\": \"white\", \"gridwidth\": 2, \"linecolor\": \"white\", \"showbackground\": true, \"ticks\": \"\", \"zerolinecolor\": \"white\"}}, \"shapedefaults\": {\"line\": {\"color\": \"#2a3f5f\"}}, \"ternary\": {\"aaxis\": {\"gridcolor\": \"white\", \"linecolor\": \"white\", \"ticks\": \"\"}, \"baxis\": {\"gridcolor\": \"white\", \"linecolor\": \"white\", \"ticks\": \"\"}, \"bgcolor\": \"#E5ECF6\", \"caxis\": {\"gridcolor\": \"white\", \"linecolor\": \"white\", \"ticks\": \"\"}}, \"title\": {\"x\": 0.05}, \"xaxis\": {\"automargin\": true, \"gridcolor\": \"white\", \"linecolor\": \"white\", \"ticks\": \"\", \"title\": {\"standoff\": 15}, \"zerolinecolor\": \"white\", \"zerolinewidth\": 2}, \"yaxis\": {\"automargin\": true, \"gridcolor\": \"white\", \"linecolor\": \"white\", \"ticks\": \"\", \"title\": {\"standoff\": 15}, \"zerolinecolor\": \"white\", \"zerolinewidth\": 2}}}, \"title\": {\"text\": \"Loss\"}, \"xaxis\": {\"anchor\": \"y\", \"domain\": [0.0, 1.0]}, \"yaxis\": {\"anchor\": \"x\", \"domain\": [0.0, 1.0], \"title\": {\"text\": \"y\"}}},\n",
              "                        {\"responsive\": true}\n",
              "                    ).then(function(){\n",
              "                            \n",
              "var gd = document.getElementById('9efc7c35-f7e0-465d-8ce8-c0822d7f5aee');\n",
              "var x = new MutationObserver(function (mutations, observer) {{\n",
              "        var display = window.getComputedStyle(gd).display;\n",
              "        if (!display || display === 'none') {{\n",
              "            console.log([gd, 'removed!']);\n",
              "            Plotly.purge(gd);\n",
              "            observer.disconnect();\n",
              "        }}\n",
              "}});\n",
              "\n",
              "// Listen for the removal of the full notebook cells\n",
              "var notebookContainer = gd.closest('#notebook-container');\n",
              "if (notebookContainer) {{\n",
              "    x.observe(notebookContainer, {childList: true});\n",
              "}}\n",
              "\n",
              "// Listen for the clearing of the current output cell\n",
              "var outputEl = gd.closest('.output');\n",
              "if (outputEl) {{\n",
              "    x.observe(outputEl, {childList: true});\n",
              "}}\n",
              "\n",
              "                        })\n",
              "                };\n",
              "                \n",
              "            </script>\n",
              "        </div>\n",
              "</body>\n",
              "</html>"
            ]
          },
          "metadata": {
            "tags": []
          }
        }
      ]
    },
    {
      "cell_type": "markdown",
      "metadata": {
        "id": "hxtnqzNxI3YW"
      },
      "source": [
        "## Predictions for your images (optional)"
      ]
    },
    {
      "cell_type": "code",
      "metadata": {
        "id": "VghDa4U7u-xS",
        "colab": {
          "base_uri": "https://localhost:8080/",
          "height": 126
        },
        "outputId": "cd773350-40e0-4d89-cb9a-2828fa1ff0f9"
      },
      "source": [
        "from google.colab import drive\n",
        "drive.mount('/content/drive/')"
      ],
      "execution_count": null,
      "outputs": [
        {
          "output_type": "stream",
          "text": [
            "Go to this URL in a browser: https://accounts.google.com/o/oauth2/auth?client_id=947318989803-6bn6qk8qdgf4n4g3pfee6491hc0brc4i.apps.googleusercontent.com&redirect_uri=urn%3aietf%3awg%3aoauth%3a2.0%3aoob&response_type=code&scope=email%20https%3a%2f%2fwww.googleapis.com%2fauth%2fdocs.test%20https%3a%2f%2fwww.googleapis.com%2fauth%2fdrive%20https%3a%2f%2fwww.googleapis.com%2fauth%2fdrive.photos.readonly%20https%3a%2f%2fwww.googleapis.com%2fauth%2fpeopleapi.readonly\n",
            "\n",
            "Enter your authorization code:\n",
            "··········\n",
            "Mounted at /content/drive/\n"
          ],
          "name": "stdout"
        }
      ]
    },
    {
      "cell_type": "code",
      "metadata": {
        "id": "lIa-iyE0vCOm",
        "colab": {
          "base_uri": "https://localhost:8080/",
          "height": 35
        },
        "outputId": "e6d94060-eb33-4d8d-f3e1-db812e2efe67"
      },
      "source": [
        "%cd /content/drive/My Drive/Colab Notebooks/ML_and_NN_course/module 3"
      ],
      "execution_count": null,
      "outputs": [
        {
          "output_type": "stream",
          "text": [
            "/content/drive/My Drive/Colab Notebooks/ML_and_NN_course/module 3\n"
          ],
          "name": "stdout"
        }
      ]
    },
    {
      "cell_type": "code",
      "metadata": {
        "id": "Oy9q-a43I3Yx"
      },
      "source": [
        "from utils import *"
      ],
      "execution_count": null,
      "outputs": []
    },
    {
      "cell_type": "code",
      "metadata": {
        "id": "30VSJmbCI3Y7",
        "colab": {
          "base_uri": "https://localhost:8080/",
          "height": 335
        },
        "outputId": "b31a4258-21c7-4544-b7d8-495bd1d54a72"
      },
      "source": [
        "predict('images/num_15.jpg',model=model,con_dest='images/con_num_15.jpg')"
      ],
      "execution_count": null,
      "outputs": [
        {
          "output_type": "display_data",
          "data": {
            "image/png": "[encoded data removed]",
            "text/plain": [
              "<Figure size 432x288 with 1 Axes>"
            ]
          },
          "metadata": {
            "tags": [],
            "needs_background": "light"
          }
        },
        {
          "output_type": "stream",
          "text": [
            "Predictions for each class [[1.9856884e-06 1.2487728e-06 3.9514951e-08 5.7791563e-05 1.8741062e-08\n",
            "  9.9983048e-01 3.4651450e-05 5.6732684e-08 6.5370114e-05 8.3998102e-06]]\n",
            "Predicted value is 5\n"
          ],
          "name": "stdout"
        }
      ]
    },
    {
      "cell_type": "code",
      "metadata": {
        "id": "634gmJLtI3ZG"
      },
      "source": [],
      "execution_count": null,
      "outputs": []
    }
  ]
}