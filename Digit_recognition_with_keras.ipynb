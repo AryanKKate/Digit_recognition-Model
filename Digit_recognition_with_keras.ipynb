{
  "nbformat": 4,
  "nbformat_minor": 0,
  "metadata": {
    "accelerator": "GPU",
    "colab": {
      "provenance": []
    },
    "kernelspec": {
      "display_name": "Python 3",
      "language": "python",
      "name": "python3"
    },
    "language_info": {
      "codemirror_mode": {
        "name": "ipython",
        "version": 3
      },
      "file_extension": ".py",
      "mimetype": "text/x-python",
      "name": "python",
      "nbconvert_exporter": "python",
      "pygments_lexer": "ipython3",
      "version": "3.7.3"
    }
  },
  "cells": [
    {
      "cell_type": "markdown",
      "source": [
        "##Importing Required Libraries"
      ],
      "metadata": {
        "id": "VIxvaNDhSVZ8"
      }
    },
    {
      "cell_type": "code",
      "metadata": {
        "id": "67X8rxw7gJH0"
      },
      "source": [
        "import numpy as np\n",
        "import cv2\n",
        "import matplotlib.pyplot as plt\n",
        "from tensorflow.keras.preprocessing import image\n",
        "from tensorflow import keras\n",
        "from tensorflow.keras.datasets import mnist\n",
        "from tensorflow.keras.layers import Dense,Dropout\n",
        "from tensorflow.keras.models import Sequential\n"
      ],
      "execution_count": 20,
      "outputs": []
    },
    {
      "cell_type": "markdown",
      "source": [
        "##Loading the MNIST dataset"
      ],
      "metadata": {
        "id": "wWIMzmbiR9VP"
      }
    },
    {
      "cell_type": "code",
      "metadata": {
        "id": "KJwXf0jmI3Wx"
      },
      "source": [
        "(train_x, train_y) , (test_x, test_y) = mnist.load_data()\n",
        "\n"
      ],
      "execution_count": 21,
      "outputs": []
    },
    {
      "cell_type": "markdown",
      "source": [
        "##Preprocessing and Feature Scaling wrt 255 pixels"
      ],
      "metadata": {
        "id": "J2Dcdg2qSgD9"
      }
    },
    {
      "cell_type": "code",
      "metadata": {
        "id": "EcDX1fb4I3XB",
        "colab": {
          "base_uri": "https://localhost:8080/"
        },
        "outputId": "7e0582a2-07f2-4f3d-d187-cd6074bfb01a"
      },
      "source": [
        "train_x = train_x.astype('float32') / 255\n",
        "test_x = test_x.astype('float32') / 255\n",
        "\n",
        "\n",
        "print(train_x.shape)\n",
        "print(train_y.shape)\n",
        "print(test_x.shape)\n",
        "print(test_y.shape)\n"
      ],
      "execution_count": 23,
      "outputs": [
        {
          "output_type": "stream",
          "name": "stdout",
          "text": [
            "(60000, 28, 28)\n",
            "(60000,)\n",
            "(10000, 28, 28)\n",
            "(10000,)\n"
          ]
        }
      ]
    },
    {
      "cell_type": "markdown",
      "source": [
        "##Preparing the Dataset"
      ],
      "metadata": {
        "id": "0wRH--yzSblM"
      }
    },
    {
      "cell_type": "code",
      "metadata": {
        "id": "zG2gp6WCI3XM"
      },
      "source": [
        "\n",
        "train_x = train_x.reshape(60000,784)\n",
        "test_x = test_x.reshape(10000,784)\n",
        "\n",
        "train_y = keras.utils.to_categorical(train_y,10)\n",
        "test_y = keras.utils.to_categorical(test_y,10)\n",
        "\n"
      ],
      "execution_count": 24,
      "outputs": []
    },
    {
      "cell_type": "markdown",
      "source": [
        "##Sequential 5 layers NN model"
      ],
      "metadata": {
        "id": "gVSzqQ9SSoNc"
      }
    },
    {
      "cell_type": "code",
      "metadata": {
        "id": "CHWN98LVI3Xc"
      },
      "source": [
        "model = Sequential()\n",
        "model.add(Dense(units=256,activation=\"relu\",input_shape=(784,)))\n",
        "model.add(Dropout(0.4))\n",
        "\n",
        "model.add(Dense(units=128,activation=\"relu\"))\n",
        "model.add(Dropout(0.3))\n",
        "\n",
        "model.add(Dense(units=128,activation=\"relu\"))\n",
        "model.add(Dropout(0.4))\n",
        "\n",
        "model.add(Dense(units=64,activation=\"relu\"))\n",
        "model.add(Dropout(0.4))\n",
        "\n",
        "model.add(Dense(units=10,activation=\"softmax\"))"
      ],
      "execution_count": 25,
      "outputs": []
    },
    {
      "cell_type": "code",
      "metadata": {
        "id": "n5UqtplCI3Xn"
      },
      "source": [
        "model.compile(optimizer='Adam',loss=\"categorical_crossentropy\",metrics=[\"accuracy\"])\n",
        "\n"
      ],
      "execution_count": 26,
      "outputs": []
    },
    {
      "cell_type": "code",
      "metadata": {
        "id": "8NgXSbnwI3X0",
        "colab": {
          "base_uri": "https://localhost:8080/"
        },
        "outputId": "495a3458-d42d-4d2e-dcb0-d1e1de9f21d1"
      },
      "source": [
        "H=model.fit(train_x,train_y,batch_size=2048,epochs=100)"
      ],
      "execution_count": 27,
      "outputs": [
        {
          "output_type": "stream",
          "name": "stdout",
          "text": [
            "Epoch 1/100\n",
            "30/30 [==============================] - 2s 7ms/step - loss: 2.2753 - accuracy: 0.1785\n",
            "Epoch 2/100\n",
            "30/30 [==============================] - 0s 7ms/step - loss: 1.8823 - accuracy: 0.3474\n",
            "Epoch 3/100\n",
            "30/30 [==============================] - 0s 7ms/step - loss: 1.2603 - accuracy: 0.5428\n",
            "Epoch 4/100\n",
            "30/30 [==============================] - 0s 7ms/step - loss: 0.9461 - accuracy: 0.6609\n",
            "Epoch 5/100\n",
            "30/30 [==============================] - 0s 8ms/step - loss: 0.7850 - accuracy: 0.7336\n",
            "Epoch 6/100\n",
            "30/30 [==============================] - 0s 7ms/step - loss: 0.6695 - accuracy: 0.7900\n",
            "Epoch 7/100\n",
            "30/30 [==============================] - 0s 7ms/step - loss: 0.5856 - accuracy: 0.8254\n",
            "Epoch 8/100\n",
            "30/30 [==============================] - 0s 7ms/step - loss: 0.5233 - accuracy: 0.8495\n",
            "Epoch 9/100\n",
            "30/30 [==============================] - 0s 7ms/step - loss: 0.4779 - accuracy: 0.8665\n",
            "Epoch 10/100\n",
            "30/30 [==============================] - 0s 7ms/step - loss: 0.4380 - accuracy: 0.8776\n",
            "Epoch 11/100\n",
            "30/30 [==============================] - 0s 7ms/step - loss: 0.4093 - accuracy: 0.8895\n",
            "Epoch 12/100\n",
            "30/30 [==============================] - 0s 7ms/step - loss: 0.3784 - accuracy: 0.8984\n",
            "Epoch 13/100\n",
            "30/30 [==============================] - 0s 7ms/step - loss: 0.3598 - accuracy: 0.9040\n",
            "Epoch 14/100\n",
            "30/30 [==============================] - 0s 7ms/step - loss: 0.3371 - accuracy: 0.9102\n",
            "Epoch 15/100\n",
            "30/30 [==============================] - 0s 8ms/step - loss: 0.3198 - accuracy: 0.9150\n",
            "Epoch 16/100\n",
            "30/30 [==============================] - 0s 7ms/step - loss: 0.3054 - accuracy: 0.9189\n",
            "Epoch 17/100\n",
            "30/30 [==============================] - 0s 7ms/step - loss: 0.2872 - accuracy: 0.9248\n",
            "Epoch 18/100\n",
            "30/30 [==============================] - 0s 7ms/step - loss: 0.2783 - accuracy: 0.9265\n",
            "Epoch 19/100\n",
            "30/30 [==============================] - 0s 8ms/step - loss: 0.2632 - accuracy: 0.9306\n",
            "Epoch 20/100\n",
            "30/30 [==============================] - 0s 7ms/step - loss: 0.2569 - accuracy: 0.9325\n",
            "Epoch 21/100\n",
            "30/30 [==============================] - 0s 7ms/step - loss: 0.2467 - accuracy: 0.9342\n",
            "Epoch 22/100\n",
            "30/30 [==============================] - 0s 7ms/step - loss: 0.2356 - accuracy: 0.9388\n",
            "Epoch 23/100\n",
            "30/30 [==============================] - 0s 8ms/step - loss: 0.2312 - accuracy: 0.9397\n",
            "Epoch 24/100\n",
            "30/30 [==============================] - 0s 9ms/step - loss: 0.2229 - accuracy: 0.9427\n",
            "Epoch 25/100\n",
            "30/30 [==============================] - 0s 10ms/step - loss: 0.2127 - accuracy: 0.9446\n",
            "Epoch 26/100\n",
            "30/30 [==============================] - 0s 9ms/step - loss: 0.2093 - accuracy: 0.9455\n",
            "Epoch 27/100\n",
            "30/30 [==============================] - 0s 10ms/step - loss: 0.2048 - accuracy: 0.9469\n",
            "Epoch 28/100\n",
            "30/30 [==============================] - 0s 9ms/step - loss: 0.1975 - accuracy: 0.9496\n",
            "Epoch 29/100\n",
            "30/30 [==============================] - 0s 10ms/step - loss: 0.1893 - accuracy: 0.9509\n",
            "Epoch 30/100\n",
            "30/30 [==============================] - 0s 11ms/step - loss: 0.1849 - accuracy: 0.9525\n",
            "Epoch 31/100\n",
            "30/30 [==============================] - 0s 8ms/step - loss: 0.1817 - accuracy: 0.9524\n",
            "Epoch 32/100\n",
            "30/30 [==============================] - 0s 7ms/step - loss: 0.1813 - accuracy: 0.9528\n",
            "Epoch 33/100\n",
            "30/30 [==============================] - 0s 7ms/step - loss: 0.1742 - accuracy: 0.9552\n",
            "Epoch 34/100\n",
            "30/30 [==============================] - 0s 7ms/step - loss: 0.1703 - accuracy: 0.9558\n",
            "Epoch 35/100\n",
            "30/30 [==============================] - 0s 8ms/step - loss: 0.1683 - accuracy: 0.9557\n",
            "Epoch 36/100\n",
            "30/30 [==============================] - 0s 7ms/step - loss: 0.1666 - accuracy: 0.9577\n",
            "Epoch 37/100\n",
            "30/30 [==============================] - 0s 7ms/step - loss: 0.1579 - accuracy: 0.9593\n",
            "Epoch 38/100\n",
            "30/30 [==============================] - 0s 6ms/step - loss: 0.1588 - accuracy: 0.9586\n",
            "Epoch 39/100\n",
            "30/30 [==============================] - 0s 7ms/step - loss: 0.1555 - accuracy: 0.9599\n",
            "Epoch 40/100\n",
            "30/30 [==============================] - 0s 7ms/step - loss: 0.1522 - accuracy: 0.9607\n",
            "Epoch 41/100\n",
            "30/30 [==============================] - 0s 6ms/step - loss: 0.1480 - accuracy: 0.9620\n",
            "Epoch 42/100\n",
            "30/30 [==============================] - 0s 7ms/step - loss: 0.1446 - accuracy: 0.9629\n",
            "Epoch 43/100\n",
            "30/30 [==============================] - 0s 7ms/step - loss: 0.1476 - accuracy: 0.9628\n",
            "Epoch 44/100\n",
            "30/30 [==============================] - 0s 7ms/step - loss: 0.1379 - accuracy: 0.9649\n",
            "Epoch 45/100\n",
            "30/30 [==============================] - 0s 7ms/step - loss: 0.1399 - accuracy: 0.9640\n",
            "Epoch 46/100\n",
            "30/30 [==============================] - 0s 7ms/step - loss: 0.1361 - accuracy: 0.9647\n",
            "Epoch 47/100\n",
            "30/30 [==============================] - 0s 7ms/step - loss: 0.1340 - accuracy: 0.9653\n",
            "Epoch 48/100\n",
            "30/30 [==============================] - 0s 7ms/step - loss: 0.1331 - accuracy: 0.9657\n",
            "Epoch 49/100\n",
            "30/30 [==============================] - 0s 8ms/step - loss: 0.1304 - accuracy: 0.9657\n",
            "Epoch 50/100\n",
            "30/30 [==============================] - 0s 6ms/step - loss: 0.1322 - accuracy: 0.9658\n",
            "Epoch 51/100\n",
            "30/30 [==============================] - 0s 6ms/step - loss: 0.1265 - accuracy: 0.9667\n",
            "Epoch 52/100\n",
            "30/30 [==============================] - 0s 7ms/step - loss: 0.1248 - accuracy: 0.9682\n",
            "Epoch 53/100\n",
            "30/30 [==============================] - 0s 7ms/step - loss: 0.1234 - accuracy: 0.9679\n",
            "Epoch 54/100\n",
            "30/30 [==============================] - 0s 7ms/step - loss: 0.1212 - accuracy: 0.9683\n",
            "Epoch 55/100\n",
            "30/30 [==============================] - 0s 7ms/step - loss: 0.1201 - accuracy: 0.9694\n",
            "Epoch 56/100\n",
            "30/30 [==============================] - 0s 7ms/step - loss: 0.1182 - accuracy: 0.9695\n",
            "Epoch 57/100\n",
            "30/30 [==============================] - 0s 7ms/step - loss: 0.1147 - accuracy: 0.9696\n",
            "Epoch 58/100\n",
            "30/30 [==============================] - 0s 8ms/step - loss: 0.1131 - accuracy: 0.9702\n",
            "Epoch 59/100\n",
            "30/30 [==============================] - 0s 7ms/step - loss: 0.1156 - accuracy: 0.9704\n",
            "Epoch 60/100\n",
            "30/30 [==============================] - 0s 7ms/step - loss: 0.1094 - accuracy: 0.9718\n",
            "Epoch 61/100\n",
            "30/30 [==============================] - 0s 7ms/step - loss: 0.1059 - accuracy: 0.9719\n",
            "Epoch 62/100\n",
            "30/30 [==============================] - 0s 7ms/step - loss: 0.1111 - accuracy: 0.9713\n",
            "Epoch 63/100\n",
            "30/30 [==============================] - 0s 8ms/step - loss: 0.1085 - accuracy: 0.9711\n",
            "Epoch 64/100\n",
            "30/30 [==============================] - 0s 7ms/step - loss: 0.1053 - accuracy: 0.9724\n",
            "Epoch 65/100\n",
            "30/30 [==============================] - 0s 7ms/step - loss: 0.1040 - accuracy: 0.9732\n",
            "Epoch 66/100\n",
            "30/30 [==============================] - 0s 7ms/step - loss: 0.1038 - accuracy: 0.9727\n",
            "Epoch 67/100\n",
            "30/30 [==============================] - 0s 7ms/step - loss: 0.1008 - accuracy: 0.9729\n",
            "Epoch 68/100\n",
            "30/30 [==============================] - 0s 8ms/step - loss: 0.1012 - accuracy: 0.9735\n",
            "Epoch 69/100\n",
            "30/30 [==============================] - 0s 7ms/step - loss: 0.0986 - accuracy: 0.9742\n",
            "Epoch 70/100\n",
            "30/30 [==============================] - 0s 7ms/step - loss: 0.0986 - accuracy: 0.9743\n",
            "Epoch 71/100\n",
            "30/30 [==============================] - 0s 7ms/step - loss: 0.0952 - accuracy: 0.9753\n",
            "Epoch 72/100\n",
            "30/30 [==============================] - 0s 7ms/step - loss: 0.0930 - accuracy: 0.9760\n",
            "Epoch 73/100\n",
            "30/30 [==============================] - 0s 7ms/step - loss: 0.0978 - accuracy: 0.9735\n",
            "Epoch 74/100\n",
            "30/30 [==============================] - 0s 6ms/step - loss: 0.0957 - accuracy: 0.9743\n",
            "Epoch 75/100\n",
            "30/30 [==============================] - 0s 6ms/step - loss: 0.0929 - accuracy: 0.9753\n",
            "Epoch 76/100\n",
            "30/30 [==============================] - 0s 6ms/step - loss: 0.0941 - accuracy: 0.9758\n",
            "Epoch 77/100\n",
            "30/30 [==============================] - 0s 7ms/step - loss: 0.0886 - accuracy: 0.9767\n",
            "Epoch 78/100\n",
            "30/30 [==============================] - 0s 7ms/step - loss: 0.0920 - accuracy: 0.9750\n",
            "Epoch 79/100\n",
            "30/30 [==============================] - 0s 9ms/step - loss: 0.0923 - accuracy: 0.9758\n",
            "Epoch 80/100\n",
            "30/30 [==============================] - 0s 9ms/step - loss: 0.0885 - accuracy: 0.9764\n",
            "Epoch 81/100\n",
            "30/30 [==============================] - 0s 11ms/step - loss: 0.0923 - accuracy: 0.9752\n",
            "Epoch 82/100\n",
            "30/30 [==============================] - 0s 9ms/step - loss: 0.0885 - accuracy: 0.9759\n",
            "Epoch 83/100\n",
            "30/30 [==============================] - 0s 9ms/step - loss: 0.0859 - accuracy: 0.9773\n",
            "Epoch 84/100\n",
            "30/30 [==============================] - 0s 10ms/step - loss: 0.0862 - accuracy: 0.9772\n",
            "Epoch 85/100\n",
            "30/30 [==============================] - 0s 11ms/step - loss: 0.0880 - accuracy: 0.9761\n",
            "Epoch 86/100\n",
            "30/30 [==============================] - 0s 8ms/step - loss: 0.0846 - accuracy: 0.9776\n",
            "Epoch 87/100\n",
            "30/30 [==============================] - 0s 6ms/step - loss: 0.0842 - accuracy: 0.9777\n",
            "Epoch 88/100\n",
            "30/30 [==============================] - 0s 7ms/step - loss: 0.0847 - accuracy: 0.9769\n",
            "Epoch 89/100\n",
            "30/30 [==============================] - 0s 7ms/step - loss: 0.0853 - accuracy: 0.9771\n",
            "Epoch 90/100\n",
            "30/30 [==============================] - 0s 7ms/step - loss: 0.0840 - accuracy: 0.9779\n",
            "Epoch 91/100\n",
            "30/30 [==============================] - 0s 7ms/step - loss: 0.0806 - accuracy: 0.9784\n",
            "Epoch 92/100\n",
            "30/30 [==============================] - 0s 7ms/step - loss: 0.0809 - accuracy: 0.9781\n",
            "Epoch 93/100\n",
            "30/30 [==============================] - 0s 8ms/step - loss: 0.0827 - accuracy: 0.9783\n",
            "Epoch 94/100\n",
            "30/30 [==============================] - 0s 7ms/step - loss: 0.0833 - accuracy: 0.9779\n",
            "Epoch 95/100\n",
            "30/30 [==============================] - 0s 7ms/step - loss: 0.0786 - accuracy: 0.9792\n",
            "Epoch 96/100\n",
            "30/30 [==============================] - 0s 6ms/step - loss: 0.0765 - accuracy: 0.9798\n",
            "Epoch 97/100\n",
            "30/30 [==============================] - 0s 7ms/step - loss: 0.0735 - accuracy: 0.9804\n",
            "Epoch 98/100\n",
            "30/30 [==============================] - 0s 8ms/step - loss: 0.0736 - accuracy: 0.9804\n",
            "Epoch 99/100\n",
            "30/30 [==============================] - 0s 7ms/step - loss: 0.0734 - accuracy: 0.9803\n",
            "Epoch 100/100\n",
            "30/30 [==============================] - 0s 7ms/step - loss: 0.0725 - accuracy: 0.9812\n"
          ]
        }
      ]
    },
    {
      "cell_type": "markdown",
      "source": [
        "##Accuracy evaluation"
      ],
      "metadata": {
        "id": "5sSMyLSLStiU"
      }
    },
    {
      "cell_type": "code",
      "metadata": {
        "id": "fdccBMsuI3YL",
        "colab": {
          "base_uri": "https://localhost:8080/"
        },
        "outputId": "0ec54e43-95fd-4d90-c8a8-6ec1ad714d94"
      },
      "source": [
        "accuracy = model.evaluate(x=test_x,y=test_y,batch_size=1024)\n",
        "\n",
        "print(\"Accuracy: \",accuracy[1])"
      ],
      "execution_count": 28,
      "outputs": [
        {
          "output_type": "stream",
          "name": "stdout",
          "text": [
            "10/10 [==============================] - 0s 6ms/step - loss: 0.0985 - accuracy: 0.9766\n",
            "Accuracy:  0.9765999913215637\n"
          ]
        }
      ]
    },
    {
      "cell_type": "code",
      "metadata": {
        "id": "q_YJw7KxLaUM",
        "colab": {
          "base_uri": "https://localhost:8080/"
        },
        "outputId": "a3af45bc-13b1-4fab-af3f-40cd7eabdee3"
      },
      "source": [
        "H.history.keys() # To check which information does it contain"
      ],
      "execution_count": 29,
      "outputs": [
        {
          "output_type": "execute_result",
          "data": {
            "text/plain": [
              "dict_keys(['loss', 'accuracy'])"
            ]
          },
          "metadata": {},
          "execution_count": 29
        }
      ]
    },
    {
      "cell_type": "code",
      "metadata": {
        "id": "678alk6DsXJ9",
        "colab": {
          "base_uri": "https://localhost:8080/"
        },
        "outputId": "be909c55-4353-4bc9-a772-bb0501e813be"
      },
      "source": [
        "H.history['accuracy']"
      ],
      "execution_count": 30,
      "outputs": [
        {
          "output_type": "execute_result",
          "data": {
            "text/plain": [
              "[0.17845000326633453,\n",
              " 0.34736666083335876,\n",
              " 0.5427500009536743,\n",
              " 0.6609333157539368,\n",
              " 0.7336000204086304,\n",
              " 0.7900166511535645,\n",
              " 0.8254333138465881,\n",
              " 0.8495166897773743,\n",
              " 0.8664666414260864,\n",
              " 0.8776000142097473,\n",
              " 0.8894500136375427,\n",
              " 0.8983833193778992,\n",
              " 0.9040166735649109,\n",
              " 0.9102333188056946,\n",
              " 0.9150333404541016,\n",
              " 0.918916642665863,\n",
              " 0.9247999787330627,\n",
              " 0.9265499711036682,\n",
              " 0.9306333065032959,\n",
              " 0.9324666857719421,\n",
              " 0.9341833591461182,\n",
              " 0.9388166666030884,\n",
              " 0.9397000074386597,\n",
              " 0.9427333474159241,\n",
              " 0.944599986076355,\n",
              " 0.9454833269119263,\n",
              " 0.9469333291053772,\n",
              " 0.9495833516120911,\n",
              " 0.9508500099182129,\n",
              " 0.9524999856948853,\n",
              " 0.9524333477020264,\n",
              " 0.9527833461761475,\n",
              " 0.9551500082015991,\n",
              " 0.9557999968528748,\n",
              " 0.9557333588600159,\n",
              " 0.9577166438102722,\n",
              " 0.9593499898910522,\n",
              " 0.9585999846458435,\n",
              " 0.9599166512489319,\n",
              " 0.9606500267982483,\n",
              " 0.961983323097229,\n",
              " 0.9629166722297668,\n",
              " 0.9627500176429749,\n",
              " 0.9648500084877014,\n",
              " 0.9639999866485596,\n",
              " 0.9646666646003723,\n",
              " 0.965316653251648,\n",
              " 0.9656833410263062,\n",
              " 0.9656999707221985,\n",
              " 0.9657999873161316,\n",
              " 0.9666666388511658,\n",
              " 0.9681833386421204,\n",
              " 0.9679333567619324,\n",
              " 0.9682666659355164,\n",
              " 0.9693999886512756,\n",
              " 0.9694833159446716,\n",
              " 0.9696499705314636,\n",
              " 0.9702333211898804,\n",
              " 0.9704499840736389,\n",
              " 0.9717833399772644,\n",
              " 0.9718833565711975,\n",
              " 0.9713000059127808,\n",
              " 0.9710666537284851,\n",
              " 0.9723833203315735,\n",
              " 0.9732000231742859,\n",
              " 0.9726666808128357,\n",
              " 0.9728666543960571,\n",
              " 0.9735166430473328,\n",
              " 0.9741833209991455,\n",
              " 0.9742666482925415,\n",
              " 0.975266695022583,\n",
              " 0.9759500026702881,\n",
              " 0.973466694355011,\n",
              " 0.9743333458900452,\n",
              " 0.9753333330154419,\n",
              " 0.9757833480834961,\n",
              " 0.9767166376113892,\n",
              " 0.9750000238418579,\n",
              " 0.975849986076355,\n",
              " 0.9764166474342346,\n",
              " 0.9751833081245422,\n",
              " 0.9758666753768921,\n",
              " 0.977316677570343,\n",
              " 0.9771833419799805,\n",
              " 0.9760500192642212,\n",
              " 0.977649986743927,\n",
              " 0.9776833057403564,\n",
              " 0.9768666625022888,\n",
              " 0.9771333336830139,\n",
              " 0.9779000282287598,\n",
              " 0.9783666729927063,\n",
              " 0.9781000018119812,\n",
              " 0.9782500267028809,\n",
              " 0.9779000282287598,\n",
              " 0.9792333245277405,\n",
              " 0.9798333048820496,\n",
              " 0.9804499745368958,\n",
              " 0.9803666472434998,\n",
              " 0.9802500009536743,\n",
              " 0.9811999797821045]"
            ]
          },
          "metadata": {},
          "execution_count": 30
        }
      ]
    },
    {
      "cell_type": "code",
      "metadata": {
        "id": "dOoPm_A3LrDU",
        "colab": {
          "base_uri": "https://localhost:8080/",
          "height": 542
        },
        "outputId": "2f105093-c796-49bc-c249-a92f9ecaf443"
      },
      "source": [
        "import plotly.express as px\n",
        "\n",
        "px.line(y=H.history['accuracy'],title='Accuracy')"
      ],
      "execution_count": 31,
      "outputs": [
        {
          "output_type": "display_data",
          "data": {
            "text/html": [
              "<html>\n",
              "<head><meta charset=\"utf-8\" /></head>\n",
              "<body>\n",
              "    <div>            <script src=\"https://cdnjs.cloudflare.com/ajax/libs/mathjax/2.7.5/MathJax.js?config=TeX-AMS-MML_SVG\"></script><script type=\"text/javascript\">if (window.MathJax && window.MathJax.Hub && window.MathJax.Hub.Config) {window.MathJax.Hub.Config({SVG: {font: \"STIX-Web\"}});}</script>                <script type=\"text/javascript\">window.PlotlyConfig = {MathJaxConfig: 'local'};</script>\n",
              "        <script charset=\"utf-8\" src=\"https://cdn.plot.ly/plotly-2.24.1.min.js\"></script>                <div id=\"41cfbff8-dfec-41f2-a9c7-d9d6d55aaeda\" class=\"plotly-graph-div\" style=\"height:525px; width:100%;\"></div>            <script type=\"text/javascript\">                                    window.PLOTLYENV=window.PLOTLYENV || {};                                    if (document.getElementById(\"41cfbff8-dfec-41f2-a9c7-d9d6d55aaeda\")) {                    Plotly.newPlot(                        \"41cfbff8-dfec-41f2-a9c7-d9d6d55aaeda\",                        [{\"hovertemplate\":\"x=%{x}\\u003cbr\\u003ey=%{y}\\u003cextra\\u003e\\u003c\\u002fextra\\u003e\",\"legendgroup\":\"\",\"line\":{\"color\":\"#636efa\",\"dash\":\"solid\"},\"marker\":{\"symbol\":\"circle\"},\"mode\":\"lines\",\"name\":\"\",\"orientation\":\"v\",\"showlegend\":false,\"x\":[0,1,2,3,4,5,6,7,8,9,10,11,12,13,14,15,16,17,18,19,20,21,22,23,24,25,26,27,28,29,30,31,32,33,34,35,36,37,38,39,40,41,42,43,44,45,46,47,48,49,50,51,52,53,54,55,56,57,58,59,60,61,62,63,64,65,66,67,68,69,70,71,72,73,74,75,76,77,78,79,80,81,82,83,84,85,86,87,88,89,90,91,92,93,94,95,96,97,98,99],\"xaxis\":\"x\",\"y\":[0.17845000326633453,0.34736666083335876,0.5427500009536743,0.6609333157539368,0.7336000204086304,0.7900166511535645,0.8254333138465881,0.8495166897773743,0.8664666414260864,0.8776000142097473,0.8894500136375427,0.8983833193778992,0.9040166735649109,0.9102333188056946,0.9150333404541016,0.918916642665863,0.9247999787330627,0.9265499711036682,0.9306333065032959,0.9324666857719421,0.9341833591461182,0.9388166666030884,0.9397000074386597,0.9427333474159241,0.944599986076355,0.9454833269119263,0.9469333291053772,0.9495833516120911,0.9508500099182129,0.9524999856948853,0.9524333477020264,0.9527833461761475,0.9551500082015991,0.9557999968528748,0.9557333588600159,0.9577166438102722,0.9593499898910522,0.9585999846458435,0.9599166512489319,0.9606500267982483,0.961983323097229,0.9629166722297668,0.9627500176429749,0.9648500084877014,0.9639999866485596,0.9646666646003723,0.965316653251648,0.9656833410263062,0.9656999707221985,0.9657999873161316,0.9666666388511658,0.9681833386421204,0.9679333567619324,0.9682666659355164,0.9693999886512756,0.9694833159446716,0.9696499705314636,0.9702333211898804,0.9704499840736389,0.9717833399772644,0.9718833565711975,0.9713000059127808,0.9710666537284851,0.9723833203315735,0.9732000231742859,0.9726666808128357,0.9728666543960571,0.9735166430473328,0.9741833209991455,0.9742666482925415,0.975266695022583,0.9759500026702881,0.973466694355011,0.9743333458900452,0.9753333330154419,0.9757833480834961,0.9767166376113892,0.9750000238418579,0.975849986076355,0.9764166474342346,0.9751833081245422,0.9758666753768921,0.977316677570343,0.9771833419799805,0.9760500192642212,0.977649986743927,0.9776833057403564,0.9768666625022888,0.9771333336830139,0.9779000282287598,0.9783666729927063,0.9781000018119812,0.9782500267028809,0.9779000282287598,0.9792333245277405,0.9798333048820496,0.9804499745368958,0.9803666472434998,0.9802500009536743,0.9811999797821045],\"yaxis\":\"y\",\"type\":\"scatter\"}],                        {\"template\":{\"data\":{\"histogram2dcontour\":[{\"type\":\"histogram2dcontour\",\"colorbar\":{\"outlinewidth\":0,\"ticks\":\"\"},\"colorscale\":[[0.0,\"#0d0887\"],[0.1111111111111111,\"#46039f\"],[0.2222222222222222,\"#7201a8\"],[0.3333333333333333,\"#9c179e\"],[0.4444444444444444,\"#bd3786\"],[0.5555555555555556,\"#d8576b\"],[0.6666666666666666,\"#ed7953\"],[0.7777777777777778,\"#fb9f3a\"],[0.8888888888888888,\"#fdca26\"],[1.0,\"#f0f921\"]]}],\"choropleth\":[{\"type\":\"choropleth\",\"colorbar\":{\"outlinewidth\":0,\"ticks\":\"\"}}],\"histogram2d\":[{\"type\":\"histogram2d\",\"colorbar\":{\"outlinewidth\":0,\"ticks\":\"\"},\"colorscale\":[[0.0,\"#0d0887\"],[0.1111111111111111,\"#46039f\"],[0.2222222222222222,\"#7201a8\"],[0.3333333333333333,\"#9c179e\"],[0.4444444444444444,\"#bd3786\"],[0.5555555555555556,\"#d8576b\"],[0.6666666666666666,\"#ed7953\"],[0.7777777777777778,\"#fb9f3a\"],[0.8888888888888888,\"#fdca26\"],[1.0,\"#f0f921\"]]}],\"heatmap\":[{\"type\":\"heatmap\",\"colorbar\":{\"outlinewidth\":0,\"ticks\":\"\"},\"colorscale\":[[0.0,\"#0d0887\"],[0.1111111111111111,\"#46039f\"],[0.2222222222222222,\"#7201a8\"],[0.3333333333333333,\"#9c179e\"],[0.4444444444444444,\"#bd3786\"],[0.5555555555555556,\"#d8576b\"],[0.6666666666666666,\"#ed7953\"],[0.7777777777777778,\"#fb9f3a\"],[0.8888888888888888,\"#fdca26\"],[1.0,\"#f0f921\"]]}],\"heatmapgl\":[{\"type\":\"heatmapgl\",\"colorbar\":{\"outlinewidth\":0,\"ticks\":\"\"},\"colorscale\":[[0.0,\"#0d0887\"],[0.1111111111111111,\"#46039f\"],[0.2222222222222222,\"#7201a8\"],[0.3333333333333333,\"#9c179e\"],[0.4444444444444444,\"#bd3786\"],[0.5555555555555556,\"#d8576b\"],[0.6666666666666666,\"#ed7953\"],[0.7777777777777778,\"#fb9f3a\"],[0.8888888888888888,\"#fdca26\"],[1.0,\"#f0f921\"]]}],\"contourcarpet\":[{\"type\":\"contourcarpet\",\"colorbar\":{\"outlinewidth\":0,\"ticks\":\"\"}}],\"contour\":[{\"type\":\"contour\",\"colorbar\":{\"outlinewidth\":0,\"ticks\":\"\"},\"colorscale\":[[0.0,\"#0d0887\"],[0.1111111111111111,\"#46039f\"],[0.2222222222222222,\"#7201a8\"],[0.3333333333333333,\"#9c179e\"],[0.4444444444444444,\"#bd3786\"],[0.5555555555555556,\"#d8576b\"],[0.6666666666666666,\"#ed7953\"],[0.7777777777777778,\"#fb9f3a\"],[0.8888888888888888,\"#fdca26\"],[1.0,\"#f0f921\"]]}],\"surface\":[{\"type\":\"surface\",\"colorbar\":{\"outlinewidth\":0,\"ticks\":\"\"},\"colorscale\":[[0.0,\"#0d0887\"],[0.1111111111111111,\"#46039f\"],[0.2222222222222222,\"#7201a8\"],[0.3333333333333333,\"#9c179e\"],[0.4444444444444444,\"#bd3786\"],[0.5555555555555556,\"#d8576b\"],[0.6666666666666666,\"#ed7953\"],[0.7777777777777778,\"#fb9f3a\"],[0.8888888888888888,\"#fdca26\"],[1.0,\"#f0f921\"]]}],\"mesh3d\":[{\"type\":\"mesh3d\",\"colorbar\":{\"outlinewidth\":0,\"ticks\":\"\"}}],\"scatter\":[{\"fillpattern\":{\"fillmode\":\"overlay\",\"size\":10,\"solidity\":0.2},\"type\":\"scatter\"}],\"parcoords\":[{\"type\":\"parcoords\",\"line\":{\"colorbar\":{\"outlinewidth\":0,\"ticks\":\"\"}}}],\"scatterpolargl\":[{\"type\":\"scatterpolargl\",\"marker\":{\"colorbar\":{\"outlinewidth\":0,\"ticks\":\"\"}}}],\"bar\":[{\"error_x\":{\"color\":\"#2a3f5f\"},\"error_y\":{\"color\":\"#2a3f5f\"},\"marker\":{\"line\":{\"color\":\"#E5ECF6\",\"width\":0.5},\"pattern\":{\"fillmode\":\"overlay\",\"size\":10,\"solidity\":0.2}},\"type\":\"bar\"}],\"scattergeo\":[{\"type\":\"scattergeo\",\"marker\":{\"colorbar\":{\"outlinewidth\":0,\"ticks\":\"\"}}}],\"scatterpolar\":[{\"type\":\"scatterpolar\",\"marker\":{\"colorbar\":{\"outlinewidth\":0,\"ticks\":\"\"}}}],\"histogram\":[{\"marker\":{\"pattern\":{\"fillmode\":\"overlay\",\"size\":10,\"solidity\":0.2}},\"type\":\"histogram\"}],\"scattergl\":[{\"type\":\"scattergl\",\"marker\":{\"colorbar\":{\"outlinewidth\":0,\"ticks\":\"\"}}}],\"scatter3d\":[{\"type\":\"scatter3d\",\"line\":{\"colorbar\":{\"outlinewidth\":0,\"ticks\":\"\"}},\"marker\":{\"colorbar\":{\"outlinewidth\":0,\"ticks\":\"\"}}}],\"scattermapbox\":[{\"type\":\"scattermapbox\",\"marker\":{\"colorbar\":{\"outlinewidth\":0,\"ticks\":\"\"}}}],\"scatterternary\":[{\"type\":\"scatterternary\",\"marker\":{\"colorbar\":{\"outlinewidth\":0,\"ticks\":\"\"}}}],\"scattercarpet\":[{\"type\":\"scattercarpet\",\"marker\":{\"colorbar\":{\"outlinewidth\":0,\"ticks\":\"\"}}}],\"carpet\":[{\"aaxis\":{\"endlinecolor\":\"#2a3f5f\",\"gridcolor\":\"white\",\"linecolor\":\"white\",\"minorgridcolor\":\"white\",\"startlinecolor\":\"#2a3f5f\"},\"baxis\":{\"endlinecolor\":\"#2a3f5f\",\"gridcolor\":\"white\",\"linecolor\":\"white\",\"minorgridcolor\":\"white\",\"startlinecolor\":\"#2a3f5f\"},\"type\":\"carpet\"}],\"table\":[{\"cells\":{\"fill\":{\"color\":\"#EBF0F8\"},\"line\":{\"color\":\"white\"}},\"header\":{\"fill\":{\"color\":\"#C8D4E3\"},\"line\":{\"color\":\"white\"}},\"type\":\"table\"}],\"barpolar\":[{\"marker\":{\"line\":{\"color\":\"#E5ECF6\",\"width\":0.5},\"pattern\":{\"fillmode\":\"overlay\",\"size\":10,\"solidity\":0.2}},\"type\":\"barpolar\"}],\"pie\":[{\"automargin\":true,\"type\":\"pie\"}]},\"layout\":{\"autotypenumbers\":\"strict\",\"colorway\":[\"#636efa\",\"#EF553B\",\"#00cc96\",\"#ab63fa\",\"#FFA15A\",\"#19d3f3\",\"#FF6692\",\"#B6E880\",\"#FF97FF\",\"#FECB52\"],\"font\":{\"color\":\"#2a3f5f\"},\"hovermode\":\"closest\",\"hoverlabel\":{\"align\":\"left\"},\"paper_bgcolor\":\"white\",\"plot_bgcolor\":\"#E5ECF6\",\"polar\":{\"bgcolor\":\"#E5ECF6\",\"angularaxis\":{\"gridcolor\":\"white\",\"linecolor\":\"white\",\"ticks\":\"\"},\"radialaxis\":{\"gridcolor\":\"white\",\"linecolor\":\"white\",\"ticks\":\"\"}},\"ternary\":{\"bgcolor\":\"#E5ECF6\",\"aaxis\":{\"gridcolor\":\"white\",\"linecolor\":\"white\",\"ticks\":\"\"},\"baxis\":{\"gridcolor\":\"white\",\"linecolor\":\"white\",\"ticks\":\"\"},\"caxis\":{\"gridcolor\":\"white\",\"linecolor\":\"white\",\"ticks\":\"\"}},\"coloraxis\":{\"colorbar\":{\"outlinewidth\":0,\"ticks\":\"\"}},\"colorscale\":{\"sequential\":[[0.0,\"#0d0887\"],[0.1111111111111111,\"#46039f\"],[0.2222222222222222,\"#7201a8\"],[0.3333333333333333,\"#9c179e\"],[0.4444444444444444,\"#bd3786\"],[0.5555555555555556,\"#d8576b\"],[0.6666666666666666,\"#ed7953\"],[0.7777777777777778,\"#fb9f3a\"],[0.8888888888888888,\"#fdca26\"],[1.0,\"#f0f921\"]],\"sequentialminus\":[[0.0,\"#0d0887\"],[0.1111111111111111,\"#46039f\"],[0.2222222222222222,\"#7201a8\"],[0.3333333333333333,\"#9c179e\"],[0.4444444444444444,\"#bd3786\"],[0.5555555555555556,\"#d8576b\"],[0.6666666666666666,\"#ed7953\"],[0.7777777777777778,\"#fb9f3a\"],[0.8888888888888888,\"#fdca26\"],[1.0,\"#f0f921\"]],\"diverging\":[[0,\"#8e0152\"],[0.1,\"#c51b7d\"],[0.2,\"#de77ae\"],[0.3,\"#f1b6da\"],[0.4,\"#fde0ef\"],[0.5,\"#f7f7f7\"],[0.6,\"#e6f5d0\"],[0.7,\"#b8e186\"],[0.8,\"#7fbc41\"],[0.9,\"#4d9221\"],[1,\"#276419\"]]},\"xaxis\":{\"gridcolor\":\"white\",\"linecolor\":\"white\",\"ticks\":\"\",\"title\":{\"standoff\":15},\"zerolinecolor\":\"white\",\"automargin\":true,\"zerolinewidth\":2},\"yaxis\":{\"gridcolor\":\"white\",\"linecolor\":\"white\",\"ticks\":\"\",\"title\":{\"standoff\":15},\"zerolinecolor\":\"white\",\"automargin\":true,\"zerolinewidth\":2},\"scene\":{\"xaxis\":{\"backgroundcolor\":\"#E5ECF6\",\"gridcolor\":\"white\",\"linecolor\":\"white\",\"showbackground\":true,\"ticks\":\"\",\"zerolinecolor\":\"white\",\"gridwidth\":2},\"yaxis\":{\"backgroundcolor\":\"#E5ECF6\",\"gridcolor\":\"white\",\"linecolor\":\"white\",\"showbackground\":true,\"ticks\":\"\",\"zerolinecolor\":\"white\",\"gridwidth\":2},\"zaxis\":{\"backgroundcolor\":\"#E5ECF6\",\"gridcolor\":\"white\",\"linecolor\":\"white\",\"showbackground\":true,\"ticks\":\"\",\"zerolinecolor\":\"white\",\"gridwidth\":2}},\"shapedefaults\":{\"line\":{\"color\":\"#2a3f5f\"}},\"annotationdefaults\":{\"arrowcolor\":\"#2a3f5f\",\"arrowhead\":0,\"arrowwidth\":1},\"geo\":{\"bgcolor\":\"white\",\"landcolor\":\"#E5ECF6\",\"subunitcolor\":\"white\",\"showland\":true,\"showlakes\":true,\"lakecolor\":\"white\"},\"title\":{\"x\":0.05},\"mapbox\":{\"style\":\"light\"}}},\"xaxis\":{\"anchor\":\"y\",\"domain\":[0.0,1.0],\"title\":{\"text\":\"x\"}},\"yaxis\":{\"anchor\":\"x\",\"domain\":[0.0,1.0],\"title\":{\"text\":\"y\"}},\"legend\":{\"tracegroupgap\":0},\"title\":{\"text\":\"Accuracy\"}},                        {\"responsive\": true}                    ).then(function(){\n",
              "                            \n",
              "var gd = document.getElementById('41cfbff8-dfec-41f2-a9c7-d9d6d55aaeda');\n",
              "var x = new MutationObserver(function (mutations, observer) {{\n",
              "        var display = window.getComputedStyle(gd).display;\n",
              "        if (!display || display === 'none') {{\n",
              "            console.log([gd, 'removed!']);\n",
              "            Plotly.purge(gd);\n",
              "            observer.disconnect();\n",
              "        }}\n",
              "}});\n",
              "\n",
              "// Listen for the removal of the full notebook cells\n",
              "var notebookContainer = gd.closest('#notebook-container');\n",
              "if (notebookContainer) {{\n",
              "    x.observe(notebookContainer, {childList: true});\n",
              "}}\n",
              "\n",
              "// Listen for the clearing of the current output cell\n",
              "var outputEl = gd.closest('.output');\n",
              "if (outputEl) {{\n",
              "    x.observe(outputEl, {childList: true});\n",
              "}}\n",
              "\n",
              "                        })                };                            </script>        </div>\n",
              "</body>\n",
              "</html>"
            ]
          },
          "metadata": {}
        }
      ]
    },
    {
      "cell_type": "code",
      "metadata": {
        "id": "m7i_YRX8m2gc",
        "colab": {
          "base_uri": "https://localhost:8080/",
          "height": 542
        },
        "outputId": "f7c309f5-616f-46ea-add2-722f447f7dc9"
      },
      "source": [
        "px.line(y=H.history['loss'],title='Loss')"
      ],
      "execution_count": 32,
      "outputs": [
        {
          "output_type": "display_data",
          "data": {
            "text/html": [
              "<html>\n",
              "<head><meta charset=\"utf-8\" /></head>\n",
              "<body>\n",
              "    <div>            <script src=\"https://cdnjs.cloudflare.com/ajax/libs/mathjax/2.7.5/MathJax.js?config=TeX-AMS-MML_SVG\"></script><script type=\"text/javascript\">if (window.MathJax && window.MathJax.Hub && window.MathJax.Hub.Config) {window.MathJax.Hub.Config({SVG: {font: \"STIX-Web\"}});}</script>                <script type=\"text/javascript\">window.PlotlyConfig = {MathJaxConfig: 'local'};</script>\n",
              "        <script charset=\"utf-8\" src=\"https://cdn.plot.ly/plotly-2.24.1.min.js\"></script>                <div id=\"b016aab2-58ea-46e0-a5a2-45b686718ca0\" class=\"plotly-graph-div\" style=\"height:525px; width:100%;\"></div>            <script type=\"text/javascript\">                                    window.PLOTLYENV=window.PLOTLYENV || {};                                    if (document.getElementById(\"b016aab2-58ea-46e0-a5a2-45b686718ca0\")) {                    Plotly.newPlot(                        \"b016aab2-58ea-46e0-a5a2-45b686718ca0\",                        [{\"hovertemplate\":\"x=%{x}\\u003cbr\\u003ey=%{y}\\u003cextra\\u003e\\u003c\\u002fextra\\u003e\",\"legendgroup\":\"\",\"line\":{\"color\":\"#636efa\",\"dash\":\"solid\"},\"marker\":{\"symbol\":\"circle\"},\"mode\":\"lines\",\"name\":\"\",\"orientation\":\"v\",\"showlegend\":false,\"x\":[0,1,2,3,4,5,6,7,8,9,10,11,12,13,14,15,16,17,18,19,20,21,22,23,24,25,26,27,28,29,30,31,32,33,34,35,36,37,38,39,40,41,42,43,44,45,46,47,48,49,50,51,52,53,54,55,56,57,58,59,60,61,62,63,64,65,66,67,68,69,70,71,72,73,74,75,76,77,78,79,80,81,82,83,84,85,86,87,88,89,90,91,92,93,94,95,96,97,98,99],\"xaxis\":\"x\",\"y\":[2.275343418121338,1.8822754621505737,1.2603377103805542,0.9461345672607422,0.784965991973877,0.669501781463623,0.5856070518493652,0.523329496383667,0.4778892993927002,0.43801650404930115,0.4092811644077301,0.3783526122570038,0.3597971796989441,0.3371388614177704,0.31984755396842957,0.3053607642650604,0.28718817234039307,0.27831903100013733,0.26318126916885376,0.25692227482795715,0.24672795832157135,0.23564255237579346,0.2311670035123825,0.22286297380924225,0.212682843208313,0.20928382873535156,0.20479357242584229,0.19753716886043549,0.1893484890460968,0.18491581082344055,0.18165741860866547,0.1812504231929779,0.17424750328063965,0.1703110784292221,0.1683477908372879,0.16663891077041626,0.15792492032051086,0.15875877439975739,0.15550677478313446,0.15216860175132751,0.14799238741397858,0.14463330805301666,0.14761251211166382,0.1379181295633316,0.13990217447280884,0.13609671592712402,0.1339889019727707,0.1330987811088562,0.13038477301597595,0.1321803331375122,0.12653617560863495,0.12477527558803558,0.12344415485858917,0.12119802087545395,0.12009153515100479,0.11819159984588623,0.11471287161111832,0.11313449591398239,0.11558741331100464,0.10944024473428726,0.1058759018778801,0.11108947545289993,0.10847701132297516,0.10532424598932266,0.10404185950756073,0.10375147312879562,0.10077369213104248,0.10118763148784637,0.09862522035837173,0.09857107698917389,0.09524983912706375,0.09301817417144775,0.09781459718942642,0.09566924721002579,0.0929059386253357,0.09409613907337189,0.0886140763759613,0.09202592074871063,0.09226838499307632,0.0885104387998581,0.0923440158367157,0.08849049359560013,0.08594833314418793,0.08622981607913971,0.0879584401845932,0.08458073437213898,0.08420398831367493,0.0846545547246933,0.0853404849767685,0.08401478826999664,0.08062860369682312,0.08085621148347855,0.08271784335374832,0.08328597247600555,0.07855825871229172,0.07652360200881958,0.07351050525903702,0.07355237007141113,0.07341323047876358,0.0724734514951706],\"yaxis\":\"y\",\"type\":\"scatter\"}],                        {\"template\":{\"data\":{\"histogram2dcontour\":[{\"type\":\"histogram2dcontour\",\"colorbar\":{\"outlinewidth\":0,\"ticks\":\"\"},\"colorscale\":[[0.0,\"#0d0887\"],[0.1111111111111111,\"#46039f\"],[0.2222222222222222,\"#7201a8\"],[0.3333333333333333,\"#9c179e\"],[0.4444444444444444,\"#bd3786\"],[0.5555555555555556,\"#d8576b\"],[0.6666666666666666,\"#ed7953\"],[0.7777777777777778,\"#fb9f3a\"],[0.8888888888888888,\"#fdca26\"],[1.0,\"#f0f921\"]]}],\"choropleth\":[{\"type\":\"choropleth\",\"colorbar\":{\"outlinewidth\":0,\"ticks\":\"\"}}],\"histogram2d\":[{\"type\":\"histogram2d\",\"colorbar\":{\"outlinewidth\":0,\"ticks\":\"\"},\"colorscale\":[[0.0,\"#0d0887\"],[0.1111111111111111,\"#46039f\"],[0.2222222222222222,\"#7201a8\"],[0.3333333333333333,\"#9c179e\"],[0.4444444444444444,\"#bd3786\"],[0.5555555555555556,\"#d8576b\"],[0.6666666666666666,\"#ed7953\"],[0.7777777777777778,\"#fb9f3a\"],[0.8888888888888888,\"#fdca26\"],[1.0,\"#f0f921\"]]}],\"heatmap\":[{\"type\":\"heatmap\",\"colorbar\":{\"outlinewidth\":0,\"ticks\":\"\"},\"colorscale\":[[0.0,\"#0d0887\"],[0.1111111111111111,\"#46039f\"],[0.2222222222222222,\"#7201a8\"],[0.3333333333333333,\"#9c179e\"],[0.4444444444444444,\"#bd3786\"],[0.5555555555555556,\"#d8576b\"],[0.6666666666666666,\"#ed7953\"],[0.7777777777777778,\"#fb9f3a\"],[0.8888888888888888,\"#fdca26\"],[1.0,\"#f0f921\"]]}],\"heatmapgl\":[{\"type\":\"heatmapgl\",\"colorbar\":{\"outlinewidth\":0,\"ticks\":\"\"},\"colorscale\":[[0.0,\"#0d0887\"],[0.1111111111111111,\"#46039f\"],[0.2222222222222222,\"#7201a8\"],[0.3333333333333333,\"#9c179e\"],[0.4444444444444444,\"#bd3786\"],[0.5555555555555556,\"#d8576b\"],[0.6666666666666666,\"#ed7953\"],[0.7777777777777778,\"#fb9f3a\"],[0.8888888888888888,\"#fdca26\"],[1.0,\"#f0f921\"]]}],\"contourcarpet\":[{\"type\":\"contourcarpet\",\"colorbar\":{\"outlinewidth\":0,\"ticks\":\"\"}}],\"contour\":[{\"type\":\"contour\",\"colorbar\":{\"outlinewidth\":0,\"ticks\":\"\"},\"colorscale\":[[0.0,\"#0d0887\"],[0.1111111111111111,\"#46039f\"],[0.2222222222222222,\"#7201a8\"],[0.3333333333333333,\"#9c179e\"],[0.4444444444444444,\"#bd3786\"],[0.5555555555555556,\"#d8576b\"],[0.6666666666666666,\"#ed7953\"],[0.7777777777777778,\"#fb9f3a\"],[0.8888888888888888,\"#fdca26\"],[1.0,\"#f0f921\"]]}],\"surface\":[{\"type\":\"surface\",\"colorbar\":{\"outlinewidth\":0,\"ticks\":\"\"},\"colorscale\":[[0.0,\"#0d0887\"],[0.1111111111111111,\"#46039f\"],[0.2222222222222222,\"#7201a8\"],[0.3333333333333333,\"#9c179e\"],[0.4444444444444444,\"#bd3786\"],[0.5555555555555556,\"#d8576b\"],[0.6666666666666666,\"#ed7953\"],[0.7777777777777778,\"#fb9f3a\"],[0.8888888888888888,\"#fdca26\"],[1.0,\"#f0f921\"]]}],\"mesh3d\":[{\"type\":\"mesh3d\",\"colorbar\":{\"outlinewidth\":0,\"ticks\":\"\"}}],\"scatter\":[{\"fillpattern\":{\"fillmode\":\"overlay\",\"size\":10,\"solidity\":0.2},\"type\":\"scatter\"}],\"parcoords\":[{\"type\":\"parcoords\",\"line\":{\"colorbar\":{\"outlinewidth\":0,\"ticks\":\"\"}}}],\"scatterpolargl\":[{\"type\":\"scatterpolargl\",\"marker\":{\"colorbar\":{\"outlinewidth\":0,\"ticks\":\"\"}}}],\"bar\":[{\"error_x\":{\"color\":\"#2a3f5f\"},\"error_y\":{\"color\":\"#2a3f5f\"},\"marker\":{\"line\":{\"color\":\"#E5ECF6\",\"width\":0.5},\"pattern\":{\"fillmode\":\"overlay\",\"size\":10,\"solidity\":0.2}},\"type\":\"bar\"}],\"scattergeo\":[{\"type\":\"scattergeo\",\"marker\":{\"colorbar\":{\"outlinewidth\":0,\"ticks\":\"\"}}}],\"scatterpolar\":[{\"type\":\"scatterpolar\",\"marker\":{\"colorbar\":{\"outlinewidth\":0,\"ticks\":\"\"}}}],\"histogram\":[{\"marker\":{\"pattern\":{\"fillmode\":\"overlay\",\"size\":10,\"solidity\":0.2}},\"type\":\"histogram\"}],\"scattergl\":[{\"type\":\"scattergl\",\"marker\":{\"colorbar\":{\"outlinewidth\":0,\"ticks\":\"\"}}}],\"scatter3d\":[{\"type\":\"scatter3d\",\"line\":{\"colorbar\":{\"outlinewidth\":0,\"ticks\":\"\"}},\"marker\":{\"colorbar\":{\"outlinewidth\":0,\"ticks\":\"\"}}}],\"scattermapbox\":[{\"type\":\"scattermapbox\",\"marker\":{\"colorbar\":{\"outlinewidth\":0,\"ticks\":\"\"}}}],\"scatterternary\":[{\"type\":\"scatterternary\",\"marker\":{\"colorbar\":{\"outlinewidth\":0,\"ticks\":\"\"}}}],\"scattercarpet\":[{\"type\":\"scattercarpet\",\"marker\":{\"colorbar\":{\"outlinewidth\":0,\"ticks\":\"\"}}}],\"carpet\":[{\"aaxis\":{\"endlinecolor\":\"#2a3f5f\",\"gridcolor\":\"white\",\"linecolor\":\"white\",\"minorgridcolor\":\"white\",\"startlinecolor\":\"#2a3f5f\"},\"baxis\":{\"endlinecolor\":\"#2a3f5f\",\"gridcolor\":\"white\",\"linecolor\":\"white\",\"minorgridcolor\":\"white\",\"startlinecolor\":\"#2a3f5f\"},\"type\":\"carpet\"}],\"table\":[{\"cells\":{\"fill\":{\"color\":\"#EBF0F8\"},\"line\":{\"color\":\"white\"}},\"header\":{\"fill\":{\"color\":\"#C8D4E3\"},\"line\":{\"color\":\"white\"}},\"type\":\"table\"}],\"barpolar\":[{\"marker\":{\"line\":{\"color\":\"#E5ECF6\",\"width\":0.5},\"pattern\":{\"fillmode\":\"overlay\",\"size\":10,\"solidity\":0.2}},\"type\":\"barpolar\"}],\"pie\":[{\"automargin\":true,\"type\":\"pie\"}]},\"layout\":{\"autotypenumbers\":\"strict\",\"colorway\":[\"#636efa\",\"#EF553B\",\"#00cc96\",\"#ab63fa\",\"#FFA15A\",\"#19d3f3\",\"#FF6692\",\"#B6E880\",\"#FF97FF\",\"#FECB52\"],\"font\":{\"color\":\"#2a3f5f\"},\"hovermode\":\"closest\",\"hoverlabel\":{\"align\":\"left\"},\"paper_bgcolor\":\"white\",\"plot_bgcolor\":\"#E5ECF6\",\"polar\":{\"bgcolor\":\"#E5ECF6\",\"angularaxis\":{\"gridcolor\":\"white\",\"linecolor\":\"white\",\"ticks\":\"\"},\"radialaxis\":{\"gridcolor\":\"white\",\"linecolor\":\"white\",\"ticks\":\"\"}},\"ternary\":{\"bgcolor\":\"#E5ECF6\",\"aaxis\":{\"gridcolor\":\"white\",\"linecolor\":\"white\",\"ticks\":\"\"},\"baxis\":{\"gridcolor\":\"white\",\"linecolor\":\"white\",\"ticks\":\"\"},\"caxis\":{\"gridcolor\":\"white\",\"linecolor\":\"white\",\"ticks\":\"\"}},\"coloraxis\":{\"colorbar\":{\"outlinewidth\":0,\"ticks\":\"\"}},\"colorscale\":{\"sequential\":[[0.0,\"#0d0887\"],[0.1111111111111111,\"#46039f\"],[0.2222222222222222,\"#7201a8\"],[0.3333333333333333,\"#9c179e\"],[0.4444444444444444,\"#bd3786\"],[0.5555555555555556,\"#d8576b\"],[0.6666666666666666,\"#ed7953\"],[0.7777777777777778,\"#fb9f3a\"],[0.8888888888888888,\"#fdca26\"],[1.0,\"#f0f921\"]],\"sequentialminus\":[[0.0,\"#0d0887\"],[0.1111111111111111,\"#46039f\"],[0.2222222222222222,\"#7201a8\"],[0.3333333333333333,\"#9c179e\"],[0.4444444444444444,\"#bd3786\"],[0.5555555555555556,\"#d8576b\"],[0.6666666666666666,\"#ed7953\"],[0.7777777777777778,\"#fb9f3a\"],[0.8888888888888888,\"#fdca26\"],[1.0,\"#f0f921\"]],\"diverging\":[[0,\"#8e0152\"],[0.1,\"#c51b7d\"],[0.2,\"#de77ae\"],[0.3,\"#f1b6da\"],[0.4,\"#fde0ef\"],[0.5,\"#f7f7f7\"],[0.6,\"#e6f5d0\"],[0.7,\"#b8e186\"],[0.8,\"#7fbc41\"],[0.9,\"#4d9221\"],[1,\"#276419\"]]},\"xaxis\":{\"gridcolor\":\"white\",\"linecolor\":\"white\",\"ticks\":\"\",\"title\":{\"standoff\":15},\"zerolinecolor\":\"white\",\"automargin\":true,\"zerolinewidth\":2},\"yaxis\":{\"gridcolor\":\"white\",\"linecolor\":\"white\",\"ticks\":\"\",\"title\":{\"standoff\":15},\"zerolinecolor\":\"white\",\"automargin\":true,\"zerolinewidth\":2},\"scene\":{\"xaxis\":{\"backgroundcolor\":\"#E5ECF6\",\"gridcolor\":\"white\",\"linecolor\":\"white\",\"showbackground\":true,\"ticks\":\"\",\"zerolinecolor\":\"white\",\"gridwidth\":2},\"yaxis\":{\"backgroundcolor\":\"#E5ECF6\",\"gridcolor\":\"white\",\"linecolor\":\"white\",\"showbackground\":true,\"ticks\":\"\",\"zerolinecolor\":\"white\",\"gridwidth\":2},\"zaxis\":{\"backgroundcolor\":\"#E5ECF6\",\"gridcolor\":\"white\",\"linecolor\":\"white\",\"showbackground\":true,\"ticks\":\"\",\"zerolinecolor\":\"white\",\"gridwidth\":2}},\"shapedefaults\":{\"line\":{\"color\":\"#2a3f5f\"}},\"annotationdefaults\":{\"arrowcolor\":\"#2a3f5f\",\"arrowhead\":0,\"arrowwidth\":1},\"geo\":{\"bgcolor\":\"white\",\"landcolor\":\"#E5ECF6\",\"subunitcolor\":\"white\",\"showland\":true,\"showlakes\":true,\"lakecolor\":\"white\"},\"title\":{\"x\":0.05},\"mapbox\":{\"style\":\"light\"}}},\"xaxis\":{\"anchor\":\"y\",\"domain\":[0.0,1.0],\"title\":{\"text\":\"x\"}},\"yaxis\":{\"anchor\":\"x\",\"domain\":[0.0,1.0],\"title\":{\"text\":\"y\"}},\"legend\":{\"tracegroupgap\":0},\"title\":{\"text\":\"Loss\"}},                        {\"responsive\": true}                    ).then(function(){\n",
              "                            \n",
              "var gd = document.getElementById('b016aab2-58ea-46e0-a5a2-45b686718ca0');\n",
              "var x = new MutationObserver(function (mutations, observer) {{\n",
              "        var display = window.getComputedStyle(gd).display;\n",
              "        if (!display || display === 'none') {{\n",
              "            console.log([gd, 'removed!']);\n",
              "            Plotly.purge(gd);\n",
              "            observer.disconnect();\n",
              "        }}\n",
              "}});\n",
              "\n",
              "// Listen for the removal of the full notebook cells\n",
              "var notebookContainer = gd.closest('#notebook-container');\n",
              "if (notebookContainer) {{\n",
              "    x.observe(notebookContainer, {childList: true});\n",
              "}}\n",
              "\n",
              "// Listen for the clearing of the current output cell\n",
              "var outputEl = gd.closest('.output');\n",
              "if (outputEl) {{\n",
              "    x.observe(outputEl, {childList: true});\n",
              "}}\n",
              "\n",
              "                        })                };                            </script>        </div>\n",
              "</body>\n",
              "</html>"
            ]
          },
          "metadata": {}
        }
      ]
    },
    {
      "cell_type": "markdown",
      "metadata": {
        "id": "hxtnqzNxI3YW"
      },
      "source": [
        "## Predictions for your images\n",
        "  Use self written digits by uploading on Google Drive to predict and validate mode results\n",
        "\n",
        "\n"
      ]
    },
    {
      "cell_type": "code",
      "metadata": {
        "id": "VghDa4U7u-xS",
        "colab": {
          "base_uri": "https://localhost:8080/"
        },
        "outputId": "925156ea-fc78-4605-ac96-dbc22685838b"
      },
      "source": [
        "from google.colab import drive\n",
        "drive.mount('/content/drive/')\n"
      ],
      "execution_count": 33,
      "outputs": [
        {
          "output_type": "stream",
          "name": "stdout",
          "text": [
            "Mounted at /content/drive/\n"
          ]
        }
      ]
    },
    {
      "cell_type": "code",
      "metadata": {
        "id": "lIa-iyE0vCOm",
        "colab": {
          "base_uri": "https://localhost:8080/"
        },
        "outputId": "d57c46a7-8f22-4b46-cf5b-e8af2759800b"
      },
      "source": [
        "%cd /content/drive/My Drive/ #specify file path"
      ],
      "execution_count": 34,
      "outputs": [
        {
          "output_type": "stream",
          "name": "stdout",
          "text": [
            "/content/drive/My Drive/Colab Notebooks/ML_and_NN_course/module 3\n"
          ]
        }
      ]
    },
    {
      "cell_type": "markdown",
      "source": [
        "## Prediction Function"
      ],
      "metadata": {
        "id": "_dMiU9QDRnfh"
      }
    },
    {
      "cell_type": "code",
      "metadata": {
        "id": "Oy9q-a43I3Yx"
      },
      "source": [
        "\n",
        "def predict(img_path,model,con_dest='converted_img.jpg',threshold=135):\n",
        "    num=cv2.imread(img_path)\n",
        "    num=cv2.cvtColor(num, cv2.COLOR_BGR2GRAY)\n",
        "    #num.resize(28,28)\n",
        "    (thresh, num) = cv2.threshold(num, threshold, 255, cv2.THRESH_BINARY_INV)\n",
        "\n",
        "\n",
        "    cv2.imwrite(con_dest,num)\n",
        "\n",
        "    img = image.load_img(con_dest,color_mode = \"grayscale\",target_size=(28,28))\n",
        "    plt.imshow(img)\n",
        "    plt.title(\"Converted Image for Prediction\")\n",
        "    plt.show()\n",
        "    img = image.img_to_array(img)\n",
        "    test_img = (img.reshape((1,784)))/255.0\n",
        "    ans=model.predict(test_img)\n",
        "\n",
        "    print('Predictions for each class', ans)\n",
        "    print('Predicted value is '+ str(np.argmax(ans)))"
      ],
      "execution_count": 37,
      "outputs": []
    },
    {
      "cell_type": "code",
      "metadata": {
        "id": "30VSJmbCI3Y7",
        "colab": {
          "base_uri": "https://localhost:8080/",
          "height": 504
        },
        "outputId": "6fe18c17-0f06-42bb-87cb-c3e6c1eca2b4"
      },
      "source": [
        "predict('imagepath',model=model,con_dest='imagepath') #specify image path"
      ],
      "execution_count": 38,
      "outputs": [
        {
          "output_type": "display_data",
          "data": {
            "text/plain": [
              "<Figure size 640x480 with 1 Axes>"
            ],
            "image/png": "[encoded data removed]"
          },
          "metadata": {}
        },
        {
          "output_type": "stream",
          "name": "stdout",
          "text": [
            "1/1 [==============================] - 0s 129ms/step\n",
            "Predictions for each class [[0. 0. 0. 1. 0. 0. 0. 0. 0. 0.]]\n",
            "Predicted value is 3\n"
          ]
        }
      ]
    },
    {
      "cell_type": "code",
      "metadata": {
        "id": "634gmJLtI3ZG"
      },
      "source": [],
      "execution_count": null,
      "outputs": []
    }
  ]
}
